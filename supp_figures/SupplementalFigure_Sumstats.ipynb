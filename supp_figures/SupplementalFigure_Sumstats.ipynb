{
 "cells": [
  {
   "cell_type": "code",
   "execution_count": 31,
   "metadata": {},
   "outputs": [
    {
     "name": "stdout",
     "output_type": "stream",
     "text": [
      "Populating the interactive namespace from numpy and matplotlib\n"
     ]
    }
   ],
   "source": [
    "%pylab inline\n",
    "import matplotlib\n",
    "from matplotlib import pyplot as plt\n",
    "matplotlib.rcParams['pdf.fonttype'] = 42\n",
    "matplotlib.rcParams['ps.fonttype'] = 42\n",
    "import sys\n",
    "sys.path.append(\"/storage/BonnieH/selection_project/helper_functions\")\n",
    "from Simulation_functions import *\n",
    "from ABC_functions import *\n",
    "from LRT_functions import *\n",
    "from scipy import stats\n",
    "PLOTDIR='/storage/BonnieH/selection_project/supp_figures/figures/summ_stats/'"
   ]
  },
  {
   "cell_type": "code",
   "execution_count": 32,
   "metadata": {},
   "outputs": [],
   "source": [
    "def plot_figure(fig_num, per, opt_allele, y_pos, objects, suffix_list, avg_summ_stats, std_err_summ_stats, diff_min, diff_max, fig_type):\n",
    "    \n",
    "    title_dic ={}\n",
    "    \n",
    "    title_dic['het'] = 'Heterozygosity'\n",
    "    title_dic['common'] = 'Number common alleles'\n",
    "    title_dic['bins'] = 'Bins'\n",
    "    print(fig_num)\n",
    "    plt.figure(fig_num)\n",
    "    y_label = ''\n",
    "    title = ''\n",
    "    filename = ''\n",
    "    error = 'range'\n",
    "    y_label = \"Mean \" + title_dic[suffix_list]\n",
    "    \n",
    "    if fig_type == 0:\n",
    "    \n",
    "        plt.errorbar(y_pos, avg_summ_stats, yerr=[diff_min,diff_max], marker = 'o') \n",
    "        \n",
    "    if fig_type == 1:\n",
    "        plt.errorbar(y_pos, avg_summ_stats, yerr=std_err_summ_stats, marker = 'o')\n",
    "        error = 'sd'\n",
    "    \n",
    "    if fig_type == 2:\n",
    "        for opt in opt_allele:\n",
    "            plt.errorbar(y_pos, avg_summ_stats[opt], marker = 'o', label = str(opt))\n",
    "        error = ''\n",
    "        opt_allele = ''.join(str(item) for item in opt_allele)\n",
    "        plt.legend()\n",
    "        \n",
    "    plt.xticks(y_pos, objects)\n",
    "    plt.xticks(rotation=70)\n",
    "    plt.xlabel(\"S value\")\n",
    "    plt.ylabel(y_label)\n",
    "           \n",
    "    if fig_type== 2:\n",
    "        plt.title(\"%s v. s\"%(title_dic[suffix_list]))\n",
    "    else:\n",
    "        plt.title(\"%s v. s \\n Per=%d; Opt allele=%s\\n Error bars = %s\"%(title_dic[suffix_list], per, str(opt_allele), error))\n",
    "    #plt.savefig('%s%s_per_%d_opt_%d_error_%s.pdf'%(PLOTDIR, suffix_list,per, optimal_ru, error), bbox_inches='tight')\n",
    "    plt.savefig(PLOTDIR + 'common_v_s_trinuc.pdf', bbox_inches='tight')"
   ]
  },
  {
   "cell_type": "code",
   "execution_count": 33,
   "metadata": {},
   "outputs": [],
   "source": [
    "def GraphIndiv(per, opt_alleles):\n",
    "    optimal_ru_list = list(opt_alleles.split(','))\n",
    "    optimal_ru_list = list(map(int, optimal_ru_list))\n",
    "    suffix_list = ['het','common']\n",
    "    \n",
    "    svals = [0, 10**-6, 10**-5, 10**-4, 10**-3, 0.004, 0.007, 0.01, 0.04, 0.07, 0.1, 0.15, 0.2, 0.4, 0.7, 1]\n",
    "    fig_num = 0\n",
    "    for optimal_ru in optimal_ru_list:\n",
    "        avg_summ_stats = [[],[],[]]\n",
    "        std_err_summ_stats = [[],[],[]]\n",
    "        min_summ_stats = [[],[],[]]\n",
    "        max_summ_stats = [[],[],[]]\n",
    "\n",
    "        for s in svals:\n",
    "        \n",
    "            file_prefix = '/gymreklab-tscc/bonnieh/lrt/results/' + 'euro_valid' + '/' + str(per) + '_' + str(optimal_ru)\n",
    "\n",
    "            list_of_lists = GetAllLRTLists(file_prefix, suffix_list,s)\n",
    "\n",
    "            for i in range(0, len(list_of_lists)):\n",
    "                summ_stat_list = list_of_lists[i]\n",
    "                avg = np.mean(summ_stat_list)\n",
    "                avg_summ_stats[i].append(avg)\n",
    "\n",
    "                std_err = stats.sem(summ_stat_list)\n",
    "                std_err_summ_stats[i].append(std_err)\n",
    "\n",
    "                min_summ_stats[i].append(min(summ_stat_list))\n",
    "                max_summ_stats[i].append(max(summ_stat_list))\n",
    "\n",
    "        objects = ('0', '10**-6', '10**-5', '10**-4', '0.001', '0.004', '0.007', '0.01', '0.04', '0.07', '0.1', '0.15', '0.2', '0.4', '0.7', '1')\n",
    "        y_pos = np.arange(len(objects))\n",
    "\n",
    "\n",
    "        for i in range(0, len(suffix_list)):\n",
    "\n",
    "            diff_min = []\n",
    "            diff_max = []\n",
    "\n",
    "\n",
    "            zip_object = zip(avg_summ_stats[i], min_summ_stats[i])\n",
    "            for list1_i, list2_i in zip_object:\n",
    "                diff_min.append(list1_i-list2_i)\n",
    "\n",
    "            zip_object = zip(avg_summ_stats[i], max_summ_stats[i])\n",
    "            for list1_i, list2_i in zip_object:\n",
    "                diff_max.append(list2_i-list1_i)\n",
    "            \n",
    "                \n",
    "            fig_types = [0]\n",
    "            for fig_type in fig_types:\n",
    "                fig_num = fig_num + 1\n",
    "                print(fig_num)\n",
    "                plot_figure(fig_num, per, optimal_ru, y_pos, objects, suffix_list[i], avg_summ_stats[i], std_err_summ_stats[i], diff_min, diff_max, fig_type)"
   ]
  },
  {
   "cell_type": "code",
   "execution_count": 34,
   "metadata": {},
   "outputs": [],
   "source": [
    "def GraphMult(per, opt_alleles):\n",
    "    opt_alleles_list = list(opt_alleles.split(','))\n",
    "    opt_alleles_list = list(map(int, opt_alleles_list))\n",
    "    suffix_list = ['het','common']\n",
    "    \n",
    "    svals = [0, 10**-6, 10**-5, 10**-4, 10**-3, 0.004, 0.007, 0.01, 0.04, 0.07, 0.1, 0.15, 0.2, 0.4, 0.7, 1]\n",
    "    fig_num = 0\n",
    "    mean_het = {}\n",
    "    mean_common = {}\n",
    "    for opt_allele in opt_alleles_list:\n",
    "        mean_het[opt_allele] = []\n",
    "        mean_common[opt_allele] = []\n",
    "        \n",
    "        for s in svals:\n",
    "            \n",
    "            file_prefix = '/gymreklab-tscc/bonnieh/lrt/results/' + 'euro_valid' + '/' + str(per) + '_' + str(opt_allele)\n",
    "\n",
    "            list_of_lists = GetAllLRTLists(file_prefix, suffix_list,s)\n",
    "\n",
    "            het_list = list_of_lists[0]\n",
    "            mean = np.mean(het_list)\n",
    "            mean_het[opt_allele].append(mean)\n",
    "            \n",
    "            common_list = list_of_lists[1]\n",
    "            mean = np.mean(common_list)\n",
    "            mean_common[opt_allele].append(mean)\n",
    "            \n",
    "    objects = ('0', '10**-6', '10**-5', '10**-4', '0.001', '0.004', '0.007', '0.01', '0.04', '0.07', '0.1', '0.15', '0.2', '0.4', '0.7', '1')\n",
    "    y_pos = np.arange(len(objects))\n",
    "\n",
    "    #plot_figure(1, per, opt_alleles_list, y_pos, objects, 'het', mean_het, 0, 0, 0, 2)\n",
    "    plot_figure(2, per, opt_alleles_list, y_pos, objects, 'common', mean_common, 0, 0, 0, 2)"
   ]
  },
  {
   "cell_type": "code",
   "execution_count": 35,
   "metadata": {},
   "outputs": [],
   "source": [
    "def main():\n",
    "    \n",
    "    # Load parameters\n",
    "    \n",
    "    per = 3\n",
    "    #optimal_alleles = ['5','6','7','8','9','10','11','12','5,6,7,8,9,10,11,12','8,9,10,11,12']\n",
    "    opt_alleles = '5,6,7,8,9,10,11,12'\n",
    "    \n",
    "    #for optimal_allele in optimal_alleles:\n",
    "    #GraphIndiv(per, opt_alleles)\n",
    "    GraphMult(per, opt_alleles)"
   ]
  },
  {
   "cell_type": "code",
   "execution_count": 36,
   "metadata": {},
   "outputs": [
    {
     "name": "stdout",
     "output_type": "stream",
     "text": [
      "2\n",
      "CPU times: user 667 ms, sys: 33.6 ms, total: 700 ms\n",
      "Wall time: 926 ms\n"
     ]
    },
    {
     "data": {
      "image/png": "[encoded data removed]",
      "text/plain": [
       "<Figure size 432x288 with 1 Axes>"
      ]
     },
     "metadata": {
      "needs_background": "light"
     },
     "output_type": "display_data"
    }
   ],
   "source": [
    "%%time\n",
    "if __name__ == '__main__':\n",
    "    main()"
   ]
  }
 ],
 "metadata": {
  "kernelspec": {
   "display_name": "Python 3",
   "language": "python",
   "name": "python3"
  },
  "language_info": {
   "codemirror_mode": {
    "name": "ipython",
    "version": 3
   },
   "file_extension": ".py",
   "mimetype": "text/x-python",
   "name": "python",
   "nbconvert_exporter": "python",
   "pygments_lexer": "ipython3",
   "version": "3.7.4"
  }
 },
 "nbformat": 4,
 "nbformat_minor": 2
}
