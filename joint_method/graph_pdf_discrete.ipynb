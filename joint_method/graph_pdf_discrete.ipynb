{
 "cells": [
  {
   "cell_type": "code",
   "execution_count": 28,
   "metadata": {},
   "outputs": [
    {
     "name": "stdout",
     "output_type": "stream",
     "text": [
      "Populating the interactive namespace from numpy and matplotlib\n"
     ]
    }
   ],
   "source": [
    "%pylab inline\n",
    "\n",
    "import glob\n",
    "import matplotlib\n",
    "\n",
    "import numpy as np\n",
    "from scipy.stats import gamma\n",
    "from matplotlib import pyplot as plt\n",
    "matplotlib.rcParams['pdf.fonttype'] = 42\n",
    "matplotlib.rcParams['ps.fonttype'] = 42\n",
    "import random\n",
    "import scipy.stats as st"
   ]
  },
  {
   "cell_type": "code",
   "execution_count": 29,
   "metadata": {},
   "outputs": [],
   "source": [
    "def main():\n",
    "    \n",
    "    per = 2\n",
    "    means = [10**-5, 10**-4, 10**-3, 10**-2]\n",
    "    final_file_list = []\n",
    "    for mean in means:\n",
    "        file_list = glob.glob('./results/validation/single_sim/per_%d*_%.5f.txt'%(per, mean)) # narrow_prior \n",
    "        file = random.choice(file_list)\n",
    "        final_file_list.append(file)\n",
    "    #file_list = glob.glob('./results/validation/single_sim/*423.txt') \n",
    "    #file_list = glob.glob('./results/validation/*2000_validation.txt') \n",
    "    #file_list = glob.glob('./results/validation/0710/*n_524.txt') \n",
    "    string = 'Gamma probability distribution functions'\n",
    "    save = 'gamma_pdfs'\n",
    "    final_file_list = final_file_list[0:1]\n",
    "    color_dic = {}\n",
    "    color_list = ['red','orange','green','blue','purple','black']\n",
    "    for i in range(0, len(final_file_list)): \n",
    "        color_dic[final_file_list[i]] = color_list[i]\n",
    "    \n",
    "    \n",
    "    #num_sims = 5000\n",
    "    fig, ax = plt.subplots(figsize=(10, 5))\n",
    "    #buckets = [0, 10**-5, 10**-4, 10**-3, 10**-2, 1]\n",
    "    #x = np.linspace(0, 1, 100000) #1E-6\n",
    "    #fig, ax = plt.subplots(figsize=(5, 3.75))\n",
    "    \n",
    "    for inFile in final_file_list:\n",
    "        allele_freqs_file = open(inFile, 'r')\n",
    "        lines = allele_freqs_file.readlines()\n",
    "   \n",
    "        line = lines[1]       \n",
    "        info = line.strip().split(' ')\n",
    "        act_k = float(info[7])\n",
    "        act_theta = float(info[10])\n",
    "        \n",
    "        #line= lines[11] ### CHANGE THIS TO CHANGE ESTIMATION OF K, THETA\n",
    "        #info = line.strip().split(',')\n",
    "        #k = float(info[0])\n",
    "        #theta = float(info[1])\n",
    "        \n",
    "        #dist = gamma(k, 0, theta)\n",
    "    \n",
    "        #plt.plot(x, dist.pdf(x), ls='dashed', c=color_dic[inFile],\n",
    "             #label=r'$k=%.4f,\\ \\theta=%.4f$' % (k, theta))\n",
    "        #plt.axvline(x=k*theta, color=color_dic[inFile], linestyle = 'dashed')\n",
    "        \n",
    "        #motif = 'k_' +str(round(k,4)) + '_theta_' + str(round(theta,4))\n",
    "        #n, bins, patches = ax.hist(s_vals, bins=buckets, density=True, histtype='step',\n",
    "                                   #cumulative=True, label='est_'+motif, color=color_dic[inFile], linestyle = 'dashed', linewidth = 2) # histtype='step',\n",
    "        \n",
    "        num_sims = 10000\n",
    "        s = []\n",
    "        for i in range(0, num_sims):\n",
    "            s_val = np.random.gamma(act_k, act_theta)\n",
    "            if s_val > 1:\n",
    "                s_val = 1\n",
    "        \n",
    "            s.append(s_val)\n",
    "        \n",
    "        plt.hist(s, density=True, bins=[0,10**-5,10**-4,10**-3,10**-2,10**-1,1], label=\"Data\")\n",
    "        mn, mx = plt.xlim()\n",
    "        plt.xlim(mn, mx)\n",
    "        kde_xs = np.linspace(mn, mx, 301)\n",
    "        kde = st.gaussian_kde(s)\n",
    "        plt.plot(kde_xs, kde.pdf(kde_xs), label=\"PDF\")\n",
    "        plt.legend(loc=\"upper left\")\n",
    "        plt.ylabel('Probability')\n",
    "        plt.xlabel('Data')\n",
    "        plt.title(\"Histogram\")\n",
    "        plt.xscale('log')\n",
    "\n",
    "        #dist = gamma(act_k, 0, act_theta)\n",
    "    \n",
    "        #plt.plot(x, dist.pdf(x), c=color_dic[inFile], label=r'$k=%.5f,\\ \\theta=%.5f$' % (act_k, act_theta))\n",
    "        #plt.axvline(x=act_k*act_theta, ls='dashed',color=color_dic[inFile])\n",
    "        #motif = 'k_'+str(round(act_k,4)) + '_theta_' + str(round(act_theta,4))\n",
    "        #n, bins, patches = ax.hist(s_vals, bins=buckets, density=True, histtype='step',\n",
    "                                   #cumulative=True, label='act_' + motif, color=color_dic[inFile]) \n",
    "    #plt.xlim(0, 0.4)\n",
    "    #plt.ylim(0, 0.3)\n",
    "    \n",
    "    #plt.xlabel('s')\n",
    "    #plt.ylabel(r'$p(x|k,\\theta)$')\n",
    "    # Label figure\n",
    "    #plt.legend(loc='best')\n",
    "    #plt.title(string)\n",
    "    #ax.set_xlabel('s',size=15)\n",
    "    #plt.xscale('log')\n",
    "    #ax.set_ylabel('Fraction of s',size=15)\n",
    "    #plt.xticks(fontsize=15) \n",
    "    #plt.yticks(fontsize=15)\n",
    "    #plt.savefig('/storage/BonnieH/selection_project/joint_method/figures/' + save + '.pdf',bbox_inches='tight')"
   ]
  },
  {
   "cell_type": "code",
   "execution_count": 30,
   "metadata": {},
   "outputs": [
    {
     "name": "stdout",
     "output_type": "stream",
     "text": [
      "CPU times: user 1.41 s, sys: 83.3 ms, total: 1.49 s\n",
      "Wall time: 1.59 s\n"
     ]
    },
    {
     "data": {
      "image/png": "[encoded data removed]",
      "text/plain": [
       "<Figure size 720x360 with 1 Axes>"
      ]
     },
     "metadata": {
      "needs_background": "light"
     },
     "output_type": "display_data"
    }
   ],
   "source": [
    "%%time\n",
    "if __name__ == '__main__':\n",
    "    main()"
   ]
  },
  {
   "cell_type": "code",
   "execution_count": null,
   "metadata": {},
   "outputs": [],
   "source": []
  }
 ],
 "metadata": {
  "kernelspec": {
   "display_name": "Python 3",
   "language": "python",
   "name": "python3"
  },
  "language_info": {
   "codemirror_mode": {
    "name": "ipython",
    "version": 3
   },
   "file_extension": ".py",
   "mimetype": "text/x-python",
   "name": "python",
   "nbconvert_exporter": "python",
   "pygments_lexer": "ipython3",
   "version": "3.7.4"
  }
 },
 "nbformat": 4,
 "nbformat_minor": 2
}
