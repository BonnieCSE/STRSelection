{
 "cells": [
  {
   "cell_type": "code",
   "execution_count": 7,
   "metadata": {},
   "outputs": [
    {
     "name": "stdout",
     "output_type": "stream",
     "text": [
      "0.46983308225449766\n"
     ]
    }
   ],
   "source": [
    "filename = '/storage/BonnieH/selection_project/joint_method/results/results/t21/per_2_6_AT_sims_50000_het_eps_20_20_20_comm_eps_10_10_10_num_loci_1000_opt_11.txt'\n",
    "results_file = open(filename, 'r')\n",
    "lines = results_file.readlines()\n",
    "mean_list = []\n",
    "for i in range(13, len(lines)):\n",
    "    \n",
    "    line = lines[i]       \n",
    "    info = line.strip().split(', ')\n",
    "    mean = info[0]\n",
    "    mean = mean[1:]\n",
    "    mean = float(mean)\n",
    "    mean_list.append(mean)\n",
    "print(max(mean_list))"
   ]
  },
  {
   "cell_type": "code",
   "execution_count": null,
   "metadata": {},
   "outputs": [],
   "source": []
  }
 ],
 "metadata": {
  "kernelspec": {
   "display_name": "Python 3",
   "language": "python",
   "name": "python3"
  },
  "language_info": {
   "codemirror_mode": {
    "name": "ipython",
    "version": 3
   },
   "file_extension": ".py",
   "mimetype": "text/x-python",
   "name": "python",
   "nbconvert_exporter": "python",
   "pygments_lexer": "ipython3",
   "version": "3.7.4"
  }
 },
 "nbformat": 4,
 "nbformat_minor": 2
}
