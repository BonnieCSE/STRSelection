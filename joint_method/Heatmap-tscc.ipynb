{
 "cells": [
  {
   "cell_type": "code",
   "execution_count": 21,
   "metadata": {},
   "outputs": [],
   "source": [
    "# This notebook plots heatmaps for mutation rate analysis"
   ]
  },
  {
   "cell_type": "code",
   "execution_count": 22,
   "metadata": {},
   "outputs": [
    {
     "name": "stdout",
     "output_type": "stream",
     "text": [
      "Populating the interactive namespace from numpy and matplotlib\n"
     ]
    }
   ],
   "source": [
    "%pylab inline\n",
    "import glob\n",
    "import matplotlib\n",
    "matplotlib.rcParams['pdf.fonttype'] = 42\n",
    "matplotlib.rcParams['ps.fonttype'] = 42\n",
    "import matplotlib.ticker as ticker\n",
    "import seaborn as sns"
   ]
  },
  {
   "cell_type": "code",
   "execution_count": 23,
   "metadata": {},
   "outputs": [],
   "source": [
    "# Different colormap options: 'binary', 'hot_r', 'Blues', 'YlGnBu', 'Greens', 'viridis', 'cool'\n",
    "def main():\n",
    "    colormap = 'hot_r'\n",
    "    folders = ['trii25','trii26','trii27','trii28']\n",
    "    num_files = 36 #Period 2: 30, Period 3: 72, Period 4: 36\n",
    "    per = 4\n",
    "    list_of_percents = []\n",
    "    \n",
    "    # Period 2 info\n",
    "    #list_opt = ['11','12','13','14','15','16','17','18','19','20']\n",
    "    #list_motifs = ['AC','AG','AT']\n",
    "    \n",
    "    # Period 3 info\n",
    "    #list_opt = ['05','06','07','08','09','10','11','12','13']\n",
    "    #list_motifs = ['ACC','AGG','AGC','CCG','AAG','AAC','ATC','AAT'] #['AAC','ACC','AGG','AAG','AAT']\n",
    "    \n",
    "    # Period 4 info\n",
    "    list_opt = ['07','08','09','10']\n",
    "    list_motifs = ['AAGG','AAAT','ATCC','AATC','AAAC','AATG','ACAT','AGAT','AAAG'] #['AAAC','AATG','AAAT']\n",
    "    \n",
    "    # Plot heatmap for each motif in given period\n",
    "    for folder in folders:\n",
    "        for motif in list_motifs:\n",
    "            for opt in list_opt:\n",
    "                file_list = glob.glob('/gymreklab-tscc/bonnieh/heatmap/results/%s/per_%d_*%s*opt_%s.txt'%(folder, per, motif, opt))\n",
    "                file_list.sort() \n",
    "                \n",
    "                if len(file_list) == 0:\n",
    "                    list_of_percents.append(0)\n",
    "                    \n",
    "                else:\n",
    "                    filename = file_list[0]\n",
    "                    results_file = open(filename, 'r')\n",
    "                    lines = results_file.readlines()\n",
    "                    if len(lines) < 10:\n",
    "                        list_of_percents.append(0)\n",
    "                    else:\n",
    "                        line = lines[9]\n",
    "                        info = line.strip().split(': ')\n",
    "                        num_acc = int(info[1])\n",
    "                        percent = num_acc \n",
    "                        list_of_percents.append(percent)\n",
    "                \n",
    "    transition_matrix = np.zeros((len(folders), num_files))\n",
    "    \n",
    "    counter = 0\n",
    "    \n",
    "    for i in range(len(folders)):\n",
    "        for j in range(num_files):\n",
    "            \n",
    "            transition_matrix[i,j] = list_of_percents[counter]\n",
    "            counter = counter + 1\n",
    "   \n",
    "    # Visualize heatmap\n",
    "    \n",
    "    print(transition_matrix)\n",
    "    #settings = [\"z\",\"a\", \"b\", \"c\", \"d\",\"e\"] # Mutation rate settings for period 2\n",
    "    settings = ['a','b','c','d'] # Mutation rate settings for periods 3 and 4\n",
    "    \n",
    "   \n",
    "    opt = []\n",
    "    for mot in list_motifs:\n",
    "        for opt_num in list_opt:\n",
    "            opt.append(mot + ' ' + opt_num)\n",
    "\n",
    "    fig = plt.figure(figsize = (15,3))\n",
    "    ax = fig.add_subplot(111)\n",
    "    im = ax.imshow(np.log10(transition_matrix),cmap=colormap)\n",
    "    cbar = fig.colorbar(im)\n",
    "    cbar.ax.set_ylabel('Log 10 of Number of ABC Acceptances')\n",
    "\n",
    "    # Show all ticks\n",
    "    ax.set_xticks(np.arange(len(opt)))\n",
    "    ax.set_yticks(np.arange(len(settings)))\n",
    "    \n",
    "    # Label ticks\n",
    "    ax.set_xticklabels(opt)\n",
    "    ax.set_yticklabels(settings)\n",
    "\n",
    "    # Rotate tick labels \n",
    "    plt.setp(ax.get_xticklabels(), rotation=45, ha=\"right\",\n",
    "             rotation_mode=\"anchor\")\n",
    "    plt.setp(ax.get_yticklabels(), ha=\"right\",\n",
    "             rotation_mode=\"anchor\")\n",
    "    ax.set_ylim(3.5,-0.5) # x=5.5 for period 2, x=3.5 for periods 3 and 4\n",
    "    '''\n",
    "    # Loop over data and create text annotations\n",
    "    for i in range(len(settings)):\n",
    "        for j in range(len(opt)):\n",
    "            text = ax.text(j, i, transition_matrix[i, j],\n",
    "                           ha=\"center\", va=\"center\", color=\"w\")\n",
    "    '''\n",
    "    ax.set_title(\"Dependence of ABC acceptance rates \\n on mutation rates\")\n",
    "    fig.tight_layout()\n",
    "    ax.set_xlabel('Motif and Optimal allele')\n",
    "    ax.set_ylabel('Mutation rate setting')\n",
    "    plt.savefig(\"heatmap.png\")\n",
    "    plt.show()\n",
    "    \n",
    "    #plt.savefig(PLOTDIR + 'mutation_matrix/with_eps/mutation_matrix_%s_beta_%.2f_p_%.2f_mu_%.2E_L_%.2f.pdf'%(colormap, beta, p, mu, L), bbox_inches='tight')"
   ]
  },
  {
   "cell_type": "code",
   "execution_count": 24,
   "metadata": {},
   "outputs": [
    {
     "name": "stdout",
     "output_type": "stream",
     "text": [
      "[[1.890e+02 0.000e+00 1.000e+00 3.800e+01 1.650e+02 2.230e+02 5.871e+03\n",
      "  3.800e+02 3.300e+01 1.500e+01 1.190e+02 3.700e+01 1.000e+00 3.400e+01\n",
      "  1.670e+02 5.060e+03 0.000e+00 1.000e+00 4.500e+01 8.070e+02 3.800e+01\n",
      "  0.000e+00 2.550e+02 3.430e+02 7.100e+01 1.290e+03 1.790e+02 1.300e+01\n",
      "  0.000e+00 0.000e+00 1.000e+00 8.835e+03 5.000e+00 2.000e+00 1.140e+02\n",
      "  1.200e+01]\n",
      " [6.900e+02 9.000e+00 1.670e+02 3.300e+01 1.440e+02 9.959e+03 3.520e+02\n",
      "  3.170e+02 2.300e+01 1.600e+01 1.200e+01 3.700e+01 0.000e+00 1.200e+01\n",
      "  3.300e+01 4.231e+03 0.000e+00 0.000e+00 0.000e+00 4.560e+02 3.600e+01\n",
      "  0.000e+00 8.400e+01 2.090e+02 5.200e+01 1.033e+03 3.400e+01 1.200e+01\n",
      "  0.000e+00 0.000e+00 9.500e+02 1.601e+03 1.200e+01 5.000e+00 1.248e+03\n",
      "  1.900e+01]\n",
      " [8.010e+02 0.000e+00 0.000e+00 7.000e+00 0.000e+00 0.000e+00 1.688e+03\n",
      "  3.920e+02 1.700e+02 4.600e+01 7.700e+01 4.400e+01 9.600e+01 7.260e+02\n",
      "  1.230e+02 4.830e+03 1.603e+03 6.240e+02 2.400e+01 5.970e+02 6.290e+02\n",
      "  1.220e+02 3.400e+02 2.450e+02 2.600e+02 4.080e+02 7.200e+01 1.500e+01\n",
      "  0.000e+00 0.000e+00 0.000e+00 1.684e+03 0.000e+00 0.000e+00 6.400e+01\n",
      "  8.000e+00]\n",
      " [0.000e+00 0.000e+00 0.000e+00 0.000e+00 0.000e+00 0.000e+00 0.000e+00\n",
      "  0.000e+00 4.000e+00 2.000e+00 0.000e+00 5.300e+02 8.660e+02 3.720e+02\n",
      "  1.200e+01 8.329e+03 0.000e+00 0.000e+00 0.000e+00 2.400e+01 0.000e+00\n",
      "  0.000e+00 0.000e+00 3.300e+01 0.000e+00 0.000e+00 0.000e+00 2.200e+01\n",
      "  0.000e+00 0.000e+00 0.000e+00 0.000e+00 0.000e+00 0.000e+00 0.000e+00\n",
      "  0.000e+00]]\n"
     ]
    },
    {
     "name": "stderr",
     "output_type": "stream",
     "text": [
      "/storage/BonnieH/anaconda/lib/python3.7/site-packages/ipykernel_launcher.py:68: RuntimeWarning: divide by zero encountered in log10\n"
     ]
    },
    {
     "data": {
      "image/png": "[encoded data removed]",
      "text/plain": [
       "<Figure size 1080x216 with 2 Axes>"
      ]
     },
     "metadata": {
      "needs_background": "light"
     },
     "output_type": "display_data"
    },
    {
     "name": "stdout",
     "output_type": "stream",
     "text": [
      "CPU times: user 2.16 s, sys: 470 ms, total: 2.63 s\n",
      "Wall time: 2.87 s\n"
     ]
    }
   ],
   "source": [
    "%%time\n",
    "if __name__ == '__main__':\n",
    "    main()"
   ]
  }
 ],
 "metadata": {
  "kernelspec": {
   "display_name": "Python 3",
   "language": "python",
   "name": "python3"
  },
  "language_info": {
   "codemirror_mode": {
    "name": "ipython",
    "version": 3
   },
   "file_extension": ".py",
   "mimetype": "text/x-python",
   "name": "python",
   "nbconvert_exporter": "python",
   "pygments_lexer": "ipython3",
   "version": "3.7.4"
  }
 },
 "nbformat": 4,
 "nbformat_minor": 2
}
