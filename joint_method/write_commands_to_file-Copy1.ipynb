{
 "cells": [
  {
   "cell_type": "code",
   "execution_count": 1,
   "metadata": {},
   "outputs": [],
   "source": [
    "# Write commands to run joint method validation \n",
    "def validation():\n",
    "    one_opt_only = True\n",
    "    means = [10**-5, 10**-4, 10**-3, 10**-2]\n",
    "    pers = [2,3,4]\n",
    "    opt_dic = {}\n",
    "    opt_dic[2] = [11,14,17,20]\n",
    "    opt_dic[3] = [5,6,7,8,10,13]\n",
    "    opt_dic[4] = [7,8,9,10]\n",
    "    folder = 't37'\n",
    "    k_list = [0.2,0.3,0.6]\n",
    "    num_loci = 200\n",
    "\n",
    "    if one_opt_only == True:\n",
    "        outFile = '/storage/BonnieH/selection_project/joint_method/results/validation_multiple_one_opt/commands_%s.sh'%(folder)\n",
    "\n",
    "    else:\n",
    "        outFile = '/storage/BonnieH/selection_project/joint_method/results/validation_multiple/commands_%s.sh'%(folder)\n",
    "\n",
    "    results = open(outFile, \"w\")\n",
    "    results.write('#!/bin/bash' + '\\n')\n",
    "    for mean in means:\n",
    "        for k in k_list:\n",
    "            theta = mean/k\n",
    "            for per in pers:\n",
    "                if one_opt_only == False:\n",
    "                    results.write('nohup time python /storage/BonnieH/selection_project/joint_method/joint_method_validation.py %d eurodem_prior2 20 20 20 10 10 10 2000 20 %s 0 %.6f %.6f %.5f 1 %d &\\n'%(per, folder, k, theta, mean, num_loci))\n",
    "                else:\n",
    "                    for opt in opt_dic[per]:\n",
    "\n",
    "                        results.write('nohup time python /storage/BonnieH/selection_project/joint_method/joint_method_validation.py %d eurodem_prior2 20 20 20 10 10 10 2000 20 %s 0 %.6f %.6f %.5f %d %d &\\n'%(per, folder, k, theta, mean, opt, num_loci))\n",
    "\n",
    "\n",
    "    results.close()"
   ]
  },
  {
   "cell_type": "code",
   "execution_count": 2,
   "metadata": {},
   "outputs": [],
   "source": [
    "# Write commands to run joint method on real data\n",
    "def real_data():\n",
    "    \n",
    "    pers = [2,3,4]\n",
    "    opt_dic = {}\n",
    "    opt_dic[3] = [0,5,6,7,8,9,10,11,12,13]\n",
    "    opt_dic[2] = [0,11,12,13,14,15,16,17,18,19,20]\n",
    "    opt_dic[4] = [0,7,8,9,10]\n",
    "    het_thresh = 20\n",
    "    \n",
    "    motif_dic = {}\n",
    "    motif_dic[2] = ['AC','AG','AT']\n",
    "    motif_dic[3] = ['ACC','AGG','AGC','CCG','AAG','AAC','ATC','AAT','ACT']\n",
    "    motif_dic[4] = ['AAGG','AAAT','ATCC','AATC','AAAC','AATG','ACAT','AGAT','AAAG']\n",
    "    folder = 't22'\n",
    "    num_loci = 1000\n",
    "    num_sims = 20000\n",
    "    opt_allele_dummy = 0\n",
    "    \n",
    "    outFile = '/storage/BonnieH/selection_project/joint_method/results/results/commands_%s.sh'%(folder)\n",
    "\n",
    "    results = open(outFile, \"w\")\n",
    "    results.write('#!/bin/bash' + '\\n')\n",
    "    \n",
    "    for per in pers:\n",
    "        for motif in motif_dic[per]:\n",
    "            opt_alleles = opt_dic[per]\n",
    "            for opt in opt_alleles:\n",
    "            #if motif == 'AT' or motif == 'AAT' or motif == 'AGAT':\n",
    "                #results.write('nohup time python /storage/BonnieH/selection_project/joint_method/joint_method.py %d 6 %s eurodem_prior2 3 3 3 10 10 10 %d %s 1 %d &\\n'%(per, motif, num_sims, folder, num_loci))\n",
    "               \n",
    "            #else:\n",
    "                results.write('nohup time python /storage/BonnieH/selection_project/joint_method/joint_method.py %d 6 %s eurodem_prior2 %d %d %d 10 10 10 %d %s 1 %d %d &\\n'%(per, motif, het_thresh, het_thresh, het_thresh, num_sims, folder, num_loci, opt))\n",
    "               \n",
    "    \n",
    "    for per in pers:\n",
    "        opt_alleles = opt_dic[per]\n",
    "        for opt in opt_alleles:\n",
    "            results.write('nohup time python /storage/BonnieH/selection_project/joint_method/joint_method.py %d 7 0.0 eurodem_prior2 %d %d %d 10 10 10 %d %s 1 %d %d &\\n'%(per, het_thresh, het_thresh, het_thresh, num_sims, folder, num_loci, opt))\n",
    "            \n",
    "    opt_alleles = opt_dic[3]\n",
    "    for opt in opt_alleles:\n",
    "        results.write('nohup time python /storage/BonnieH/selection_project/joint_method/joint_method.py 3 7 1.0 eurodem_prior2 %d %d %d 10 10 10 %d %s 1 %d %d &\\n'%(het_thresh, het_thresh, het_thresh, num_sims, folder, num_loci, opt))\n",
    "    results.close()"
   ]
  },
  {
   "cell_type": "code",
   "execution_count": 3,
   "metadata": {},
   "outputs": [],
   "source": [
    "def main():\n",
    "    #validation()\n",
    "    real_data()"
   ]
  },
  {
   "cell_type": "code",
   "execution_count": 4,
   "metadata": {},
   "outputs": [
    {
     "name": "stdout",
     "output_type": "stream",
     "text": [
      "CPU times: user 1.77 ms, sys: 102 µs, total: 1.87 ms\n",
      "Wall time: 1.04 ms\n"
     ]
    }
   ],
   "source": [
    "%%time\n",
    "if __name__ == '__main__':\n",
    "    main()"
   ]
  }
 ],
 "metadata": {
  "kernelspec": {
   "display_name": "Python 3",
   "language": "python",
   "name": "python3"
  },
  "language_info": {
   "codemirror_mode": {
    "name": "ipython",
    "version": 3
   },
   "file_extension": ".py",
   "mimetype": "text/x-python",
   "name": "python",
   "nbconvert_exporter": "python",
   "pygments_lexer": "ipython3",
   "version": "3.7.4"
  }
 },
 "nbformat": 4,
 "nbformat_minor": 2
}
