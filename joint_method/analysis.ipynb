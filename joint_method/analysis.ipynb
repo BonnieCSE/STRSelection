{
 "cells": [
  {
   "cell_type": "code",
   "execution_count": 3,
   "metadata": {},
   "outputs": [],
   "source": [
    "# PLot validation of each optimal allele in a period together\n",
    "import glob\n",
    "def main():\n",
    "    \n",
    "    folder = 't23'\n",
    "    \n",
    "    file_list = glob.glob('./results/results/%s/*.txt'%(folder)) \n",
    "    file_list.sort()\n",
    "    files_0 = 0       \n",
    "    total_files = 0        \n",
    "    files_less_10 = 0\n",
    "    for filename in file_list:     \n",
    "        \n",
    "        allele_freqs_file = open(filename, 'r')\n",
    "        lines = allele_freqs_file.readlines()\n",
    "\n",
    "        line = lines[9]       \n",
    "        info = line.strip().split(': ')\n",
    "        num_acc = int(info[1])\n",
    "        line = lines[1]       \n",
    "        info = line.strip().split(': ')\n",
    "        num_loci = int(info[1])\n",
    "        \n",
    "        if num_acc == 0 and num_loci>=10:\n",
    "            print(filename)\n",
    "            files_0 = files_0 + 1\n",
    "            \n",
    "        if num_loci < 10:\n",
    "            files_less_10 = files_less_10 + 1\n",
    "        else:\n",
    "            total_files = total_files + 1   \n",
    "            #print('Less than 10: ' + filename)\n",
    "        allele_freqs_file.close()\n",
    "    print(total_files)\n",
    "    print(files_0)\n",
    "    print(files_less_10)"
   ]
  },
  {
   "cell_type": "code",
   "execution_count": 4,
   "metadata": {},
   "outputs": [
    {
     "name": "stdout",
     "output_type": "stream",
     "text": [
      "./results/results/t23/per_2_6_AT_sims_50000_het_eps_20_20_20_comm_eps_10_10_10_num_loci_1000_opt_00.txt\n",
      "./results/results/t23/per_2_6_AT_sims_50000_het_eps_20_20_20_comm_eps_10_10_10_num_loci_1000_opt_11.txt\n",
      "./results/results/t23/per_2_6_AT_sims_50000_het_eps_20_20_20_comm_eps_10_10_10_num_loci_1000_opt_12.txt\n",
      "./results/results/t23/per_2_6_AT_sims_50000_het_eps_20_20_20_comm_eps_10_10_10_num_loci_1000_opt_13.txt\n",
      "./results/results/t23/per_2_6_AT_sims_50000_het_eps_20_20_20_comm_eps_10_10_10_num_loci_1000_opt_14.txt\n",
      "./results/results/t23/per_2_6_AT_sims_50000_het_eps_20_20_20_comm_eps_10_10_10_num_loci_1000_opt_15.txt\n",
      "./results/results/t23/per_3_6_AAT_sims_50000_het_eps_20_20_20_comm_eps_10_10_10_num_loci_1000_opt_00.txt\n",
      "./results/results/t23/per_3_6_AAT_sims_50000_het_eps_20_20_20_comm_eps_10_10_10_num_loci_1000_opt_09.txt\n",
      "./results/results/t23/per_3_6_AAT_sims_50000_het_eps_20_20_20_comm_eps_10_10_10_num_loci_1000_opt_10.txt\n",
      "./results/results/t23/per_3_6_AAT_sims_50000_het_eps_20_20_20_comm_eps_10_10_10_num_loci_1000_opt_11.txt\n",
      "./results/results/t23/per_4_6_AAAG_sims_50000_het_eps_20_20_20_comm_eps_10_10_10_num_loci_1000_opt_00.txt\n",
      "./results/results/t23/per_4_6_AAAT_sims_50000_het_eps_20_20_20_comm_eps_10_10_10_num_loci_1000_opt_08.txt\n",
      "./results/results/t23/per_4_6_AAGG_sims_50000_het_eps_20_20_20_comm_eps_10_10_10_num_loci_1000_opt_00.txt\n",
      "./results/results/t23/per_4_6_AAGG_sims_50000_het_eps_20_20_20_comm_eps_10_10_10_num_loci_1000_opt_08.txt\n",
      "./results/results/t23/per_4_6_AGAT_sims_50000_het_eps_20_20_20_comm_eps_10_10_10_num_loci_1000_opt_00.txt\n",
      "./results/results/t23/per_4_6_AGAT_sims_50000_het_eps_20_20_20_comm_eps_10_10_10_num_loci_1000_opt_07.txt\n",
      "./results/results/t23/per_4_6_AGAT_sims_50000_het_eps_20_20_20_comm_eps_10_10_10_num_loci_1000_opt_08.txt\n",
      "./results/results/t23/per_4_6_AGAT_sims_50000_het_eps_20_20_20_comm_eps_10_10_10_num_loci_1000_opt_09.txt\n",
      "./results/results/t23/per_4_7_0.0_sims_50000_het_eps_20_20_20_comm_eps_10_10_10_num_loci_1000_opt_08.txt\n",
      "174\n",
      "19\n",
      "30\n",
      "CPU times: user 1.39 s, sys: 419 ms, total: 1.81 s\n",
      "Wall time: 2.3 s\n"
     ]
    }
   ],
   "source": [
    "%%time\n",
    "if __name__ == '__main__':\n",
    "    main()"
   ]
  }
 ],
 "metadata": {
  "kernelspec": {
   "display_name": "Python 3",
   "language": "python",
   "name": "python3"
  },
  "language_info": {
   "codemirror_mode": {
    "name": "ipython",
    "version": 3
   },
   "file_extension": ".py",
   "mimetype": "text/x-python",
   "name": "python",
   "nbconvert_exporter": "python",
   "pygments_lexer": "ipython3",
   "version": "3.7.4"
  }
 },
 "nbformat": 4,
 "nbformat_minor": 2
}
