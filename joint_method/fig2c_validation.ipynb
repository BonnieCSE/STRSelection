{
 "cells": [
  {
   "cell_type": "code",
   "execution_count": 49,
   "metadata": {},
   "outputs": [
    {
     "name": "stdout",
     "output_type": "stream",
     "text": [
      "Populating the interactive namespace from numpy and matplotlib\n"
     ]
    }
   ],
   "source": [
    "%pylab inline\n",
    "\n",
    "import glob\n",
    "import matplotlib\n",
    "import numpy as np\n",
    "from scipy.stats import gamma\n",
    "from matplotlib import pyplot as plt\n",
    "matplotlib.rcParams['pdf.fonttype'] = 42\n",
    "matplotlib.rcParams['ps.fonttype'] = 42"
   ]
  },
  {
   "cell_type": "code",
   "execution_count": 50,
   "metadata": {},
   "outputs": [],
   "source": [
    "def main():\n",
    "    \n",
    "    means = [10**-5, 10**-4, 10**-3, 10**-2]\n",
    "    pers = [2, 3, 4]\n",
    "    list_of_s = []\n",
    "    diff_min = []\n",
    "    diff_max = []\n",
    "    for mean in means:\n",
    "        for per in pers:\n",
    "            file_list = glob.glob('./results/validation/wide_prior/per_%d*_%.5f.txt'%(per, mean)) # narrow_prior \n",
    "            print('./results/validation/fig2c/per_%d*_%.5f'%(per, mean))\n",
    "            filename = file_list[0]\n",
    "            allele_freqs_file = open(filename, 'r')\n",
    "            lines = allele_freqs_file.readlines()\n",
    "\n",
    "            line = lines[13]       \n",
    "            info = line.strip().split(': ')\n",
    "            est_mean = float(info[1])\n",
    "            list_of_s.append(est_mean)\n",
    "            line = lines[14]       \n",
    "            info = line.strip().split(': ')\n",
    "            lower = float(info[1])\n",
    "            line = lines[15]       \n",
    "            info = line.strip().split(': ')\n",
    "            upper = float(info[1])\n",
    "            diff_min.append(est_mean - lower)\n",
    "            diff_max.append(upper - est_mean)\n",
    "            \n",
    "    plt.figure(1)\n",
    "    x_axis_labels = ('10^-5','10^-5','10^-5','10^-4','10^-4','10^-4','10^-3','10^-3','10^-3','10^-2','10^-2','10^-2')\n",
    "    y_pos = np.arange(len(x_axis_labels))\n",
    "    \n",
    "    plt.errorbar(y_pos[0:3], list_of_s[0:3], yerr=[diff_min[0:3],diff_max[0:3]], marker = 'o') \n",
    "    plt.errorbar(y_pos[3:6], list_of_s[3:6], yerr=[diff_min[3:6],diff_max[3:6]], marker = 'o') \n",
    "    plt.errorbar(y_pos[6:9], list_of_s[6:9], yerr=[diff_min[6:9],diff_max[6:9]], marker = 'o') \n",
    "    plt.errorbar(y_pos[9:12], list_of_s[9:12], yerr=[diff_min[9:12],diff_max[9:12]], marker = 'o') \n",
    "    plt.xticks(y_pos, x_axis_labels, rotation = 45)\n",
    "    plt.yscale('log')\n",
    "    plt.ylabel(\"Estimated s\")"
   ]
  },
  {
   "cell_type": "code",
   "execution_count": 51,
   "metadata": {},
   "outputs": [
    {
     "name": "stdout",
     "output_type": "stream",
     "text": [
      "./results/validation/fig2c/per_2*_0.00001\n",
      "./results/validation/fig2c/per_3*_0.00001\n",
      "./results/validation/fig2c/per_4*_0.00001\n",
      "./results/validation/fig2c/per_2*_0.00010\n",
      "./results/validation/fig2c/per_3*_0.00010\n",
      "./results/validation/fig2c/per_4*_0.00010\n",
      "./results/validation/fig2c/per_2*_0.00100\n",
      "./results/validation/fig2c/per_3*_0.00100\n",
      "./results/validation/fig2c/per_4*_0.00100\n",
      "./results/validation/fig2c/per_2*_0.01000\n",
      "./results/validation/fig2c/per_3*_0.01000\n",
      "./results/validation/fig2c/per_4*_0.01000\n",
      "CPU times: user 47.2 ms, sys: 3.98 ms, total: 51.2 ms\n",
      "Wall time: 49.8 ms\n"
     ]
    },
    {
     "data": {
      "image/png": "[encoded data removed]",
      "text/plain": [
       "<Figure size 432x288 with 1 Axes>"
      ]
     },
     "metadata": {
      "needs_background": "light"
     },
     "output_type": "display_data"
    }
   ],
   "source": [
    "%%time\n",
    "if __name__ == '__main__':\n",
    "    main()"
   ]
  }
 ],
 "metadata": {
  "kernelspec": {
   "display_name": "Python 3",
   "language": "python",
   "name": "python3"
  },
  "language_info": {
   "codemirror_mode": {
    "name": "ipython",
    "version": 3
   },
   "file_extension": ".py",
   "mimetype": "text/x-python",
   "name": "python",
   "nbconvert_exporter": "python",
   "pygments_lexer": "ipython3",
   "version": "3.7.4"
  }
 },
 "nbformat": 4,
 "nbformat_minor": 2
}
