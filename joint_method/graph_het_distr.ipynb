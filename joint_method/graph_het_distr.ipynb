{
 "cells": [
  {
   "cell_type": "code",
   "execution_count": 61,
   "metadata": {},
   "outputs": [],
   "source": [
    "import sys\n",
    "sys.path.append(\"/storage/BonnieH/selection_project/helper_functions\")\n",
    "from Joint_method_functions import *\n",
    "PLOTDIR = '/storage/BonnieH/selection_project/joint_method/results/'\n",
    "import time\n",
    "import statistics"
   ]
  },
  {
   "cell_type": "code",
   "execution_count": 62,
   "metadata": {},
   "outputs": [],
   "source": [
    "def main():\n",
    "    num_sims= 200\n",
    "    period = 2\n",
    "    optimal_allele = 11\n",
    "    model = 'euro_p2'\n",
    "    k_val = 0.2\n",
    "    theta_val = 0.0005\n",
    "    print(k_val*theta_val)\n",
    "    obs_het_stats = [1,1,1]\n",
    "    obs_common_stats = [1,1,1]\n",
    "    eps_het = [10,10,10]\n",
    "    eps_common = [10, 10,10]\n",
    "    use_common_alleles = False\n",
    "    num_bins = 0\n",
    "    # Get ABC tables\n",
    "    ABC_tables = {}\n",
    "    opt_allele_dic = {}\n",
    "    opt_allele_dic[3] = [5,6,7,8,9,10,11,12]\n",
    "    opt_allele_dic[2] = [11,12,13,14,15,16,17,18,19,20]\n",
    "    opt_allele_dic[4] = [7,8,9,10]\n",
    "    \n",
    "    \n",
    "    opt_allele_list = [(period,optimal_allele)] * 200\n",
    "    \n",
    "    obs_mean_het_list = []\n",
    "    obs_var_het_list = []\n",
    "    obs_med_het_list = []\n",
    "    obs_mean_comm_list = []\n",
    "    obs_var_comm_list = []\n",
    "    obs_med_comm_list = []\n",
    "    \n",
    "    for opt_allele in opt_allele_dic[period]:\n",
    "        file = '/gymreklab-tscc/bonnieh/abc/results/'+model+'/' + str(period) + '_' + str(opt_allele) + '.txt' \n",
    "        table = GetABCList(file, num_bins)\n",
    "        dic_summ_stats = {}\n",
    "        for combo in table:\n",
    "            s_round = get_LRT_bin(combo[0])\n",
    "            if s_round not in dic_summ_stats:\n",
    "                dic_summ_stats[s_round] = []\n",
    "            dic_summ_stats[s_round].append([combo[1], combo[2]])\n",
    "                                              \n",
    "        ABC_tables[opt_allele] = dic_summ_stats\n",
    "        \n",
    "    for i in range(0, num_sims):\n",
    "        het_list, common_list = EstimateParam(ABC_tables, opt_allele_list, k_val, theta_val, obs_het_stats, \\\n",
    "                                              obs_common_stats, model, eps_het, eps_common, use_common_alleles, True)\n",
    "        \n",
    "        obs_mean_het = np.mean(het_list)\n",
    "        obs_var_het = np.var(het_list)\n",
    "        obs_med_het = np.median(het_list)\n",
    "        obs_mean_het_list.append(obs_mean_het)\n",
    "        obs_var_het_list.append(obs_var_het)\n",
    "        obs_med_het_list.append(obs_med_het)\n",
    "\n",
    "\n",
    "        obs_mean_common = np.mean(common_list)\n",
    "        obs_var_common = np.var(common_list)\n",
    "        obs_med_common = np.median(common_list)\n",
    "        obs_mean_comm_list.append(obs_mean_common)\n",
    "        obs_var_comm_list.append(obs_var_common)\n",
    "        obs_med_comm_list.append(obs_med_common)\n",
    "    \n",
    "    print(np.mean(obs_mean_het_list)) \n",
    "     \n",
    "    print(np.mean(obs_var_het_list)) \n",
    "    print(np.mean(obs_med_het_list)) \n",
    "    print(np.mean(obs_mean_comm_list)) \n",
    "    print(np.mean(obs_var_comm_list)) \n",
    "    print(np.mean(obs_med_comm_list)) \n",
    "    \n",
    "    print(np.std(obs_mean_het_list)) \n",
    "     \n",
    "    print(np.std(obs_var_het_list)) \n",
    "    print(np.std(obs_med_het_list)) \n",
    "    print(np.std(obs_mean_comm_list)) \n",
    "    print(np.std(obs_var_comm_list)) \n",
    "    print(np.std(obs_med_comm_list)) \n",
    "   "
   ]
  },
  {
   "cell_type": "code",
   "execution_count": 63,
   "metadata": {},
   "outputs": [
    {
     "name": "stdout",
     "output_type": "stream",
     "text": [
      "0.0001\n",
      "0.42331849334921884\n",
      "0.043722173621344125\n",
      "0.472173437421875\n",
      "2.45635\n",
      "0.9411127499999998\n",
      "2.065\n",
      "0.01568971863584423\n",
      "0.0029088526808837183\n",
      "0.019999209184754955\n",
      "0.07302004861680111\n",
      "0.09176965317406131\n",
      "0.23081377775167583\n",
      "CPU times: user 1.11 s, sys: 15.8 ms, total: 1.13 s\n",
      "Wall time: 3.07 s\n"
     ]
    }
   ],
   "source": [
    "%%time\n",
    "if __name__ == '__main__':\n",
    "    main()"
   ]
  }
 ],
 "metadata": {
  "kernelspec": {
   "display_name": "Python 3",
   "language": "python",
   "name": "python3"
  },
  "language_info": {
   "codemirror_mode": {
    "name": "ipython",
    "version": 3
   },
   "file_extension": ".py",
   "mimetype": "text/x-python",
   "name": "python",
   "nbconvert_exporter": "python",
   "pygments_lexer": "ipython3",
   "version": "3.7.4"
  }
 },
 "nbformat": 4,
 "nbformat_minor": 2
}
