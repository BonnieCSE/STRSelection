{
 "cells": [
  {
   "cell_type": "code",
   "execution_count": 17,
   "metadata": {},
   "outputs": [],
   "source": [
    "# Write commands to run joint method validation \n",
    "def validation():\n",
    "    one_opt_only = False\n",
    "    means = [10**-5, 10**-4, 10**-3, 10**-2]\n",
    "    pers = [2,3,4]\n",
    "    opt_dic = {}\n",
    "    opt_dic[2] = [11,14,17,20]\n",
    "    opt_dic[3] = [5,6,7,8]\n",
    "    opt_dic[4] = [7,8,9,10]\n",
    "    folder = 't29'\n",
    "    k_list = [0.2,0.3,0.6]\n",
    "    num_loci = 1000\n",
    "\n",
    "    if one_opt_only == True:\n",
    "        outFile = '/storage/BonnieH/selection_project/joint_method/results/validation_multiple_one_opt/commands_%s.sh'%(folder)\n",
    "\n",
    "    else:\n",
    "        outFile = '/storage/BonnieH/selection_project/joint_method/results/validation_multiple/commands_%s.sh'%(folder)\n",
    "\n",
    "    results = open(outFile, \"w\")\n",
    "    results.write('#!/bin/bash' + '\\n')\n",
    "    for mean in means:\n",
    "        for k in k_list:\n",
    "            theta = mean/k\n",
    "            for per in pers:\n",
    "                if one_opt_only == False:\n",
    "                    results.write('nohup time python /storage/BonnieH/selection_project/joint_method/joint_method_validation.py %d eurodem_prior2 35 35 35 10 10 10 2000 20 %s 1 %.6f %.6f %.5f 0 %d &\\n'%(per, folder, k, theta, mean, num_loci))\n",
    "                else:\n",
    "                    for opt in opt_dic[per]:\n",
    "\n",
    "                        results.write('nohup time python /storage/BonnieH/selection_project/joint_method/joint_method_validation.py %d eurodem_prior2 35 35 35 10 10 10 2000 20 %s 1 %.6f %.6f %.5f %d %d &\\n'%(per, folder, k, theta, mean, opt, num_loci))\n",
    "\n",
    "\n",
    "    results.close()"
   ]
  },
  {
   "cell_type": "code",
   "execution_count": 18,
   "metadata": {},
   "outputs": [],
   "source": [
    "# Write commands to run joint method on real data\n",
    "def real_data():\n",
    "    \n",
    "    pers = [2,3,4]\n",
    "    motif_dic = {}\n",
    "    motif_dic[2] = ['AC','AG','AT']\n",
    "    motif_dic[3] = ['ACC','AGG','AGC','CCG','AAG','AAC','ATC','AAT','ACT']\n",
    "    motif_dic[4] = ['AAGG','AAAT','ATCC','AATC','AAAC','AATG','ACAT','AGAT','AAAG']\n",
    "    folder = 't5'\n",
    "    num_loci = 1000\n",
    "    \n",
    "    outFile = '/storage/BonnieH/selection_project/joint_method/results/results/commands_%s.sh'%(folder)\n",
    "\n",
    "    results = open(outFile, \"w\")\n",
    "    results.write('#!/bin/bash' + '\\n')\n",
    "    \n",
    "    for per in pers:\n",
    "        for motif in motif_dic[per]:\n",
    "            results.write('nohup time python /storage/BonnieH/selection_project/joint_method/joint_method.py %d 6 %s eurodem_prior2 5 5 5 10 10 10 100000 %s 1 %d &\\n'%(per, motif, folder, num_loci))\n",
    "               \n",
    "    results.write('nohup time python /storage/BonnieH/selection_project/joint_method/joint_method.py 2 7 0.0 eurodem_prior2 5 5 5 10 10 10 100000 %s 1 %d &\\n'%(folder, num_loci))\n",
    "    results.write('nohup time python /storage/BonnieH/selection_project/joint_method/joint_method.py 3 7 0.0 eurodem_prior2 5 5 5 10 10 10 100000 %s 1 %d &\\n'%(folder, num_loci))\n",
    "    results.write('nohup time python /storage/BonnieH/selection_project/joint_method/joint_method.py 3 7 1.0 eurodem_prior2 5 5 5 10 10 10 100000 %s 1 %d &\\n'%(folder, num_loci))\n",
    "    results.write('nohup time python /storage/BonnieH/selection_project/joint_method/joint_method.py 4 7 0.0 eurodem_prior2 5 5 5 10 10 10 100000 %s 1 %d &\\n'%(folder, num_loci))\n",
    "             \n",
    "    results.close()"
   ]
  },
  {
   "cell_type": "code",
   "execution_count": 19,
   "metadata": {},
   "outputs": [],
   "source": [
    "def main():\n",
    "    real_data()"
   ]
  },
  {
   "cell_type": "code",
   "execution_count": 20,
   "metadata": {},
   "outputs": [
    {
     "name": "stdout",
     "output_type": "stream",
     "text": [
      "CPU times: user 644 µs, sys: 127 µs, total: 771 µs\n",
      "Wall time: 371 µs\n"
     ]
    }
   ],
   "source": [
    "%%time\n",
    "if __name__ == '__main__':\n",
    "    main()"
   ]
  }
 ],
 "metadata": {
  "kernelspec": {
   "display_name": "Python 3",
   "language": "python",
   "name": "python3"
  },
  "language_info": {
   "codemirror_mode": {
    "name": "ipython",
    "version": 3
   },
   "file_extension": ".py",
   "mimetype": "text/x-python",
   "name": "python",
   "nbconvert_exporter": "python",
   "pygments_lexer": "ipython3",
   "version": "3.7.4"
  }
 },
 "nbformat": 4,
 "nbformat_minor": 2
}
