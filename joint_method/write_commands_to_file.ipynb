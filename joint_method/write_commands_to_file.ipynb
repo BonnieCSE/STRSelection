{
 "cells": [
  {
   "cell_type": "code",
   "execution_count": 5,
   "metadata": {},
   "outputs": [],
   "source": [
    "# Write commands to run joint method validation on one optimal allele\n",
    "\n",
    "one_opt_only = False\n",
    "means = [10**-5, 10**-4, 10**-3, 10**-2]\n",
    "pers = [2,3,4]\n",
    "opt_dic = {}\n",
    "opt_dic[2] = [11,14,17,20]\n",
    "opt_dic[3] = [5,6,7,8]\n",
    "opt_dic[4] = [7,8,9,10]\n",
    "folder = 't22'\n",
    "k_list = [0.2,0.3,0.6]\n",
    "num_loci = 1000\n",
    "\n",
    "if one_opt_only == True:\n",
    "    outFile = '/storage/BonnieH/selection_project/joint_method/results/validation_multiple_one_opt/commands_%s.sh'%(folder)\n",
    "\n",
    "else:\n",
    "    outFile = '/storage/BonnieH/selection_project/joint_method/results/validation_multiple/commands_%s.sh'%(folder)\n",
    "\n",
    "results = open(outFile, \"w\")\n",
    "results.write('#!/bin/bash' + '\\n')\n",
    "for mean in means:\n",
    "    for k in k_list:\n",
    "        theta = mean/k\n",
    "        for per in pers:\n",
    "            if one_opt_only == False:\n",
    "                results.write('nohup time python /storage/BonnieH/selection_project/joint_method/joint_method_validation.py %d eurodem_prior2 35 35 35 35 35 35 2000 30 %s 0 %.6f %.6f %.5f 0 %d &\\n'%(per, folder, k, theta, mean, num_loci))\n",
    "            else:\n",
    "                for opt in opt_dic[per]:\n",
    "                \n",
    "                    results.write('nohup time python /storage/BonnieH/selection_project/joint_method/joint_method_validation.py %d eurodem_prior2 35 35 35 35 35 35 2000 30 %s 0 %.6f %.6f %.5f %d %d &\\n'%(per, folder, k, theta, mean, opt, num_loci))\n",
    "              \n",
    "                \n",
    "results.close()"
   ]
  }
 ],
 "metadata": {
  "kernelspec": {
   "display_name": "Python 3",
   "language": "python",
   "name": "python3"
  },
  "language_info": {
   "codemirror_mode": {
    "name": "ipython",
    "version": 3
   },
   "file_extension": ".py",
   "mimetype": "text/x-python",
   "name": "python",
   "nbconvert_exporter": "python",
   "pygments_lexer": "ipython3",
   "version": "3.7.4"
  }
 },
 "nbformat": 4,
 "nbformat_minor": 2
}
