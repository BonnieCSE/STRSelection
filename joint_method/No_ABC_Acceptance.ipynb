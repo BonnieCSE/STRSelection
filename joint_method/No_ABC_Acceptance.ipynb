{
 "cells": [
  {
   "cell_type": "code",
   "execution_count": 22,
   "metadata": {},
   "outputs": [],
   "source": [
    "# This notebooks lists groups of loci with no ABC acceptance"
   ]
  },
  {
   "cell_type": "code",
   "execution_count": 23,
   "metadata": {},
   "outputs": [],
   "source": [
    "import glob"
   ]
  },
  {
   "cell_type": "code",
   "execution_count": 24,
   "metadata": {},
   "outputs": [],
   "source": [
    "def real_data():\n",
    "    \n",
    "    folder = 'plot'#'t28'\n",
    "    \n",
    "    #file_list = glob.glob('./results/results/%s/*.txt'%(folder)) \n",
    "    file_list = glob.glob('/gymreklab-tscc/bonnieh/heatmap/results/%s/*.txt'%(folder))\n",
    "    file_list.sort()\n",
    "    files_0 = 0       \n",
    "    total_files = 0        \n",
    "    files_less_10 = 0\n",
    "    for filename in file_list:   \n",
    "        \n",
    "        if filename[-6:] != '1':\n",
    "            allele_freqs_file = open(filename, 'r')\n",
    "            lines = allele_freqs_file.readlines()\n",
    "            line = lines[2]\n",
    "            info = line.strip().split(': ')\n",
    "            opt = info[3]\n",
    "            motif = info[2]\n",
    "            \n",
    "            if opt != '0':\n",
    "                line = lines[9]       \n",
    "                info = line.strip().split(': ')\n",
    "                num_acc = int(info[1])\n",
    "                line = lines[1]       \n",
    "                info = line.strip().split(': ')\n",
    "                num_loci = info[1]\n",
    "                num_loci = num_loci.strip().split(' ')\n",
    "                num_loci = int(num_loci[0])\n",
    "\n",
    "                if num_acc == 0 and num_loci>=10:\n",
    "                    per = filename[49] #26\n",
    "                    if motif == '0.0 Optimal allele':\n",
    "                        motif = 'Noncoding Optimal allele'\n",
    "                    if motif == '1.0 Optimal allele':\n",
    "                        motif = 'Coding Optimal allele'\n",
    "                    \n",
    "                    print('Per ' + per + ' ' + motif + ' ' + opt)\n",
    "                    files_0 = files_0 + 1\n",
    "\n",
    "                if num_loci < 10:\n",
    "                    files_less_10 = files_less_10 + 1\n",
    "                else:\n",
    "                    total_files = total_files + 1   \n",
    "                    \n",
    "            allele_freqs_file.close()\n",
    "    print(total_files)\n",
    "    print(files_0)\n",
    "    print(files_less_10)"
   ]
  },
  {
   "cell_type": "code",
   "execution_count": 25,
   "metadata": {},
   "outputs": [],
   "source": [
    "def validation():\n",
    "    \n",
    "    folder = 't50'\n",
    "    \n",
    "    file_list = glob.glob('./results/validation_multiple_one_opt/%s/*.txt'%(folder)) \n",
    "    file_list.sort()\n",
    "    files_0 = 0       \n",
    "    total_files = 0        \n",
    "    files_less_10 = 0\n",
    "    for filename in file_list:   \n",
    "        \n",
    "        if filename[-6:] != '1':\n",
    "            allele_freqs_file = open(filename, 'r')\n",
    "            lines = allele_freqs_file.readlines()\n",
    "            line = lines[1]\n",
    "            info = line.strip().split(' ')\n",
    "            opt = info[14]\n",
    "            k = info[7]\n",
    "            theta = info[10]\n",
    "            \n",
    "            line = lines[2]\n",
    "            info = line.strip().split(': ')\n",
    "            mean = info[1]\n",
    "            \n",
    "            if opt != '0':\n",
    "                per = filename[46]\n",
    "                line = lines[3]       \n",
    "                info = line.strip().split(' ')\n",
    "                num_acc = info[7]\n",
    "            \n",
    "                num_acc_trials = int(info[14])\n",
    "\n",
    "                if num_acc_trials < 20: \n",
    "                    \n",
    "                    print('Per ' + per + ' ' + k + ' ' + theta + ' ' + mean + ' ' + opt)\n",
    "                    print(num_acc + ' ' + str(num_acc_trials))\n",
    "                    files_0 = files_0 + 1\n",
    "\n",
    "                total_files = total_files + 1   \n",
    "            allele_freqs_file.close()\n",
    "    print(total_files)\n",
    "    print(files_0)"
   ]
  },
  {
   "cell_type": "code",
   "execution_count": 26,
   "metadata": {},
   "outputs": [],
   "source": [
    "def per2():\n",
    "    \n",
    "    folder = 't41'\n",
    "    \n",
    "    file_list = glob.glob('./results/results/%s/per_2_6_AT_sims_50000_eurodem_prior2_dinuc_c_het_eps_20_20_20_comm_eps_10_10_10_num_loci_1000_opt_11.txt'%(folder)) \n",
    "    file_list.sort()\n",
    "    print(len(file_list))\n",
    "    files_0 = 0       \n",
    "    total_files = 0        \n",
    "    files_less_10 = 0\n",
    "    het_0 = 0\n",
    "    common_0 = 0\n",
    "    for filename in file_list:   \n",
    "        \n",
    "        allele_freqs_file = open(filename, 'r')\n",
    "        lines = allele_freqs_file.readlines()\n",
    "        lines = lines[19:]\n",
    "        \n",
    "        for line in lines:\n",
    "                \n",
    "            info = line.strip().split(', ')\n",
    "            het = int(info[6])\n",
    "            common = int(info[7])      \n",
    "            if het == 0:\n",
    "                het_0 = het_0 + 1\n",
    "            if common == 0:\n",
    "                common_0 = common_0 + 1\n",
    "                \n",
    "        allele_freqs_file.close()\n",
    "    print(het_0)\n",
    "    print(common_0)"
   ]
  },
  {
   "cell_type": "code",
   "execution_count": 27,
   "metadata": {},
   "outputs": [],
   "source": [
    "def main():\n",
    "    real_data()\n",
    "    #validation()\n",
    "    #per2()"
   ]
  },
  {
   "cell_type": "code",
   "execution_count": 28,
   "metadata": {
    "scrolled": true
   },
   "outputs": [
    {
     "name": "stdout",
     "output_type": "stream",
     "text": [
      "Per 2 AT Optimal allele 14\n",
      "Per 3 AAG Optimal allele 9\n",
      "Per 3 AAT Optimal allele 8\n",
      "Per 3 AAT Optimal allele 9\n",
      "Per 3 ACC Optimal allele 10\n",
      "Per 3 AGC Optimal allele 9\n",
      "Per 3 AGC Optimal allele 11\n",
      "Per 4 AGAT Optimal allele 7\n",
      "Per 4 AGAT Optimal allele 8\n",
      "117\n",
      "9\n",
      "21\n",
      "CPU times: user 1.28 s, sys: 585 ms, total: 1.86 s\n",
      "Wall time: 1.94 s\n"
     ]
    }
   ],
   "source": [
    "%%time\n",
    "if __name__ == '__main__':\n",
    "    main()"
   ]
  }
 ],
 "metadata": {
  "kernelspec": {
   "display_name": "Python 3",
   "language": "python",
   "name": "python3"
  },
  "language_info": {
   "codemirror_mode": {
    "name": "ipython",
    "version": 3
   },
   "file_extension": ".py",
   "mimetype": "text/x-python",
   "name": "python",
   "nbconvert_exporter": "python",
   "pygments_lexer": "ipython3",
   "version": "3.7.4"
  }
 },
 "nbformat": 4,
 "nbformat_minor": 2
}
