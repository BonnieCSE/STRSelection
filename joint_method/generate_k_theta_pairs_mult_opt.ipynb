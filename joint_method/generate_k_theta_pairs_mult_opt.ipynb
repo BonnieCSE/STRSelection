{
 "cells": [
  {
   "cell_type": "code",
   "execution_count": 5,
   "metadata": {},
   "outputs": [],
   "source": [
    "# Write commands to run joint method validation on all optimal alleles in a period\n",
    "\n",
    "means = [10**-5, 10**-4, 10**-3, 10**-2]\n",
    "pers = [2,3,4]\n",
    "opt_dic = {}\n",
    "opt_dic[2] = [11,14,17,20]\n",
    "opt_dic[3] = [6,8,10,12]\n",
    "opt_dic[4] = [7,8,9,10]\n",
    "\n",
    "folder = 't7'\n",
    "cutoffs = {}\n",
    "cutoffs[2] = 11\n",
    "cutoffs[3] = 8\n",
    "cutoffs[4] = 7\n",
    "k_list = [0.2,0.3,0.6]\n",
    "\n",
    "outFile = '/storage/BonnieH/selection_project/joint_method/results/validation_multiple/commands_eurodem_p2_diff_eps.sh'\n",
    "results = open(outFile, \"w\")\n",
    "results.write('#!/bin/bash' + '\\n')\n",
    "for mean in means:\n",
    "    for k in k_list:\n",
    "    \n",
    "        theta = mean/k\n",
    "        for per in pers:\n",
    "            \n",
    "            if mean == 0.01:    \n",
    "                results.write('nohup time python /storage/BonnieH/selection_project/joint_method/joint_method_validation_mult.py %d eurodem_p2 10 10 10 10 10 10 1000 20 %s 0 %.6f %.6f %.5f &\\n'%(per, folder, k, theta, mean))\n",
    "            else:\n",
    "                results.write('nohup time python /storage/BonnieH/selection_project/joint_method/joint_method_validation_mult.py %d eurodem_p2 25 25 25 25 25 25 1000 20 %s 0 %.6f %.6f %.5f &\\n'%(per, folder, k, theta, mean))\n",
    "            \n",
    "results.close()"
   ]
  }
 ],
 "metadata": {
  "kernelspec": {
   "display_name": "Python 3",
   "language": "python",
   "name": "python3"
  },
  "language_info": {
   "codemirror_mode": {
    "name": "ipython",
    "version": 3
   },
   "file_extension": ".py",
   "mimetype": "text/x-python",
   "name": "python",
   "nbconvert_exporter": "python",
   "pygments_lexer": "ipython3",
   "version": "3.7.4"
  }
 },
 "nbformat": 4,
 "nbformat_minor": 2
}
