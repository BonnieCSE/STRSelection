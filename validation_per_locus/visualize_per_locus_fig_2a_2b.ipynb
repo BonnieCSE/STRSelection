{
 "cells": [
  {
   "cell_type": "code",
   "execution_count": 76,
   "metadata": {},
   "outputs": [
    {
     "name": "stdout",
     "output_type": "stream",
     "text": [
      "Populating the interactive namespace from numpy and matplotlib\n"
     ]
    }
   ],
   "source": [
    "%pylab inline\n",
    "sys.path.append(\"/storage/BonnieH/selection_project/helper_functions\")\n",
    "from LRT_functions import *\n",
    "import matplotlib\n",
    "matplotlib.rcParams['pdf.fonttype'] = 42\n",
    "matplotlib.rcParams['ps.fonttype'] = 42"
   ]
  },
  {
   "cell_type": "code",
   "execution_count": 77,
   "metadata": {},
   "outputs": [],
   "source": [
    "### Main function ###\n",
    "def main():\n",
    "    per = 3\n",
    "    opt_allele = 11\n",
    "    model = 'euro_p2'\n",
    "    \n",
    "    # ABC parameters\n",
    "    constant_het = 0.005\n",
    "    denom_het = 3\n",
    "    constant_common = 1\n",
    "    denom_common = 4\n",
    "    eps_bins = 0.3\n",
    "    num_bins = 3\n",
    "    use_het = 'y'\n",
    "    use_common = 'n'\n",
    "    use_bins = 'y'\n",
    "    s = 0.004\n",
    "    \n",
    "    # LRT parameters\n",
    "    LRT_num_sims = 200\n",
    "    \n",
    "    lrtFile = '/gymreklab-tscc/bonnieh/lrt/results/' + 'euro_prelim' + '/' + str(per) + '_' + str(opt_allele) + '_freqs.txt'\n",
    "    freqs_list_raw = GetLRTListFreq(lrtFile, s)\n",
    "            \n",
    "    freq_string = freqs_list_raw[0]\n",
    "    obs_het, obs_common, obs_bins = GetSummStats(freq_string, num_bins)\n",
    "        \n",
    "    abcFile = '/gymreklab-tscc/bonnieh/abc/results/' + model +'/' + str(per) + '_' + str(opt_allele) + '.txt' \n",
    "          \n",
    "    # Read line by line and place in lookup table in the form of a list\n",
    "    abc_list = GetABCList(abcFile, num_bins)\n",
    "    \n",
    "    # Perform ABC\n",
    "    s_ABC, lower_bound, upper_bound, num_accepted, s_accepted = Get_S_ABC(abc_list, \\\n",
    "                                       obs_het, obs_common, obs_bins, constant_het, \\\n",
    "                                       denom_het, constant_common, denom_common, eps_bins, use_het, \\\n",
    "                                       use_common, use_bins)\n",
    "    \n",
    "    print(\"Number s accepted: \" + str(len(s_accepted)))    \n",
    "    print(\"s_ABC: \" + str(s_ABC))\n",
    "    ABC_conf_int = '(' + str(lower_bound) + ',' + str(upper_bound) + ')'\n",
    "    print('ABC confidence interval: ' + ABC_conf_int)\n",
    "    \n",
    "    # Plot ABC acceptances    \n",
    "    plt.figure(1)\n",
    "    plt.hist(s_accepted, bins=50, weights=np.ones(len(s_accepted)) / len(s_accepted))\n",
    "    plt.xlabel(\"S\", size=15)\n",
    "    plt.ylabel(\"Density\", size=15) #Number of accepted S\n",
    "    plt.axvline(x=s_ABC, color=\"red\", label = 'Median')\n",
    "    plt.axvline(x=lower_bound, color=\"green\", label=\"95% confidence\")\n",
    "    plt.axvline(x=upper_bound, color=\"green\")\n",
    "    plt.legend()\n",
    "    plt.title(\"Posterior distribution on s \\n s used for simulation: %.5f\"%(s),size=15)\n",
    "    plt.xticks(fontsize=15, rotation=45) # rotation=90\n",
    "    plt.yticks(fontsize=15)\n",
    "    plt.savefig('/storage/BonnieH/selection_project/validation_per_locus/figures/post_distr_s_fig_2a.pdf',bbox_inches='tight')\n",
    "    plt.show()\n",
    "    \n",
    "    lrtFile = '/gymreklab-tscc/bonnieh/lrt/results/' + 'euro_prelim' + '/' + str(per) + '_' + str(opt_allele) + '_freqs.txt'\n",
    "    s_ABC_round = get_LRT_bin(s_ABC)\n",
    "    # Get LRT summary statistic tables for s = 0\n",
    "    freqs_list_raw_0 = GetLRTListFreq(lrtFile, 0)\n",
    "    LRT_table_0_het = []\n",
    "    LRT_table_0_common = []\n",
    "    LRT_table_0_bins = []\n",
    "    for freq_string in freqs_list_raw_0:\n",
    "                \n",
    "        obs_het_0, obs_common_0, obs_bins_0 = GetSummStats(freq_string, num_bins)\n",
    "        LRT_table_0_het.append(obs_het_0) \n",
    "        LRT_table_0_common.append(obs_common_0) \n",
    "        LRT_table_0_bins.append(obs_bins_0)\n",
    "    \n",
    "    # Get LRT summary statistic tables for s = s_ABC\n",
    "    freqs_list_raw_s = GetLRTListFreq(lrtFile, s_ABC_round)\n",
    "            \n",
    "    LRT_table_s_het = []\n",
    "    LRT_table_s_common = []\n",
    "    LRT_table_s_bins = []\n",
    "    for freq_string in freqs_list_raw_s:\n",
    "                    \n",
    "        obs_het_s, obs_common_s, obs_bins_s = GetSummStats(freq_string, num_bins)\n",
    "        LRT_table_s_het.append(obs_het_s) \n",
    "        LRT_table_s_common.append(obs_common_s) \n",
    "        LRT_table_s_bins.append(obs_bins_s)\n",
    "        \n",
    "    likelihood_0, likelihood_s_ABC, LR, LogLR, pval = LikelihoodRatioTest(LRT_table_0_het, LRT_table_s_het, \\\n",
    "                                LRT_table_0_common, LRT_table_s_common, LRT_table_0_bins, LRT_table_s_bins, LRT_num_sims, \\\n",
    "                                obs_het, obs_common, obs_bins, constant_het, denom_het, \\\n",
    "                                constant_common, denom_common, eps_bins, use_het, use_common, use_bins)\n",
    "    print('Likelihood s = 0: ' + str(likelihood_0))\n",
    "    print('Likelihood s = s_ABC: ' + str(likelihood_s_ABC))\n",
    "    print('p value: ' + str(pval))\n",
    "    \n",
    "    # Plot LRT Using Only Heterozygosity\n",
    "    '''\n",
    "    fig = plt.figure(2)\n",
    "    ax = fig.add_subplot(111)\n",
    "    plt.hist(LRT_table_0_het, alpha = 0.5, color = 'blue', label = 's=0')\n",
    "    plt.hist(LRT_table_s_het, alpha = 0.5, color = 'red', label = 's=' + str(s_ABC_round))\n",
    "    plt.xlabel(\"Heterozygosity\", size=15)\n",
    "    plt.ylabel(\"Frequency\", size=15)\n",
    "    plt.axvline(x=obs_het, label='obs het')\n",
    "    eps = GetEpsilonHet(obs_het, constant_het, denom_het)\n",
    "    plt.axvline(x=obs_het + eps, linestyle = '--', label = 'obs het +/- epsilon')\n",
    "    plt.axvline(x=obs_het - eps, linestyle = '--')\n",
    "    string = 'Likelihood s=0: ' + str(likelihood_0) + '\\nLikelihood:s=' + str(s_ABC_round) + ': ' +str(likelihood_s_ABC) + '\\np val: ' + str(round(pval,3)) \n",
    "    ax.text(0.15, 0.8, string,transform=ax.transAxes, size=10)\n",
    "    plt.legend()\n",
    "    plt.title(\"Likelihood ratio test\", size=15)\n",
    "    #plt.savefig('/storage/BonnieH/selection_project/validation_per_locus/figures/LRT.pdf',bbox_inches='tight')\n",
    "    '''"
   ]
  },
  {
   "cell_type": "code",
   "execution_count": 78,
   "metadata": {},
   "outputs": [
    {
     "name": "stdout",
     "output_type": "stream",
     "text": [
      "Number s accepted: 746\n",
      "s_ABC: 0.0041277972492243815\n",
      "ABC confidence interval: (0.00144428589785342,0.007874042225481118)\n"
     ]
    },
    {
     "data": {
      "image/png": "[encoded data removed]",
      "text/plain": [
       "<Figure size 432x288 with 1 Axes>"
      ]
     },
     "metadata": {
      "needs_background": "light"
     },
     "output_type": "display_data"
    },
    {
     "name": "stdout",
     "output_type": "stream",
     "text": [
      "Likelihood s = 0: 0.005\n",
      "Likelihood s = s_ABC: 0.925\n",
      "p value: 0.0012326776679850802\n",
      "CPU times: user 1.07 s, sys: 8.91 ms, total: 1.07 s\n",
      "Wall time: 1.32 s\n"
     ]
    }
   ],
   "source": [
    "%%time\n",
    "if __name__ == '__main__':\n",
    "    main()"
   ]
  }
 ],
 "metadata": {
  "kernelspec": {
   "display_name": "Python 3",
   "language": "python",
   "name": "python3"
  },
  "language_info": {
   "codemirror_mode": {
    "name": "ipython",
    "version": 3
   },
   "file_extension": ".py",
   "mimetype": "text/x-python",
   "name": "python",
   "nbconvert_exporter": "python",
   "pygments_lexer": "ipython3",
   "version": "3.7.4"
  }
 },
 "nbformat": 4,
 "nbformat_minor": 2
}
