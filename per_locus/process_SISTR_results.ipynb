{
 "cells": [
  {
   "cell_type": "markdown",
   "metadata": {},
   "source": [
    "Notebook to obtain SISTR adjusted p values after running SISTR"
   ]
  },
  {
   "cell_type": "code",
   "execution_count": 7,
   "metadata": {},
   "outputs": [],
   "source": [
    "import statsmodels.api\n",
    "from statsmodels.stats import multitest"
   ]
  },
  {
   "cell_type": "code",
   "execution_count": 8,
   "metadata": {},
   "outputs": [],
   "source": [
    "def main():  \n",
    "    print('Running main')\n",
    "    num_dinuc = 0\n",
    "    num_trinuc = 0\n",
    "    num_tetranuc = 0\n",
    "    combos = [('2','50k'),('2','eurodem'),('3','eurodem'),('2','20k'),('2','50k')]\n",
    "    for combo in combos:\n",
    "        \n",
    "        p_val_list = []\n",
    "        prior = combo[0] \n",
    "        model = combo[1] \n",
    "        print(prior + ' ' + model)\n",
    "        total_threshold = 5214\n",
    "        inFile = '/storage/BonnieH/selection_project/per_locus/SISTR_results/0.005_3_0.3_yny5_%s_prior%s_all_per_0810.txt'%(model, prior) \n",
    "        in_file = open(inFile, 'r')\n",
    "        header = in_file.readline().strip()\n",
    "\n",
    "        outFile = '/storage/BonnieH/selection_project/per_locus/SISTR_results_processed/0.005_3_0.3_yny5_%s_prior%s_all_per_0810.txt'%(model, prior)\n",
    "        out_file = open(outFile, 'w')\n",
    "        \n",
    "        for line in in_file:\n",
    "\n",
    "            # Get information from line\n",
    "            info = line.strip().split('\\t')\n",
    "            chrom = info[0]\n",
    "            start = int(info[1])\n",
    "            end = int(info[2])\n",
    "            per = int(info[4])\n",
    "            optimal_ru = int(info[5])\n",
    "            ABC_s = info[17]\n",
    "            total_n = int(info[3])\n",
    "\n",
    "            if total_n > total_threshold:\n",
    "                if per == 2:\n",
    "                    num_dinuc = num_dinuc + 1\n",
    "                if per == 3:\n",
    "                    num_trinuc = num_trinuc + 1\n",
    "                if per == 4:\n",
    "                    num_tetranuc = num_tetranuc + 1\n",
    "                    \n",
    "            if ABC_s != 'N/A' and total_n > total_threshold: \n",
    "                \n",
    "                p_val = float(info[24])\n",
    "                p_val_list.append(p_val)\n",
    "\n",
    "        in_file.close()\n",
    "        adj_p_val = statsmodels.stats.multitest.fdrcorrection(p_val_list)\n",
    "        \n",
    "        out_file.write(\"chrom\" + \"\\t\" + \"start\" + \"\\t\" + \"end\" + \"\\t\" + \"total\" + \"\\t\" + \"period\" + \\\n",
    "                  \"\\t\" + \"optimal_ru\" + \"\\t\" + \"motif\" + \"\\t\" + \"coding\" + \"\\t\"  + 'intron' + \\\n",
    "                  '\\t' + 'UTR5' + '\\t' + 'UTR3' + '\\t' + 'promoter5kb' + '\\t' + 'intergenic' + \\\n",
    "                  \"\\t\" + \"tss_gene\" + \"\\t\" + \"het\" + \"\\t\" + \"common\" + \"\\t\" + \"bins\" + \"\\t\" + \\\n",
    "                  \"ABC_s_median\" + \"\\t\" + \"ABC_s_95%_CI\" + \"\\t\" + \"Num_s_accepted_(max_10000)\" + \"\\t\" + \\\n",
    "                  \"Likelihood_0\" + \"\\t\" + \"Likelihood_s\" + \"\\t\" + \"LR\" + \"\\t\" + \"LogLR\" + \\\n",
    "                  \"\\t\" + \"LRT_p_value\" + \"\\t\" + \"Adjusted_p_value\" + \"\\n\")\n",
    "        \n",
    "        in_file = open(inFile, 'r')\n",
    "        header = in_file.readline().strip()\n",
    "        i = 0\n",
    "        for line in in_file:\n",
    "            info = line.strip().split('\\t')\n",
    "            chrom = info[0]\n",
    "            start = int(info[1])\n",
    "            end = int(info[2])\n",
    "            per = int(info[4])\n",
    "            optimal_ru = int(info[5])\n",
    "            ABC_s = info[17]\n",
    "            total_n = int(info[3])\n",
    "\n",
    "            if ABC_s != 'N/A' and total_n > total_threshold: \n",
    "               \n",
    "                line = line.strip('\\n')\n",
    "                out_file.write(line)\n",
    "                out_file.write('\\t' + str(adj_p_val[1][i]) + '\\n')\n",
    "                i = i + 1\n",
    "        in_file.close()\n",
    "        out_file.close()\n",
    "    print('Number of dinucleotides: ' + str(num_dinuc))\n",
    "    print('Number of trinucleotides: ' + str(num_trinuc))\n",
    "    print('Number of tetranucleotides: ' + str(num_tetranuc))"
   ]
  },
  {
   "cell_type": "code",
   "execution_count": 9,
   "metadata": {},
   "outputs": [
    {
     "name": "stdout",
     "output_type": "stream",
     "text": [
      "Running main\n",
      "2 50k\n",
      "Number of dinucleotides: 29874\n",
      "Number of trinucleotides: 39250\n",
      "Number of tetranucleotides: 13099\n",
      "CPU times: user 1.83 s, sys: 268 ms, total: 2.1 s\n",
      "Wall time: 1.92 s\n"
     ]
    }
   ],
   "source": [
    "%%time\n",
    "if __name__ == '__main__':\n",
    "    main()"
   ]
  }
 ],
 "metadata": {
  "kernelspec": {
   "display_name": "Python 3",
   "language": "python",
   "name": "python3"
  },
  "language_info": {
   "codemirror_mode": {
    "name": "ipython",
    "version": 3
   },
   "file_extension": ".py",
   "mimetype": "text/x-python",
   "name": "python",
   "nbconvert_exporter": "python",
   "pygments_lexer": "ipython3",
   "version": "3.7.4"
  }
 },
 "nbformat": 4,
 "nbformat_minor": 2
}
