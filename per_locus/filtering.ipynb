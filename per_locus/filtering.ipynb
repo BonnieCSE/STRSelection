{
 "cells": [
  {
   "cell_type": "code",
   "execution_count": 18,
   "metadata": {},
   "outputs": [],
   "source": [
    "import sys\n",
    "sys.path.append(\"/storage/BonnieH/selection_project/helper_functions\")\n",
    "from ABC_functions import *"
   ]
  },
  {
   "cell_type": "code",
   "execution_count": 19,
   "metadata": {},
   "outputs": [],
   "source": [
    "# Code to filter out short loci based on optimal allele length threshold \n",
    "\n",
    "def FilterShortLoci(inFile, outFile):\n",
    "    \n",
    "    allele_freqs_file = open(inFile, 'r')\n",
    "    results = open(outFile, 'w')\n",
    "    \n",
    "    num_lines_before_filt = 0\n",
    "    num_lines_after_filt = 0\n",
    "    \n",
    "    for line in allele_freqs_file:\n",
    "        num_lines_before_filt = num_lines_before_filt + 1\n",
    "        \n",
    "        # Get information from line\n",
    "        info = line.strip().split('\\t')\n",
    "        chrom = info[0]\n",
    "        start = int(info[1])\n",
    "        end = int(info[2])\n",
    "        freqs = info[3]\n",
    "        per = int(info[5])\n",
    "        if freqs == '.':\n",
    "            print(line)\n",
    "        \n",
    "        #  Only continue if freqs != '.'\n",
    "        if freqs != '.' : \n",
    "            \n",
    "            # Get info about reference allele (length in base pairs, repeat units)\n",
    "            optimal_ru = Process_Freqs(freqs, per, end, start, False)\n",
    "            \n",
    "           \n",
    "            if (per == 2 and optimal_ru >= 11) \\\n",
    "            or (per == 3 and optimal_ru >= 5) or (per == 4 and optimal_ru >= 7):\n",
    "                results.write(line)\n",
    "                num_lines_after_filt = num_lines_after_filt + 1\n",
    "                \n",
    "            \n",
    "            '''\n",
    "            if per == 2 and optimal_ru >= 11:\n",
    "                results.write(line)\n",
    "                num_lines_after_filt = num_lines_after_filt + 1 \n",
    "                \n",
    "            elif per == 3 and optimal_ru >= 5:\n",
    "                results.write(line)\n",
    "                num_lines_after_filt = num_lines_after_filt + 1\n",
    "                \n",
    "            elif per == 4 and optimal_ru >= 7:\n",
    "                results.write(line)\n",
    "                num_lines_after_filt = num_lines_after_filt + 1\n",
    "            '''\n",
    "        \n",
    "            \n",
    "    results.close()        \n",
    "    allele_freqs_file.close()\n",
    "    print(\"Done\")\n",
    "    print('Num loci before filtering: ' + str(num_lines_before_filt))\n",
    "    print('Num loci after filtering: ' + str(num_lines_after_filt))"
   ]
  },
  {
   "cell_type": "code",
   "execution_count": 20,
   "metadata": {},
   "outputs": [],
   "source": [
    "def main():\n",
    "    inFile = '/storage/BonnieH/selection_project/ssc_files/0810/allele_freqs_per234.txt'\n",
    "    outFile = '/storage/BonnieH/selection_project/ssc_files/0810/allele_freqs_filt.txt'\n",
    "    FilterShortLoci(inFile, outFile)"
   ]
  },
  {
   "cell_type": "code",
   "execution_count": 21,
   "metadata": {
    "scrolled": true
   },
   "outputs": [
    {
     "name": "stdout",
     "output_type": "stream",
     "text": [
      "Done\n",
      "Num loci before filtering: 531183\n",
      "Num loci after filtering: 90175\n",
      "CPU times: user 4.49 s, sys: 41.9 ms, total: 4.53 s\n",
      "Wall time: 4.53 s\n"
     ]
    }
   ],
   "source": [
    "%%time\n",
    "if __name__ == '__main__':\n",
    "    main()"
   ]
  },
  {
   "cell_type": "code",
   "execution_count": null,
   "metadata": {},
   "outputs": [],
   "source": []
  }
 ],
 "metadata": {
  "kernelspec": {
   "display_name": "Python 3",
   "language": "python",
   "name": "python3"
  },
  "language_info": {
   "codemirror_mode": {
    "name": "ipython",
    "version": 3
   },
   "file_extension": ".py",
   "mimetype": "text/x-python",
   "name": "python",
   "nbconvert_exporter": "python",
   "pygments_lexer": "ipython3",
   "version": "3.7.4"
  }
 },
 "nbformat": 4,
 "nbformat_minor": 2
}
