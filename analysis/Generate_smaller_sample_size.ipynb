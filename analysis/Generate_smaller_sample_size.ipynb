{
 "cells": [
  {
   "cell_type": "markdown",
   "metadata": {},
   "source": [
    "Generate new abc lookup tables from eurodem_prior2_v2 for 1kg european samples since the sample size is now 200 instead of 6500 for SSC\n",
    "New name: eurodem_prior2_v2_1kg\n",
    "\n",
    "Generate new abc lookup tables from eurodem_prior2 for 1kg european samples since the sample size is now 1000 instead of 6500 for SSC\n",
    "New name: eurodem_prior2_1kg_euro"
   ]
  },
  {
   "cell_type": "code",
   "execution_count": 48,
   "metadata": {},
   "outputs": [],
   "source": [
    "import sys\n",
    "sys.path.append(\"/storage/BonnieH/selection_project/helper_functions\")\n",
    "from ABC_functions import *\n",
    "import random"
   ]
  },
  {
   "cell_type": "code",
   "execution_count": 49,
   "metadata": {},
   "outputs": [],
   "source": [
    "def MultSamp(allele_freqs, end_samp_n):\n",
    "    \n",
    "    allele_counts = np.random.multinomial(end_samp_n, allele_freqs)\n",
    "    \n",
    "    # Rescale allele_freqs to sum to 1\n",
    "    rowsum = np.sum(allele_counts)\n",
    "\n",
    "    allele_freqs = allele_counts/rowsum\n",
    "    \n",
    "    return allele_freqs"
   ]
  },
  {
   "cell_type": "code",
   "execution_count": 50,
   "metadata": {},
   "outputs": [],
   "source": [
    "def WriteABCFile(folder, new_folder_ext, end_samp_n, per):\n",
    "    pers = [3,4]\n",
    "    opt_allele_dic = {}\n",
    "    opt_allele_dic[2] = np.arange(11,21,1)\n",
    "    opt_allele_dic[3] = np.arange(5,14,1)\n",
    "    opt_allele_dic[4] = np.arange(7,11,1)\n",
    "    opt_allele_dic[5] = np.arange(11,21,1)\n",
    "    opt_allele_dic[6] = np.arange(11,21,1)\n",
    "    opt_allele_dic[7] = np.arange(5,14,1)\n",
    "    opt_allele_dic[8] = np.arange(5,14,1)\n",
    "    opt_allele_dic[9] = np.arange(7,11,1)\n",
    "    \n",
    "    #for per in pers:\n",
    "    if 1==1:\n",
    "        for opt_allele in opt_allele_dic[per]:\n",
    "            \n",
    "            outFile = '/gymreklab-tscc/bonnieh/abc/results/' + folder + new_folder_ext + '/' + str(per) + '_' + str(opt_allele) + '.txt'\n",
    "            results = open(outFile, \"w\")\n",
    "\n",
    "            # Write results header\n",
    "            results.write(\"s\" + \"\\t\" + \"het\" + \"\\t\" + \"common\" +\"\\t\" + \"bins\" + \"\\t\" + \"freqs\" + \"\\n\")\n",
    "            \n",
    "            abcFile  = '/gymreklab-tscc/bonnieh/abc/results/' + folder + '/' + str(per) + '_' + str(opt_allele) + '.txt'\n",
    "            abc_file = open(abcFile, 'r')\n",
    "            header = abc_file.readline().strip().split('\\t')\n",
    "            \n",
    "            freqs_column = 0\n",
    "            for i in range(0, len(header)):\n",
    "                if header[i] == 'freqs':\n",
    "                    freqs_column = i\n",
    "            \n",
    "            count = 0\n",
    "            for line in abc_file:\n",
    "                count = count + 1\n",
    "                if count%1000 == 0:\n",
    "                    print(count)\n",
    "                info = line.strip().split('\\t')\n",
    "                \n",
    "                s = float(info[0])\n",
    "                \n",
    "                freq_string = info[freqs_column]\n",
    "                \n",
    "                allele_freqs = [float(freq) for freq in freq_string.split(',')]\n",
    "                allele_freqs_new = MultSamp(allele_freqs, end_samp_n)\n",
    "                    \n",
    "                \n",
    "                het = 1-sum([item**2 for item in allele_freqs_new])\n",
    "                common = len([i for i in allele_freqs_new if i >= 0.05]) \n",
    "                bins = GetBins(allele_freqs_new, 5)\n",
    "                results.write(str(s) + \"\\t\" + str(het) + \"\\t\" + str(common) + \"\\t\" + ','.join(str(item) for item in bins) + \"\\t\" + ','.join(str(item) for item in allele_freqs_new) + \"\\n\")\n",
    "                \n",
    "\n",
    "            abc_file.close()\n",
    "                        \n",
    "            results.close()\n",
    "            print('Done with one file')\n",
    "    print('Done')"
   ]
  },
  {
   "cell_type": "code",
   "execution_count": 51,
   "metadata": {},
   "outputs": [],
   "source": [
    "def WriteLRTFile(folder, new_folder_ext, end_samp_n):\n",
    "    pers = [10,12]\n",
    "    opt_allele_dic = {}\n",
    "    opt_allele_dic[2] = np.arange(11,21,1)\n",
    "    opt_allele_dic[3] = np.arange(5,14,1)\n",
    "    opt_allele_dic[4] = np.arange(7,11,1)\n",
    "    opt_allele_dic[5] = np.arange(11,21,1)\n",
    "    opt_allele_dic[6] = np.arange(11,21,1)\n",
    "    opt_allele_dic[7] = np.arange(5,14,1)\n",
    "    opt_allele_dic[8] = np.arange(5,14,1)\n",
    "    opt_allele_dic[9] = np.arange(7,11,1)\n",
    "    \n",
    "    opt_allele_dic[10] = np.arange(11,21,1)\n",
    "    opt_allele_dic[12] = np.arange(7,11,1)\n",
    "    \n",
    "    for per in pers:\n",
    "        for opt_allele in opt_allele_dic[per]:\n",
    "            \n",
    "            outFile = '/gymreklab-tscc/bonnieh/lrt/results/' + folder + new_folder_ext + '/' + str(per) + '_' + str(opt_allele) + '_15_freqs.txt'\n",
    "            results = open(outFile, \"w\")\n",
    "\n",
    "            # Write results header\n",
    "            results.write(\"s\" + \"\\t\" + \"freqs\" + \"\\n\")\n",
    "            \n",
    "            abcFile  = '/gymreklab-tscc/bonnieh/lrt/results/' + folder + '/' + str(per) + '_' + str(opt_allele) + '_15_freqs.txt'\n",
    "            abc_file = open(abcFile, 'r')\n",
    "            header = abc_file.readline().strip().split('\\t')\n",
    "            \n",
    "            \n",
    "            for line in abc_file:\n",
    "                \n",
    "                info = line.strip().split('\\t')\n",
    "                \n",
    "                s = float(info[0])\n",
    "                results.write(str(s) + \"\\t\")\n",
    "                \n",
    "                freq_string = info[1]\n",
    "                freq_list = [freq for freq in freq_string.split(';')]\n",
    "                \n",
    "                for i in range(0, 200): #2000\n",
    "                    allele_freqs = [float(freq) for freq in freq_list[i].split(',')]\n",
    "                    allele_freqs_new = MultSamp(allele_freqs, end_samp_n)\n",
    "                    results.write(','.join(str(item) for item in allele_freqs_new))\n",
    "                    \n",
    "                    if i == 199: #1999\n",
    "                        results.write('\\n')\n",
    "                    else:\n",
    "                        results.write(';')\n",
    "\n",
    "            abc_file.close()\n",
    "                        \n",
    "            results.close()\n",
    "            print('Done with one file')\n",
    "    print('Done')"
   ]
  },
  {
   "cell_type": "code",
   "execution_count": 52,
   "metadata": {},
   "outputs": [
    {
     "data": {
      "text/plain": [
       "\"\\ndef main():\\n    new_folder_ext = '_1kg_euro'\\n    samplesize = 1000\\n    per_dic = {}\\n    per_dic['di'] = 2\\n    per_dic['tri'] = 3\\n    per_dic['tetra'] = 4\\n    per = ['di','tri','tetra']\\n    setting = ['a','b','c','d','e','f']\\n    #for elem in per:\\n        #for sett in setting: \\n            \\n            \\n            #WriteABCFile('eurodem_prior2_' + elem + 'nuc_' + sett ,new_folder_ext, samplesize, per_dic[elem])\\n    \\n        #if elem == 'tri' or elem == 'tetra':\\n            #WriteABCFile('eurodem_prior2_' + elem + 'nuc_' + 'g' ,new_folder_ext, samplesize, per_dic[elem])\\n    #WriteABCFile('eurodem_prior2',new_folder_ext, samplesize)\\n    #WriteLRTFile('eurodem_0810', new_folder_ext, samplesize)\\n    WriteABCFile('eurodem_prior2_dinuc_high_rho' ,new_folder_ext, samplesize, 2)\\n\""
      ]
     },
     "execution_count": 52,
     "metadata": {},
     "output_type": "execute_result"
    }
   ],
   "source": [
    "'''\n",
    "def main():\n",
    "    new_folder_ext = '_1kg_euro'\n",
    "    samplesize = 1000\n",
    "    per_dic = {}\n",
    "    per_dic['di'] = 2\n",
    "    per_dic['tri'] = 3\n",
    "    per_dic['tetra'] = 4\n",
    "    per = ['di','tri','tetra']\n",
    "    setting = ['a','b','c','d','e','f']\n",
    "    #for elem in per:\n",
    "        #for sett in setting: \n",
    "            \n",
    "            \n",
    "            #WriteABCFile('eurodem_prior2_' + elem + 'nuc_' + sett ,new_folder_ext, samplesize, per_dic[elem])\n",
    "    \n",
    "        #if elem == 'tri' or elem == 'tetra':\n",
    "            #WriteABCFile('eurodem_prior2_' + elem + 'nuc_' + 'g' ,new_folder_ext, samplesize, per_dic[elem])\n",
    "    #WriteABCFile('eurodem_prior2',new_folder_ext, samplesize)\n",
    "    #WriteLRTFile('eurodem_0810', new_folder_ext, samplesize)\n",
    "    WriteABCFile('eurodem_prior2_dinuc_high_rho' ,new_folder_ext, samplesize, 2)\n",
    "'''"
   ]
  },
  {
   "cell_type": "code",
   "execution_count": 53,
   "metadata": {},
   "outputs": [],
   "source": [
    "def main():\n",
    "    WriteLRTFile('eurodem_v2', '_1kg', 1000)"
   ]
  },
  {
   "cell_type": "code",
   "execution_count": 54,
   "metadata": {},
   "outputs": [
    {
     "name": "stdout",
     "output_type": "stream",
     "text": [
      "Done with one file\n",
      "Done with one file\n",
      "Done with one file\n",
      "Done with one file\n",
      "Done with one file\n",
      "Done with one file\n",
      "Done with one file\n",
      "Done with one file\n",
      "Done with one file\n",
      "Done with one file\n",
      "Done with one file\n",
      "Done with one file\n",
      "Done with one file\n",
      "Done with one file\n",
      "Done\n",
      "CPU times: user 459 ms, sys: 10.4 ms, total: 470 ms\n",
      "Wall time: 637 ms\n"
     ]
    }
   ],
   "source": [
    "%%time\n",
    "if __name__ == '__main__':\n",
    "    main()"
   ]
  }
 ],
 "metadata": {
  "kernelspec": {
   "display_name": "Python 3",
   "language": "python",
   "name": "python3"
  },
  "language_info": {
   "codemirror_mode": {
    "name": "ipython",
    "version": 3
   },
   "file_extension": ".py",
   "mimetype": "text/x-python",
   "name": "python",
   "nbconvert_exporter": "python",
   "pygments_lexer": "ipython3",
   "version": "3.7.4"
  }
 },
 "nbformat": 4,
 "nbformat_minor": 2
}
