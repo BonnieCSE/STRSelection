{
 "cells": [
  {
   "cell_type": "code",
   "execution_count": 48,
   "metadata": {},
   "outputs": [
    {
     "name": "stdout",
     "output_type": "stream",
     "text": [
      "Populating the interactive namespace from numpy and matplotlib\n"
     ]
    }
   ],
   "source": [
    "# Plot gamma distribution\n",
    "%pylab inline\n",
    "import scipy.stats as stats\n",
    "import numpy as np\n",
    "import matplotlib.pyplot as plt\n",
    "import matplotlib\n",
    "matplotlib.rcParams['pdf.fonttype'] = 42\n",
    "matplotlib.rcParams['ps.fonttype'] = 42"
   ]
  },
  {
   "cell_type": "code",
   "execution_count": 49,
   "metadata": {},
   "outputs": [
    {
     "name": "stdout",
     "output_type": "stream",
     "text": [
      "0.0102\n",
      "Max s\n",
      "0.15914044886630838\n",
      "median\n",
      "0.005290172195587686\n"
     ]
    },
    {
     "data": {
      "text/plain": [
       "Text(0.5, 1.0, 'Gamma Distribution k=0.60000; theta=0.01700')"
      ]
     },
     "execution_count": 49,
     "metadata": {},
     "output_type": "execute_result"
    },
    {
     "data": {
      "image/png": "[encoded data removed]",
      "text/plain": [
       "<Figure size 432x288 with 1 Axes>"
      ]
     },
     "metadata": {
      "needs_background": "light"
     },
     "output_type": "display_data"
    }
   ],
   "source": [
    "shape, scale =  0.600000, 0.017#0.004, 2.5\n",
    "print(shape*scale)\n",
    "beta = 1/scale\n",
    "num_sims = 10000\n",
    "s = []\n",
    "for i in range(0, num_sims):\n",
    "    s_val = np.random.gamma(shape, scale)\n",
    "    if s_val > 1:\n",
    "        print(s_val)\n",
    "        s_val = 1\n",
    "    \n",
    "        \n",
    "    s.append(s_val)\n",
    "    \n",
    "print(\"Max s\")\n",
    "print(max(s))\n",
    "\n",
    "svals = [0, 0, 0, 0, 0]\n",
    "for elem in s:\n",
    "    if elem < 10**-5:\n",
    "        svals[0] += 1\n",
    "    elif elem < 10**-4:\n",
    "        svals[1] += 1\n",
    "    elif elem < 10**-3:\n",
    "        svals[2] += 1\n",
    "    elif elem < 10**-2:\n",
    "        svals[3] += 1\n",
    "    elif elem >= 10**-2:\n",
    "        svals[4] += 1\n",
    "'''\n",
    "print(\"percent s < 10^-5\")\n",
    "print(svals[0]/num_sims*100)\n",
    "print(\"percent 10^-5 <= s < 10^-4\")\n",
    "print(svals[1]/num_sims*100)\n",
    "print(\"percent 10^-4 <= s < 10^-3\")\n",
    "print(svals[2]/num_sims*100)\n",
    "print(\"percent 10^-3 <= s < 10^-2\")\n",
    "print(svals[3]/num_sims*100)\n",
    "print(\"percent s >= 0.01\")\n",
    "print(svals[4]/num_sims*100)\n",
    "'''\n",
    "print('median')\n",
    "\n",
    "print(np.median(s))\n",
    "\n",
    "'''\n",
    "plt.figure(1)\n",
    "\n",
    "density = stats.gaussian_kde(s)\n",
    "n, x, _ = plt.hist(s, bins=100, \n",
    "                   histtype=u'step', density=True)\n",
    "plt.plot(x, density(x))\n",
    "#plt.hist(s, bins = 100, weights=np.ones(len(s)) / len(s)) # , bins=1000 weights=np.ones(len(s)) / len(s)\n",
    "plt.xlabel(\"s\", size = 15)\n",
    "plt.ylabel(\"Density\", size = 15)\n",
    "plt.title(\"Posterior distribution on s\", size=15)\n",
    "#plt.savefig(\"/storage/BonnieH/selection_project/analysis/figures/gamma_distribution_k_%.4f_theta_%.4f.pdf\"%(shape,scale),bbox_inches='tight')\n",
    "plt.xticks(fontsize=15, rotation=45) \n",
    "plt.yticks(fontsize=15)\n",
    "plt.show()\n",
    "'''\n",
    "plt.figure(2)\n",
    "x = ['0<=s<10^-5', '10^-5<=s<10^-4', '10^-4<=s<10^-3', '10^-3<=s<10^-2', 's>=10^-2']\n",
    "y_pos = np.arange(len(x))\n",
    "    \n",
    "barWidth = 0.2\n",
    "r1 = np.arange(len(x))\n",
    "total = sum(svals)\n",
    "for i in range(0, len(svals)):\n",
    "    svals[i] = svals[i]/total\n",
    "plt.bar(r1, svals, color='red', width=barWidth, edgecolor='white', label='euro, eps = (obs_het + 0.0006)/3') #label='20k gens'\n",
    "plt.xticks([r + barWidth/2 for r in range(len(x))], x)\n",
    "plt.xticks(fontsize=10, rotation=45) # rotation=90\n",
    "plt.yticks(fontsize=15)\n",
    "    \n",
    "plt.xlabel(\"S value\", size=20)\n",
    "plt.ylabel(\"Probability mass\", size=20)\n",
    "\n",
    "plt.title(\"Gamma Distribution k=%.5f; theta=%.5f\"%(shape, scale), size=15) #: : \\n ABC acceptance < 40%Trinucleotides Optimal Ru >= 9\n",
    "#plt.savefig(\"/storage/BonnieH/selection_project/analysis/figures/gamma_distribution_bars_k_%.4f_theta_%.4f.pdf\"%(shape,scale),bbox_inches='tight')"
   ]
  }
 ],
 "metadata": {
  "kernelspec": {
   "display_name": "Python 3",
   "language": "python",
   "name": "python3"
  },
  "language_info": {
   "codemirror_mode": {
    "name": "ipython",
    "version": 3
   },
   "file_extension": ".py",
   "mimetype": "text/x-python",
   "name": "python",
   "nbconvert_exporter": "python",
   "pygments_lexer": "ipython3",
   "version": "3.7.4"
  }
 },
 "nbformat": 4,
 "nbformat_minor": 2
}
