{
 "cells": [
  {
   "cell_type": "code",
   "execution_count": 5,
   "metadata": {},
   "outputs": [],
   "source": [
    "# Write per, opt_allele for which to perform simulations for ABC to file\n",
    "\n",
    "import numpy as np\n",
    "import math\n",
    "\n",
    "def WriteTestCombos():\n",
    "    pers = [1]\n",
    "    opt_allele_dic = {}\n",
    "    opt_allele_dic[1] = np.arange(12,20,4)\n",
    "    opt_allele_dic[2] = np.arange(11,21,1)\n",
    "    opt_allele_dic[3] = np.arange(5,13,1)\n",
    "    opt_allele_dic[4] = np.arange(7,11,1)\n",
    "    \n",
    "    combo_list = [(0.187, 0.0356, 'pr1')]\n",
    "    outFile = '/gymreklab-tscc/bonnieh/abc/ABC_test_combos.txt'\n",
    "    results = open(outFile, 'w')\n",
    "    num_files = 2\n",
    "    num_sims = 5\n",
    "    \n",
    "    for j in range(0,num_files):\n",
    "        for per in pers:\n",
    "            for combo in combo_list:\n",
    "                opt_allele_list = opt_allele_dic[per]\n",
    "                for opt_allele in opt_allele_list:\n",
    "                    results.write(str(per) + '\\t' + str(opt_allele)  + \\\n",
    "                                  '\\t' + str(combo[0]) + '\\t' + str(combo[1]) + \\\n",
    "                                  '\\t' + str(j) + '\\t' + str(combo[2]) +  '\\t' + str(num_sims) + '\\n')\n",
    "                    \n",
    "                    \n",
    "    results.close()\n",
    "   \n",
    "def WriteCombos():\n",
    "    pers = [2,3,4]\n",
    "    opt_allele_dic = {}\n",
    "    opt_allele_dic[1] = np.arange(12,48,4)\n",
    "    opt_allele_dic[2] = np.arange(11,21,1)\n",
    "    opt_allele_dic[3] = np.arange(5,14,1)\n",
    "    opt_allele_dic[4] = np.arange(7,11,1)\n",
    "    \n",
    "    combo_list = [(0.187, 0.0356, 'prior1'), (0.0881,0.2541, 'prior2'), (0.13,0.5,'prior3')]\n",
    "    outFile = '/gymreklab-tscc/bonnieh/abc/ABC_combos.txt'\n",
    "    results = open(outFile, 'w')\n",
    "    num_files = 2\n",
    "    num_sims = 5000\n",
    "    \n",
    "    for j in range(0,num_files):\n",
    "        for per in pers:\n",
    "            for combo in combo_list:\n",
    "                opt_allele_list = opt_allele_dic[per]\n",
    "                for opt_allele in opt_allele_list:\n",
    "                    results.write(str(per) + '\\t' + str(opt_allele)  + \\\n",
    "                                  '\\t' + str(combo[0]) + '\\t' + str(combo[1]) + \\\n",
    "                                  '\\t' + str(j) + '\\t' + str(combo[2]) +  '\\t' + str(num_sims) + '\\n')\n",
    "                    \n",
    "    results.close()\n",
    "\n",
    "def main():\n",
    "    WriteCombos()\n",
    "    #WriteTestCombos()"
   ]
  },
  {
   "cell_type": "code",
   "execution_count": 6,
   "metadata": {},
   "outputs": [
    {
     "name": "stdout",
     "output_type": "stream",
     "text": [
      "CPU times: user 1.57 ms, sys: 51 µs, total: 1.62 ms\n",
      "Wall time: 27.8 ms\n"
     ]
    }
   ],
   "source": [
    "%%time\n",
    "if __name__ == '__main__':\n",
    "    main()"
   ]
  }
 ],
 "metadata": {
  "kernelspec": {
   "display_name": "Python 3",
   "language": "python",
   "name": "python3"
  },
  "language_info": {
   "codemirror_mode": {
    "name": "ipython",
    "version": 3
   },
   "file_extension": ".py",
   "mimetype": "text/x-python",
   "name": "python",
   "nbconvert_exporter": "python",
   "pygments_lexer": "ipython3",
   "version": "3.7.4"
  }
 },
 "nbformat": 4,
 "nbformat_minor": 2
}
