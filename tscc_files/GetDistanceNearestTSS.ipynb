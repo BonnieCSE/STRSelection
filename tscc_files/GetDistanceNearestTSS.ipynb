{
 "cells": [
  {
   "cell_type": "markdown",
   "metadata": {},
   "source": [
    "Get distance to nearest TSS for each locus"
   ]
  },
  {
   "cell_type": "code",
   "execution_count": 81,
   "metadata": {},
   "outputs": [
    {
     "name": "stdout",
     "output_type": "stream",
     "text": [
      "Populating the interactive namespace from numpy and matplotlib\n"
     ]
    }
   ],
   "source": [
    "%pylab inline\n",
    "import matplotlib"
   ]
  },
  {
   "cell_type": "code",
   "execution_count": 82,
   "metadata": {},
   "outputs": [],
   "source": [
    "annotations_file_name = '/storage/BonnieH/selection_project/annotations/ccds.txt'\n",
    "#sistr_file_name = '/storage/BonnieH/selection_project/per_locus/SISTR_results/SSC_scores.txt'\n",
    "sistr_file_name = '/storage/BonnieH/selection_project/1000genomes/euro_allele_freqs/allele_freqs_filt_w_total_thresh.txt'"
   ]
  },
  {
   "cell_type": "code",
   "execution_count": 83,
   "metadata": {},
   "outputs": [],
   "source": [
    "def getNearestDist(s_ABC_round, s_list_available):\n",
    "    min_dist = 100000000000000000000000000000000\n",
    "    nearest_s = -2\n",
    "    for elem in s_list_available:\n",
    "        dist = abs(s_ABC_round - elem)\n",
    "        if dist < min_dist:\n",
    "            min_dist = dist\n",
    "            nearest_s = elem\n",
    "    return nearest_s"
   ]
  },
  {
   "cell_type": "code",
   "execution_count": 84,
   "metadata": {},
   "outputs": [],
   "source": [
    "def main():\n",
    "    # Get all TSS\n",
    "\n",
    "    results = open('/storage/BonnieH/selection_project/1000genomes/euro_allele_freqs/allele_freqs_w_dist_annot.txt', 'w')\n",
    "    \n",
    "    minus_tss = {}\n",
    "    plus_tss = {}\n",
    "    chrom_numbers = list(range(1,23))\n",
    "    chrom_list = []\n",
    "\n",
    "    for chrom in chrom_numbers:\n",
    "        minus_tss['chr'+str(chrom)] = []\n",
    "        plus_tss['chr'+str(chrom)] = []\n",
    "        chrom_list.append('chr' + str(chrom))\n",
    "\n",
    "    annotations_file = open(annotations_file_name, 'r')\n",
    "    header = annotations_file.readline().strip().split('\\t')\n",
    "    \n",
    "    # Get information from line\n",
    "    for line in annotations_file:\n",
    "        info = line.strip().split('\\t')\n",
    "        chrom = info[0]\n",
    "        start = int(info[1])\n",
    "        end = int(info[2])\n",
    "        strand = info[5]\n",
    "        if chrom in chrom_list:\n",
    "            if strand == '+':\n",
    "                if start not in plus_tss[chrom]:\n",
    "                    plus_tss[chrom].append(start)\n",
    "\n",
    "            if strand == '-':\n",
    "                if end not in minus_tss[chrom]:\n",
    "                    minus_tss[chrom].append(end)\n",
    "\n",
    "    annotations_file.close()\n",
    "    print(len(minus_tss))\n",
    "    print(len(plus_tss))\n",
    "    #for chrom in chrom_numbers:\n",
    "        #print(len(plus_tss['chr'+str(chrom)]))\n",
    "    #print(minus_tss[1])\n",
    "    \n",
    "    sistr_file = open(sistr_file_name, 'r')\n",
    "    #header = sistr_file.readline().strip().split('\\t')\n",
    "    \n",
    "    bin_incr =1000\n",
    "    num_bins= int(20000/bin_incr)\n",
    "   \n",
    "    start_bin_list = []\n",
    "   \n",
    "    # Get information from line\n",
    "    for line in sistr_file:\n",
    "        \n",
    "        info = line.strip().split('\\t')\n",
    "        chrom = int(info[0])\n",
    "        start = int(info[1])\n",
    "        end = int(info[2])\n",
    "        middle = int((start+end)/2)\n",
    "        period = int(info[5])\n",
    "        write = False\n",
    "        motif = info[6]\n",
    "        if period == 2 or period == 3 or period == 4: # and opt_allele == 5: #motif == motif_to_use: # total > 5214\n",
    "            line= line.rstrip(\"\\n\")\n",
    "            results.write(line)\n",
    "           \n",
    "            plus_list = plus_tss['chr'+str(chrom)]\n",
    "            minus_list = minus_tss['chr'+str(chrom)]\n",
    "            plus_closest = getNearestDist(middle, plus_list)\n",
    "            minus_closest = getNearestDist(middle, minus_list)\n",
    "            \n",
    "            if abs(middle-plus_closest) < abs(minus_closest-middle):\n",
    "                distance = middle-plus_closest\n",
    "\n",
    "            else:\n",
    "                distance = minus_closest-middle\n",
    "            \n",
    "            if distance < 10000 and distance > -10000:\n",
    "                \n",
    "                start_bin = -10000\n",
    "                count = 0\n",
    "                \n",
    "                for k in range(0, num_bins):\n",
    "                    if distance > start_bin and distance < start_bin + bin_incr:\n",
    "                        \n",
    "                        results.write('\\t' + str(start_bin) + '\\n')\n",
    "                        write = True\n",
    "                        count = count + 1\n",
    "                        start_bin_list.append(start_bin)\n",
    "                        break\n",
    "                    start_bin = start_bin + bin_incr\n",
    "            if write == False:\n",
    "                results.write('\\t' + str(-1) + '\\n')\n",
    "            \n",
    "            \n",
    "    sistr_file.close()\n",
    "    print(start_bin_list.count(-10000))\n",
    "    print(start_bin_list.count(-9000))\n",
    "    print(start_bin_list.count(-8000))\n",
    "    print(start_bin_list.count(-7000))\n",
    "    print(start_bin_list.count(-6000))\n",
    "    print(start_bin_list.count(-5000))\n",
    "    results.close()"
   ]
  },
  {
   "cell_type": "code",
   "execution_count": 85,
   "metadata": {},
   "outputs": [
    {
     "name": "stdout",
     "output_type": "stream",
     "text": [
      "22\n",
      "22\n",
      "536\n",
      "519\n",
      "542\n",
      "548\n",
      "622\n",
      "641\n",
      "CPU times: user 16.4 s, sys: 60 ms, total: 16.5 s\n",
      "Wall time: 16.5 s\n"
     ]
    }
   ],
   "source": [
    "%%time\n",
    "if __name__ == '__main__':\n",
    "    main()"
   ]
  }
 ],
 "metadata": {
  "kernelspec": {
   "display_name": "Python 3",
   "language": "python",
   "name": "python3"
  },
  "language_info": {
   "codemirror_mode": {
    "name": "ipython",
    "version": 3
   },
   "file_extension": ".py",
   "mimetype": "text/x-python",
   "name": "python",
   "nbconvert_exporter": "python",
   "pygments_lexer": "ipython3",
   "version": "3.7.4"
  }
 },
 "nbformat": 4,
 "nbformat_minor": 2
}
