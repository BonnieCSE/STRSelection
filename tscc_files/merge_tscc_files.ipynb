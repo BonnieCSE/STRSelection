{
 "cells": [
  {
   "cell_type": "code",
   "execution_count": 10,
   "metadata": {},
   "outputs": [
    {
     "name": "stdout",
     "output_type": "stream",
     "text": [
      "Populating the interactive namespace from numpy and matplotlib\n"
     ]
    }
   ],
   "source": [
    "%pylab inline\n",
    "import sys\n",
    "sys.path.append(\"/storage/BonnieH/selection_project/helper_functions\")\n",
    "from Simulation_functions import *\n",
    "from LRT_functions import *"
   ]
  },
  {
   "cell_type": "code",
   "execution_count": 11,
   "metadata": {},
   "outputs": [
    {
     "data": {
      "text/plain": [
       "'\\nper = 3\\nopt_alleles = [5,6,7,8,9,10,11,12]\\nmodels = [\\'p1\\', \\'p2\\', \\'p3\\', \\'p4\\']\\nfor model in models:\\n    for opt_allele in opt_alleles:\\n        outFolder = model + \\'_rev\\'\\n        outFile = \\'/gymreklab-tscc/bonnieh/abc/results/euro_\\' + outFolder + \\'/\\' + str(per) + \\'_\\' + str(opt_allele) + \\'.txt\\'\\n        results = open(outFile, \"w\")\\n        \\n        # Write results header\\n        results.write(\"s\" + \"\\t\" + \"het\" + \"\\t\" + \"common\" +\"\\t\" + \"bins_wide\" + \"\\t\" + \"bins_narrow\" + \"\\n\")\\n        abcFile  = \\'/gymreklab-tscc/bonnieh/abc/results/euro_\\' + model +\\'/\\' + str(per) + \\'_\\' + str(opt_allele) + \\'.txt\\'\\n        abc_file = open(abcFile, \\'r\\')\\n        header = abc_file.readline().strip()\\n        abc_list = []\\n\\n        for line in abc_file:\\n            info = line.strip().split(\\'\\t\\')\\n            s = float(info[0])\\n            het = float(info[1])\\n            common = float(info[2])\\n            bins_wide = info[3]\\n            freqs_string = info[4]\\n            \\n            freqs = [float(s) for s in freqs_string.split(\\',\\')]\\n            bins_narrow = GetBinsNarrow(freqs)\\n            \\n\\n            results.write(str(s) + \"\\t\" + str(het) + \"\\t\" + str(common) + \"\\t\" + bins_wide + \"\\t\" + \\',\\'.join(str(item) for item in bins_narrow) + \"\\n\")\\n\\n        abc_file.close()\\nprint(\\'Done\\')\\n'"
      ]
     },
     "execution_count": 11,
     "metadata": {},
     "output_type": "execute_result"
    }
   ],
   "source": [
    "# Create diff bins for ABC_files and put in new 'rev' folders\n",
    "'''\n",
    "per = 3\n",
    "opt_alleles = [5,6,7,8,9,10,11,12]\n",
    "models = ['p1', 'p2', 'p3', 'p4']\n",
    "for model in models:\n",
    "    for opt_allele in opt_alleles:\n",
    "        outFolder = model + '_rev'\n",
    "        outFile = '/gymreklab-tscc/bonnieh/abc/results/euro_' + outFolder + '/' + str(per) + '_' + str(opt_allele) + '.txt'\n",
    "        results = open(outFile, \"w\")\n",
    "        \n",
    "        # Write results header\n",
    "        results.write(\"s\" + \"\\t\" + \"het\" + \"\\t\" + \"common\" +\"\\t\" + \"bins_wide\" + \"\\t\" + \"bins_narrow\" + \"\\n\")\n",
    "        abcFile  = '/gymreklab-tscc/bonnieh/abc/results/euro_' + model +'/' + str(per) + '_' + str(opt_allele) + '.txt'\n",
    "        abc_file = open(abcFile, 'r')\n",
    "        header = abc_file.readline().strip()\n",
    "        abc_list = []\n",
    "\n",
    "        for line in abc_file:\n",
    "            info = line.strip().split('\\t')\n",
    "            s = float(info[0])\n",
    "            het = float(info[1])\n",
    "            common = float(info[2])\n",
    "            bins_wide = info[3]\n",
    "            freqs_string = info[4]\n",
    "            \n",
    "            freqs = [float(s) for s in freqs_string.split(',')]\n",
    "            bins_narrow = GetBinsNarrow(freqs)\n",
    "            \n",
    "\n",
    "            results.write(str(s) + \"\\t\" + str(het) + \"\\t\" + str(common) + \"\\t\" + bins_wide + \"\\t\" + ','.join(str(item) for item in bins_narrow) + \"\\n\")\n",
    "\n",
    "        abc_file.close()\n",
    "print('Done')\n",
    "'''"
   ]
  },
  {
   "cell_type": "code",
   "execution_count": 12,
   "metadata": {
    "scrolled": true
   },
   "outputs": [
    {
     "data": {
      "text/plain": [
       "'\\n# Create diff bins for LRT_files\\nper = 3\\nopt_alleles = [5,6,7,8,9,10,11,12]\\nLRT_num_sims = 200\\n\\nfor opt_allele in opt_alleles:\\n    \\n    outFile = \\'/gymreklab-tscc/bonnieh/lrt/results/\\' + \\'euro_valid_2\\' + \\'/\\' + str(per) + \\'_\\' + str(opt_allele) + \\'_\\' + \\'bins.txt\\'\\n    results = open(outFile, \"w\")\\n        \\n    # Write results header\\n    results.write(\"s\" + \"\\t\" + \"bins\" + \"\\n\")\\n    lrtFile  = \\'/gymreklab-tscc/bonnieh/lrt/results/\\' + \\'euro_valid_2\\' + \\'/\\' + str(per) + \\'_\\' + str(opt_allele) + \\'_\\' + \\'freqs.txt\\'\\n    lrt_file = open(lrtFile, \\'r\\')\\n    header = lrt_file.readline().strip()\\n    \\n\\n    for line in lrt_file:\\n        info = line.strip().split(\\'\\t\\')\\n        s = float(info[0])\\n        results.write(str(s) + \"\\t\")\\n        freqs_string = info[1]\\n        freqs = [s for s in freqs_string.split(\\';\\')]\\n        \\n        for i in range(0, LRT_num_sims):\\n            freq = freqs[i]\\n            freqs_list = [float(s) for s in freq.split(\\',\\')]\\n                \\n            bins_wide = GetBinsWide(freqs_list)\\n    \\n            results.write(\\',\\'.join(str(item) for item in bins_wide))\\n            if i == LRT_num_sims - 1:\\n                results.write(\\'\\n\\')\\n            else:\\n                results.write(\\';\\')\\n\\n    lrt_file.close()\\nprint(\\'Done\\')\\n'"
      ]
     },
     "execution_count": 12,
     "metadata": {},
     "output_type": "execute_result"
    }
   ],
   "source": [
    "'''\n",
    "# Create diff bins for LRT_files\n",
    "per = 3\n",
    "opt_alleles = [5,6,7,8,9,10,11,12]\n",
    "LRT_num_sims = 200\n",
    "\n",
    "for opt_allele in opt_alleles:\n",
    "    \n",
    "    outFile = '/gymreklab-tscc/bonnieh/lrt/results/' + 'euro_valid_2' + '/' + str(per) + '_' + str(opt_allele) + '_' + 'bins.txt'\n",
    "    results = open(outFile, \"w\")\n",
    "        \n",
    "    # Write results header\n",
    "    results.write(\"s\" + \"\\t\" + \"bins\" + \"\\n\")\n",
    "    lrtFile  = '/gymreklab-tscc/bonnieh/lrt/results/' + 'euro_valid_2' + '/' + str(per) + '_' + str(opt_allele) + '_' + 'freqs.txt'\n",
    "    lrt_file = open(lrtFile, 'r')\n",
    "    header = lrt_file.readline().strip()\n",
    "    \n",
    "\n",
    "    for line in lrt_file:\n",
    "        info = line.strip().split('\\t')\n",
    "        s = float(info[0])\n",
    "        results.write(str(s) + \"\\t\")\n",
    "        freqs_string = info[1]\n",
    "        freqs = [s for s in freqs_string.split(';')]\n",
    "        \n",
    "        for i in range(0, LRT_num_sims):\n",
    "            freq = freqs[i]\n",
    "            freqs_list = [float(s) for s in freq.split(',')]\n",
    "                \n",
    "            bins_wide = GetBinsWide(freqs_list)\n",
    "    \n",
    "            results.write(','.join(str(item) for item in bins_wide))\n",
    "            if i == LRT_num_sims - 1:\n",
    "                results.write('\\n')\n",
    "            else:\n",
    "                results.write(';')\n",
    "\n",
    "    lrt_file.close()\n",
    "print('Done')\n",
    "'''"
   ]
  },
  {
   "cell_type": "code",
   "execution_count": 13,
   "metadata": {},
   "outputs": [
    {
     "name": "stdout",
     "output_type": "stream",
     "text": [
      "Done\n"
     ]
    }
   ],
   "source": [
    "# Merge LRT files\n",
    "def main():\n",
    "    pers = [1,2,3,4]\n",
    "    opt_allele_dic = {}\n",
    "    opt_allele_dic[1] = np.arange(12,48,4)\n",
    "    opt_allele_dic[2] = np.arange(11,21,1)\n",
    "    opt_allele_dic[3] = np.arange(5,13,1)\n",
    "    opt_allele_dic[4] = np.arange(7,11,1)\n",
    "\n",
    "    suffix_list = ['het','common','bins', 'freqs']\n",
    "    folder_list = ['20k','50k','eurodem']\n",
    "    num_files = 15\n",
    "    for per in pers:\n",
    "        for opt_allele in opt_alleles:\n",
    "            for suffix in suffix_list:\n",
    "                for folder in folder_list:\n",
    "                    \n",
    "                    outFile = '/gymreklab-tscc/bonnieh/lrt/results/' + folder_list + 'merge/' + str(per) + '_' + str(opt_allele) + '_' + suffix + '.txt'\n",
    "                    results = open(outFile, \"w\")\n",
    "\n",
    "                    # Write results header\n",
    "                    results.write(\"s\" + \"\\t\" + suffix + \"\\n\")\n",
    "                    for i in range(0, num_files):\n",
    "                        lrtFile  = '/gymreklab-tscc/bonnieh/lrt/results/' + folder_list + '/' + str(per) + '_' + str(opt_allele) + '_' + str(i) + '_' + suffix + '.txt'\n",
    "                        lrt_file = open(lrtFile, 'r')\n",
    "                        header = lrt_file.readline().strip()\n",
    "                        for line in lrt_file:\n",
    "                            results.write(line)\n",
    "\n",
    "                        lrt_file.close()\n",
    "                        \n",
    "                    results.close()\n",
    "    print('Done')"
   ]
  },
  {
   "cell_type": "code",
   "execution_count": null,
   "metadata": {},
   "outputs": [],
   "source": [
    "%%time\n",
    "if __name__ == '__main__':\n",
    "    main()"
   ]
  }
 ],
 "metadata": {
  "kernelspec": {
   "display_name": "Python 3",
   "language": "python",
   "name": "python3"
  },
  "language_info": {
   "codemirror_mode": {
    "name": "ipython",
    "version": 3
   },
   "file_extension": ".py",
   "mimetype": "text/x-python",
   "name": "python",
   "nbconvert_exporter": "python",
   "pygments_lexer": "ipython3",
   "version": "3.7.4"
  }
 },
 "nbformat": 4,
 "nbformat_minor": 2
}
