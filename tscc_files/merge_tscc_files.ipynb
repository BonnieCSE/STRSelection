{
 "cells": [
  {
   "cell_type": "code",
   "execution_count": 22,
   "metadata": {},
   "outputs": [
    {
     "name": "stdout",
     "output_type": "stream",
     "text": [
      "Populating the interactive namespace from numpy and matplotlib\n"
     ]
    }
   ],
   "source": [
    "# Functions to merge TSCC files"
   ]
  },
  {
   "cell_type": "code",
   "execution_count": 25,
   "metadata": {},
   "outputs": [],
   "source": [
    "# Merge LRT files\n",
    "def MergeLRT():\n",
    "    pers = [2,3,4]\n",
    "    opt_allele_dic = {}\n",
    "    opt_allele_dic[1] = np.arange(12,48,4)\n",
    "    opt_allele_dic[2] = np.arange(11,21,1)\n",
    "    opt_allele_dic[3] = np.arange(5,14,1)\n",
    "    opt_allele_dic[4] = np.arange(7,11,1)\n",
    "\n",
    "    suffix_list = ['het','common','bins','freqs']\n",
    "    folder_list = ['20k_0810','50k_0810','eurodem_0810']\n",
    "    num_files = 15\n",
    "    for per in pers:\n",
    "        for opt_allele in opt_allele_dic[per]:\n",
    "            for suffix in suffix_list:\n",
    "                for folder in folder_list:\n",
    "                    \n",
    "                    outFile = '/gymreklab-tscc/bonnieh/lrt/results/' + folder + '/' + str(per) + '_' + str(opt_allele) + '_' + suffix + '.txt'\n",
    "                    results = open(outFile, \"w\")\n",
    "\n",
    "                    # Write results header\n",
    "                    results.write(\"s\" + \"\\t\" + suffix + \"\\n\")\n",
    "                    for i in range(0, num_files):\n",
    "                        lrtFile  = '/gymreklab-tscc/bonnieh/lrt/results/' + folder + '/' + str(per) + '_' + str(opt_allele) + '_' + str(i) + '_' + suffix + '.txt'\n",
    "                        lrt_file = open(lrtFile, 'r')\n",
    "                        header = lrt_file.readline().strip()\n",
    "                        for line in lrt_file:\n",
    "                            results.write(line)\n",
    "\n",
    "                        lrt_file.close()\n",
    "                        \n",
    "                    results.close()\n",
    "    print('Done')"
   ]
  },
  {
   "cell_type": "code",
   "execution_count": 26,
   "metadata": {},
   "outputs": [],
   "source": [
    "# Merge ABC files\n",
    "def MergeABC():\n",
    "    pers = [2,3,4]\n",
    "    opt_allele_dic = {}\n",
    "    opt_allele_dic[1] = np.arange(12,48,4)\n",
    "    opt_allele_dic[2] = np.arange(11,21,1)\n",
    "    opt_allele_dic[3] = np.arange(5,14,1)\n",
    "    opt_allele_dic[4] = np.arange(7,11,1)\n",
    "\n",
    "    folder_list = ['20k','50k','eurodem']\n",
    "    prior_list = ['prior1', 'prior2', 'prior3']\n",
    "    num_files = 2\n",
    "    for per in pers:\n",
    "        for opt_allele in opt_allele_dic[per]:\n",
    "            for prior in prior_list:\n",
    "                for folder in folder_list:\n",
    "                    \n",
    "                    outFile = '/gymreklab-tscc/bonnieh/abc/results/' + folder + '_' + prior + '/' + str(per) + '_' + str(opt_allele) + '.txt'\n",
    "                    results = open(outFile, \"w\")\n",
    "\n",
    "                    # Write results header\n",
    "                    results.write(\"s\" + \"\\t\" + \"het\" + \"\\t\" + \"common\" +\"\\t\" + \"bins\" + \"\\t\" + \"freqs\" + \"\\n\")\n",
    "                    for i in range(0, num_files):\n",
    "                        abcFile  = '/gymreklab-tscc/bonnieh/abc/results/' + folder + '_' + prior + '/' + str(per) + '_' + str(opt_allele) + '_' + str(i) + '.txt'\n",
    "                        abc_file = open(abcFile, 'r')\n",
    "                        header = abc_file.readline().strip()\n",
    "                        for line in abc_file:\n",
    "                            results.write(line)\n",
    "\n",
    "                        abc_file.close()\n",
    "                        \n",
    "                    results.close()\n",
    "    print('Done')"
   ]
  },
  {
   "cell_type": "code",
   "execution_count": 27,
   "metadata": {},
   "outputs": [],
   "source": [
    "def main():\n",
    "    #MergeLRT()\n",
    "    MergeABC()"
   ]
  },
  {
   "cell_type": "code",
   "execution_count": 28,
   "metadata": {},
   "outputs": [
    {
     "name": "stdout",
     "output_type": "stream",
     "text": [
      "Done\n",
      "CPU times: user 1.91 s, sys: 869 ms, total: 2.78 s\n",
      "Wall time: 1min 2s\n"
     ]
    }
   ],
   "source": [
    "%%time\n",
    "if __name__ == '__main__':\n",
    "    main()"
   ]
  }
 ],
 "metadata": {
  "kernelspec": {
   "display_name": "Python 3",
   "language": "python",
   "name": "python3"
  },
  "language_info": {
   "codemirror_mode": {
    "name": "ipython",
    "version": 3
   },
   "file_extension": ".py",
   "mimetype": "text/x-python",
   "name": "python",
   "nbconvert_exporter": "python",
   "pygments_lexer": "ipython3",
   "version": "3.7.4"
  }
 },
 "nbformat": 4,
 "nbformat_minor": 2
}
