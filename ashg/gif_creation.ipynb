{
 "cells": [
  {
   "cell_type": "code",
   "execution_count": 13,
   "metadata": {},
   "outputs": [],
   "source": [
    "# https://medium.com/swlh/python-animated-images-6a85b9b68f86\n",
    "import imageio\n",
    "from pathlib import Path\n",
    "from pygifsicle import optimize\n",
    "\n",
    "def create_fig(folder_name):\n",
    "    \n",
    "    image_path = Path(folder_name)\n",
    "    images = list(image_path.glob('*.png'))\n",
    "    images.sort()\n",
    "    image_list = []\n",
    "    for file_name in images:\n",
    "        image_list.append(imageio.imread(file_name))\n",
    "    duration_list = [0.1]*(len(image_list)-1)\n",
    "    duration_list.append(600)\n",
    "    imageio.mimwrite('%s_v2.gif'%(folder_name), image_list, loop=1, duration=duration_list)\n",
    "    \n",
    "    '''\n",
    "    gif_path = '%s.gif'%(folder_name)\n",
    "    # create a new one\n",
    "    optimize(gif_path, '%s_optimized.gif'%(folder_name))\n",
    "    # overwrite the original one\n",
    "    optimize(gif_path)\n",
    "    '''"
   ]
  },
  {
   "cell_type": "code",
   "execution_count": 14,
   "metadata": {},
   "outputs": [],
   "source": [
    "def main():\n",
    "    folder_name = 'source_images_0929'\n",
    "    create_fig(folder_name)\n",
    "    folder_name = 'source_images_selection_0929'\n",
    "    create_fig(folder_name)"
   ]
  },
  {
   "cell_type": "code",
   "execution_count": 15,
   "metadata": {},
   "outputs": [],
   "source": [
    "if __name__ == '__main__':\n",
    "    main()"
   ]
  }
 ],
 "metadata": {
  "kernelspec": {
   "display_name": "Python 3",
   "language": "python",
   "name": "python3"
  },
  "language_info": {
   "codemirror_mode": {
    "name": "ipython",
    "version": 3
   },
   "file_extension": ".py",
   "mimetype": "text/x-python",
   "name": "python",
   "nbconvert_exporter": "python",
   "pygments_lexer": "ipython3",
   "version": "3.7.4"
  }
 },
 "nbformat": 4,
 "nbformat_minor": 2
}
