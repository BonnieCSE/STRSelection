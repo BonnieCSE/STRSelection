{
 "cells": [
  {
   "cell_type": "markdown",
   "metadata": {},
   "source": [
    "This notebook contains code to plot heterozygosity distributions "
   ]
  },
  {
   "cell_type": "code",
   "execution_count": 13,
   "metadata": {},
   "outputs": [
    {
     "name": "stdout",
     "output_type": "stream",
     "text": [
      "Populating the interactive namespace from numpy and matplotlib\n"
     ]
    }
   ],
   "source": [
    "%pylab inline\n",
    "import os\n",
    "import matplotlib\n",
    "matplotlib.rcParams['pdf.fonttype'] = 42\n",
    "matplotlib.rcParams['ps.fonttype'] = 42\n",
    "import numpy as np\n",
    "import sys\n",
    "sys.path.append(\"/storage/BonnieH/selection_project/helper_functions\")\n",
    "from Joint_method_functions import *\n",
    "import time\n",
    "import statistics\n",
    "from scipy import stats\n",
    "\n",
    "PLOTDIR = 'pdfs-round1'\n",
    "SUPP_PREFIX = \"SuppFig8-\"\n",
    "RESFOLDER = '/gymreklab-tscc/bonnieh/joint_method/'"
   ]
  },
  {
   "cell_type": "code",
   "execution_count": 14,
   "metadata": {},
   "outputs": [
    {
     "name": "stdout",
     "output_type": "stream",
     "text": [
      "12\n",
      "0.2\n"
     ]
    },
    {
     "data": {
      "image/png": "[encoded data removed]",
      "text/plain": [
       "<Figure size 432x288 with 1 Axes>"
      ]
     },
     "metadata": {
      "needs_background": "light"
     },
     "output_type": "display_data"
    },
    {
     "name": "stdout",
     "output_type": "stream",
     "text": [
      "0.2\n"
     ]
    },
    {
     "data": {
      "image/png": "[encoded data removed]",
      "text/plain": [
       "<Figure size 432x288 with 1 Axes>"
      ]
     },
     "metadata": {
      "needs_background": "light"
     },
     "output_type": "display_data"
    },
    {
     "name": "stdout",
     "output_type": "stream",
     "text": [
      "0.2\n"
     ]
    },
    {
     "data": {
      "image/png": "[encoded data removed]",
      "text/plain": [
       "<Figure size 432x288 with 1 Axes>"
      ]
     },
     "metadata": {
      "needs_background": "light"
     },
     "output_type": "display_data"
    }
   ],
   "source": [
    "pers = [3] # Change based on what period you want to plot\n",
    "opt_dic = {}\n",
    "opt_dic[2] = [20] # Change based on what optimal allele you want to plot\n",
    "opt_dic[3] = [12] # Change based on what optimal allele you want to plot\n",
    "opt_dic[4] = [7] # Change based on what optimal allele you want to plot\n",
    "k_list = [2]\n",
    "models = ['b','a','c'] # Change based on what models you want to plot\n",
    "model_prefix = 'eurodem_prior2_trinuc_' # Change based on what period you want to plot (e.g. dinuc, trinuc, tetranuc)\n",
    "motif = 'AAT' # Change based on what motif you want to plot\n",
    "    \n",
    "# Get number of loci \n",
    "optimal_allele = opt_dic[pers[0]][0]\n",
    "print(optimal_allele)\n",
    "if optimal_allele < 10:\n",
    "    optimal_allele_string = '0' + str(optimal_allele)\n",
    "else:\n",
    "    optimal_allele_string = str(optimal_allele)\n",
    "filename = '/gymreklab-tscc/bonnieh/joint_method/results_intergenic_top_x/1kg_bin_agnostic_071921/per_%d_%s_all_col_6_opt_%s.txt'%(pers[0],motif,optimal_allele_string)\n",
    "results_file = open(filename, 'r')\n",
    "                        \n",
    "for k in range(0, 2):\n",
    "    line= results_file.readline()\n",
    "                        \n",
    "info = line.strip().split(': ')\n",
    "num_loci = info[1]\n",
    "num_loci = num_loci.strip().split(' ')\n",
    "num_loci = int(num_loci[0])\n",
    "results_file.close()\n",
    "    \n",
    "for model_suffix in models:\n",
    "    for k_val in k_list:\n",
    "        #theta_val = mean/k_val\n",
    "        theta_val = 0.1\n",
    "        for period in pers:\n",
    "            for aa in range (0, 1):\n",
    "                #optimal_allele = opt_allele #in opt_dic[period]:\n",
    "                    \n",
    "                model = model_prefix + model_suffix + '_1kg_euro'\n",
    "                label = 'Het'\n",
    "                setting = str(period) + ' ' + str(optimal_allele) + ' ' + str(k_val) + ' ' + str(theta_val)\n",
    "                    \n",
    "                print(k_val*theta_val)\n",
    "                obs_het_stats = [1,1,1]\n",
    "                obs_common_stats = [1,1,1]\n",
    "                eps_het = [10,10,10]\n",
    "                eps_common = [10, 10,10]\n",
    "                obs_het_vector = [0,0,0]\n",
    "                obs_common_vector = [0,0,0]\n",
    "                use_common_alleles = False\n",
    "                num_bins = 0\n",
    "                use_bins = True\n",
    "                eps_bins_het =0.5 \n",
    "                eps_bins_common=0.5\n",
    "                    \n",
    "                # Get ABC tables\n",
    "                ABC_tables = {}\n",
    "                opt_allele_dic = {}\n",
    "                opt_allele_dic[1] = [12,16]\n",
    "                opt_allele_dic[3] = [5,6,7,8,9,10,11,12,13]\n",
    "                opt_allele_dic[2] = [11,12,13,14,15,16,17,18,19,20]\n",
    "                opt_allele_dic[4] = [7,8,9,10]\n",
    "\n",
    "                obs_mean_het_list = []\n",
    "                obs_var_het_list = []\n",
    "                obs_med_het_list = []\n",
    "                obs_mean_comm_list = []\n",
    "                obs_var_comm_list = []\n",
    "                obs_med_comm_list = []\n",
    "\n",
    "                for opt_allele in opt_allele_dic[period]:\n",
    "                    file = '/gymreklab-tscc/bonnieh/abc/results/'+model+'/' + str(period) + '_' + str(opt_allele) + '.txt' \n",
    "                    table = GetABCList(file, num_bins)\n",
    "                    dic_summ_stats = {}\n",
    "                    for combo in table:\n",
    "                        s_round = get_LRT_bin(combo[0])\n",
    "                        if s_round not in dic_summ_stats:\n",
    "                            dic_summ_stats[s_round] = []\n",
    "                        dic_summ_stats[s_round].append([combo[1], combo[2]])\n",
    "\n",
    "                    ABC_tables[opt_allele] = dic_summ_stats\n",
    "\n",
    "                opt_allele_list = [(period,optimal_allele)] * num_loci #37\n",
    "                '''\n",
    "                het_list, common_list = EstimateParam(ABC_tables, opt_allele_list, k_val, theta_val, obs_het_stats, \\\n",
    "                                                            obs_common_stats, obs_het_vector, obs_common_vector, \\\n",
    "                                                      model, eps_het, eps_common, use_common_alleles,use_bins, eps_bins_het, eps_bins_common, True)\n",
    "                '''\n",
    "                het_list, common_list = GetLists(ABC_tables, opt_allele_list, k_val, theta_val)\n",
    "                if label == 'Het':\n",
    "                    list_to_use = het_list\n",
    "\n",
    "                else:\n",
    "                    list_to_use = common_list\n",
    "                plt.hist(list_to_use,bins=[0,0.1,0.2,0.3,0.4,0.5,0.6,0.7,0.8,0.9,1.0],weights=np.ones(len(list_to_use)) / len(list_to_use))#,bins=[0,0.002,0.1,0.4,0.8,1]) #bins=[0,0.001,0.1,0.3,0.7,1] #[0,0.001,0.02,0.1,0.3,0.6,0.7,0.8,1]\n",
    "                #plt.hist(list_to_use,bins=[0,0.1,0.4,0.8,1]) \n",
    "                #plt.hist(list_to_use,bins=[0,2,4,22])\n",
    "                #plt.xlabel(label)\n",
    "                plt.xlabel('Heterozygosity')\n",
    "                plt.ylabel('Frequency')\n",
    "                plt.savefig(os.path.join(PLOTDIR, 'sim_het_distr.pdf'), bbox_inches='tight')\n",
    "\n",
    "    \n",
    "                #plt.title('Setting %s \\n Simulated %s distribution \\n Mean %s = %.2f Median %s = %.2f \\n Max %s = %.2f Min %s = %.2f'%(setting, label, label, np.mean(list_to_use), label, np.median(list_to_use), label, max(list_to_use), label, min(list_to_use)))\n",
    "                plt.show()\n",
    "                    \n",
    "                solution_file = open('./het_distr/%s_%d_%s.txt'%(motif,optimal_allele,model_suffix),'w')\n",
    "                solution_file.write(str(list_to_use))\n",
    "                solution_file.close()\n",
    "                "
   ]
  },
  {
   "cell_type": "code",
   "execution_count": 15,
   "metadata": {},
   "outputs": [
    {
     "data": {
      "image/png": "[encoded data removed]",
      "text/plain": [
       "<Figure size 432x288 with 1 Axes>"
      ]
     },
     "metadata": {
      "needs_background": "light"
     },
     "output_type": "display_data"
    }
   ],
   "source": [
    "#inFile = '/gymreklab-tscc/bonnieh/joint_method/results_intergenic_top_x/1kg_bin_agnostic_redo/per_%d_%s_all_opt_%d.txt'\n",
    "#filename = '/gymreklab-tscc/bonnieh/joint_method/results_intergenic_top_x/1kg_bin_agnostic_redo/per_%d_%s_all_opt_%d.txt'%(pers[0],motif,opt_allele)\n",
    "#print(opt_allele)\n",
    "allele_freqs_file = open(filename, 'r')\n",
    "\n",
    "header = allele_freqs_file.readline().strip().split('\\t')\n",
    "header = allele_freqs_file.readline().strip().split('\\t')\n",
    "header = allele_freqs_file.readline().strip().split('\\t')\n",
    "info = allele_freqs_file.readline().strip().split(': ')\n",
    "    \n",
    "list_het = info[1]\n",
    "list_het = list_het[1:]\n",
    "list_het = list_het[:-1]\n",
    "het_list = list_het.strip().split(', ')\n",
    "\n",
    "het_list_final = []\n",
    "for elem in het_list:\n",
    "    het_list_final.append(float(elem))\n",
    "#print(het_list_final)\n",
    "  \n",
    "plt.hist(het_list_final, bins=[0,0.1,0.2,0.3,0.4,0.5,0.6,0.7,0.8,0.9,1.0], weights=np.ones(len(het_list_final)) / len(het_list_final))\n",
    "plt.title('Observed het')\n",
    "plt.xlabel('Heterozygosity')\n",
    "plt.ylabel('Frequency')\n",
    "plt.savefig(os.path.join(PLOTDIR, SUPP_PREFIX + 'obs_het_distr.pdf'), bbox_inches='tight')\n",
    "\n",
    "solution_file = open('./het_distr/obs_%s_%d.txt'%(motif,optimal_allele),'w')\n",
    "solution_file.write(str(het_list_final))\n",
    "solution_file.close()"
   ]
  },
  {
   "cell_type": "code",
   "execution_count": 16,
   "metadata": {},
   "outputs": [
    {
     "data": {
      "text/plain": [
       "\"\\nsolution_file = open('obs.txt','w')\\nsolution_file.write(str(het_list_final))\\nsolution_file.close()\\n\""
      ]
     },
     "execution_count": 16,
     "metadata": {},
     "output_type": "execute_result"
    }
   ],
   "source": [
    "inFile = './het_distr/obs_%s_%d.txt'%(motif,optimal_allele)\n",
    "\n",
    "allele_freqs_file = open(inFile, 'r')\n",
    "\n",
    "info = allele_freqs_file.readline().strip()\n",
    "    \n",
    "list_het = info[1:]\n",
    "list_het = list_het[:-1]\n",
    "het_list = list_het.strip().split(', ')\n",
    "\n",
    "het_list_obs = []\n",
    "for elem in het_list:\n",
    "    het_list_obs.append(float(elem))\n",
    "allele_freqs_file.close()\n",
    "#print(het_list_final)\n",
    "\n",
    "'''\n",
    "solution_file = open('obs.txt','w')\n",
    "solution_file.write(str(het_list_final))\n",
    "solution_file.close()\n",
    "'''"
   ]
  },
  {
   "cell_type": "code",
   "execution_count": 17,
   "metadata": {},
   "outputs": [],
   "source": [
    "inFile = './het_distr/%s_%d_%s.txt'%(motif,optimal_allele,models[0])\n",
    "\n",
    "allele_freqs_file = open(inFile, 'r')\n",
    "\n",
    "info = allele_freqs_file.readline().strip()\n",
    "    \n",
    "list_het = info[1:]\n",
    "list_het = list_het[:-1]\n",
    "het_list = list_het.strip().split(', ')\n",
    "\n",
    "het_list_d = []\n",
    "for elem in het_list:\n",
    "    het_list_d.append(float(elem))\n",
    "allele_freqs_file.close()\n",
    "#print(het_list_final)"
   ]
  },
  {
   "cell_type": "code",
   "execution_count": 18,
   "metadata": {},
   "outputs": [],
   "source": [
    "inFile = './het_distr/%s_%d_%s.txt'%(motif,optimal_allele,models[1])\n",
    "\n",
    "allele_freqs_file = open(inFile, 'r')\n",
    "\n",
    "info = allele_freqs_file.readline().strip()\n",
    "    \n",
    "list_het = info[1:]\n",
    "list_het = list_het[:-1]\n",
    "het_list = list_het.strip().split(', ')\n",
    "\n",
    "het_list_e = []\n",
    "for elem in het_list:\n",
    "    het_list_e.append(float(elem))\n",
    "allele_freqs_file.close()\n",
    "#print(het_list_final)"
   ]
  },
  {
   "cell_type": "code",
   "execution_count": 19,
   "metadata": {},
   "outputs": [],
   "source": [
    "inFile = './het_distr/%s_%d_%s.txt'%(motif,optimal_allele,models[2])\n",
    "\n",
    "allele_freqs_file = open(inFile, 'r')\n",
    "\n",
    "info = allele_freqs_file.readline().strip()\n",
    "\n",
    "list_het = info[1:]\n",
    "list_het = list_het[:-1]\n",
    "het_list = list_het.strip().split(', ')\n",
    "\n",
    "het_list_f = []\n",
    "for elem in het_list:\n",
    "    het_list_f.append(float(elem))\n",
    "allele_freqs_file.close()"
   ]
  },
  {
   "cell_type": "code",
   "execution_count": 20,
   "metadata": {},
   "outputs": [
    {
     "name": "stdout",
     "output_type": "stream",
     "text": [
      "0.028543570462213126\n"
     ]
    },
    {
     "data": {
      "image/png": "[encoded data removed]",
      "text/plain": [
       "<Figure size 432x288 with 1 Axes>"
      ]
     },
     "metadata": {
      "needs_background": "light"
     },
     "output_type": "display_data"
    }
   ],
   "source": [
    "plt.hist([het_list_obs, het_list_d,het_list_e,het_list_f], bins=[0,0.1,0.2,0.3,0.4,0.5,0.6,0.7,0.8,0.9,1.0], label=['Observed', 'Mut setting %s'%(models[0]),'Mut setting %s'%(models[1]),'Mut setting %s'%(models[2])],color=['black','red','green','orange'])\n",
    "#plt.legend(bbox_to_anchor=(1, 1))\n",
    "plt.legend()\n",
    "plt.xlabel('Heterozygosity')\n",
    "plt.ylabel('Number of loci')\n",
    "plt.xticks([0,0.1,0.2,0.3,0.4,0.5,0.6,0.7,0.8,0.9,1.0]) \n",
    "\n",
    "ks_stat, pval = stats.ks_2samp(het_list_obs, het_list_e)\n",
    "print(pval)\n",
    "plt.title('%s Optimal allele %d \\n P value %.2E'%(motif, optimal_allele, pval))\n",
    "plt.savefig(os.path.join(PLOTDIR, SUPP_PREFIX + 'het_distr_motif_%s_opt_%s.pdf'%(motif,optimal_allele)),bbox_inches='tight')"
   ]
  },
  {
   "cell_type": "code",
   "execution_count": 21,
   "metadata": {},
   "outputs": [
    {
     "name": "stdout",
     "output_type": "stream",
     "text": [
      "0.028543570462213126\n"
     ]
    }
   ],
   "source": [
    "ks_stat, pval = stats.ks_2samp(het_list_obs, het_list_e)\n",
    "print(pval)"
   ]
  }
 ],
 "metadata": {
  "kernelspec": {
   "display_name": "Python 3",
   "language": "python",
   "name": "python3"
  },
  "language_info": {
   "codemirror_mode": {
    "name": "ipython",
    "version": 3
   },
   "file_extension": ".py",
   "mimetype": "text/x-python",
   "name": "python",
   "nbconvert_exporter": "python",
   "pygments_lexer": "ipython3",
   "version": "3.7.4"
  }
 },
 "nbformat": 4,
 "nbformat_minor": 2
}
