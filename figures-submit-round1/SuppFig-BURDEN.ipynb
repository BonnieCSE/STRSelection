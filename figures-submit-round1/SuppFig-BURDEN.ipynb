{
 "cells": [
  {
   "cell_type": "markdown",
   "metadata": {},
   "source": [
    "This notebook contains code to measure the burden of deleterious variation from STRs"
   ]
  },
  {
   "cell_type": "code",
   "execution_count": 2,
   "metadata": {},
   "outputs": [
    {
     "name": "stdout",
     "output_type": "stream",
     "text": [
      "Populating the interactive namespace from numpy and matplotlib\n"
     ]
    },
    {
     "name": "stderr",
     "output_type": "stream",
     "text": [
      "/usr/local/lib/python3.6/site-packages/IPython/core/magics/pylab.py:160: UserWarning: pylab import has clobbered these variables: ['copy']\n",
      "`%matplotlib` prevents importing * from pylab and numpy\n",
      "  \"\\n`%matplotlib` prevents importing * from pylab and numpy\"\n"
     ]
    }
   ],
   "source": [
    "%pylab inline\n",
    "\n",
    "import os\n",
    "import matplotlib\n",
    "matplotlib.rcParams['pdf.fonttype'] = 42\n",
    "matplotlib.rcParams['ps.fonttype'] = 42\n",
    "from matplotlib import pyplot as plt\n",
    "import sys\n",
    "import pandas as pd\n",
    "\n",
    "sys.path.append(\"/storage/BonnieH/selection_project/helper_functions\")\n",
    "from Simulation_functions import *\n",
    "PLOTDIR = 'pdfs-round1'"
   ]
  },
  {
   "cell_type": "markdown",
   "metadata": {},
   "source": [
    "# New mutations - predicted from SISTR2 model"
   ]
  },
  {
   "cell_type": "code",
   "execution_count": 4,
   "metadata": {},
   "outputs": [],
   "source": [
    "# For each class of STRs, we want:\n",
    "# - motif/opt allele\n",
    "# - number of STRs\n",
    "# - mutation rate\n",
    "# - mean s per mutation\n",
    "# Then will sum across all categories\n",
    "\n",
    "# Read in joint results\n",
    "joint_results = {}\n",
    "sistr2_scores_file = open('/storage/BonnieH/selection_project/analysis/SISTR2_scores_by_motif_corrected_num_loci.txt', 'r')\n",
    "sistr2_scores_file.readline()\n",
    "for line in sistr2_scores_file:\n",
    "    info = line.strip().split('\\t')\n",
    "    period = int(info[0])\n",
    "    optimal_ru = int(info[1])\n",
    "    motif = info[2]\n",
    "    num_loci = int(info[3])\n",
    "    est_a = float(info[4])\n",
    "    est_b = float(info[5])\n",
    "    joint_results[(period,optimal_ru,motif,num_loci)] = (est_a,est_b)\n",
    "sistr2_scores_file.close()\n",
    "\n",
    "# List contents: mu, beta, p, l, optimal ru for the mu value\n",
    "# Mutation model parameters for different motifs\n",
    "motif_info = {}\n",
    "motif_info['eurodem_prior2_dinuc_e_1kg_euro'] = [10**-5, 0.3, 0.6, 0.15, 6]\n",
    "motif_info['eurodem_prior2_dinuc_d_1kg_euro'] = [10**-4.6, 0.3, 0.6, 0.135, 6]\n",
    "motif_info['eurodem_prior2_trinuc_e_1kg_euro'] = [10**-6, 0.3, 0.9, 0.3, 5] \n",
    "motif_info['eurodem_prior2_tetranuc_b_1kg_euro'] = [10**-5, 0.3, 0.9, 0.25, 3]\n",
    "motif_info['eurodem_prior2_tetranuc_c_1kg_euro'] = [10**-5.5, 0.3, 0.9, 0.42, 3]\n",
    "motif_info['eurodem_prior2_tetranuc_d_1kg_euro'] = [10**-6, 0.3, 0.9, 0.45, 3]\n",
    "\n",
    "# Mutation model settings for different motifs (inferred by SISTR2)\n",
    "trinuc_motifs = ['ACC','AGG','AGC','CCG','AAG','AAC','ATC','AAT']\n",
    "dinuc_motifs  = ['AC','AG','AT'] \n",
    "tetranuc_motifs = ['AAGG','AAAT','ATCC','AATC','AAAC','AATG','ACAT','AGAT','AAAG'] \n",
    "mut_setting = {}\n",
    "mut_setting['AC'] = 'eurodem_prior2_dinuc_e_1kg_euro'\n",
    "mut_setting['AG'] = 'eurodem_prior2_dinuc_e_1kg_euro'\n",
    "mut_setting['AT'] = 'eurodem_prior2_dinuc_d_1kg_euro'\n",
    "for mot in trinuc_motifs:\n",
    "    mut_setting[mot] = 'eurodem_prior2_trinuc_e_1kg_euro'\n",
    "for mot in ['AAAG', 'AAGG', 'AGAT']:\n",
    "    mut_setting[mot] = 'eurodem_prior2_tetranuc_b_1kg_euro'\n",
    "for mot in ['ACAT', 'AAAT']:\n",
    "    mut_setting[mot] = 'eurodem_prior2_tetranuc_c_1kg_euro'\n",
    "for mot in ['AATC', 'AATG', 'ATCC', 'AAAC']:\n",
    "    mut_setting[mot] = 'eurodem_prior2_tetranuc_d_1kg_euro'\n",
    " \n",
    "motifs_ = []\n",
    "opts_ = []\n",
    "numloci_ = []\n",
    "means_ = []\n",
    "muts_ = []\n",
    "# Get burden for each category\n",
    "for elem in joint_results:\n",
    "    # Get params for this class\n",
    "    setting_info = mut_setting[elem[2]]\n",
    "    mut_info = motif_info[setting_info]\n",
    "    num_loci = elem[3] # target size\n",
    "    \n",
    "    # Get mutation rate   \n",
    "    log_mu_prime = np.log10(mut_info[0])+mut_info[3]*(elem[1] - mut_info[4])\n",
    "    mu_prime = 10**log_mu_prime\n",
    "    \n",
    "    if mu_prime < 10**-8: mu_prime = 10**-8 \n",
    "    if mu_prime > 10**-3: mu_prime = 10**-3\n",
    "\n",
    "    # Get mean s value of a new mutation\n",
    "    # Sum over all possible step sizes\n",
    "    mean_s = 0\n",
    "    for i in range(-20, 20):\n",
    "        if elem[1] + i <= 0: continue # can't have negative repeat copy nmber\n",
    "        prob_step = GetStepSizeProb(0, i, mut_info[1], mut_info[2])\n",
    "        sval = joint_results[elem][0]*joint_results[elem][1]*abs(i) # a*b*step\n",
    "        mean_s += prob_step*sval\n",
    "    \n",
    "    motifs_.append(elem[2])\n",
    "    opts_.append(elem[1])\n",
    "    numloci_.append(num_loci)\n",
    "    means_.append(mean_s)\n",
    "    muts_.append(mu_prime)\n",
    "\n",
    "data = pd.DataFrame({\"motif\": motifs_,\n",
    "             \"opt\": opts_,\n",
    "             \"numloci\": numloci_,\n",
    "             \"mean.s\": means_,\n",
    "             \"mu\": muts_})\n",
    "\n",
    "# Get burden\n",
    "data[\"burden\"] = data.apply(lambda x: 2*x[\"mu\"]*x[\"mean.s\"]*x[\"numloci\"], 1)\n",
    "data.to_csv(os.path.join(PLOTDIR, \"SuppTable3-burden-numbers.csv\"))"
   ]
  },
  {
   "cell_type": "code",
   "execution_count": 7,
   "metadata": {},
   "outputs": [
    {
     "name": "stdout",
     "output_type": "stream",
     "text": [
      "Num loci - all\n",
      "Num loci - filt\n",
      "Method 1 - total s - all 0.051146734481617315\n",
      "Method 1 - total s - filtered 0.01235987090926424\n",
      "Method 1 - mean s - all 0.0006540766876531336\n",
      "Method 1 - mean s - filtered 0.000768539949583226\n",
      "Method 1 - Num mut - all 29.063771726650558\n",
      "Method 1 - Num mut - filtered 13.77581340105906\n",
      "Method 2 - total s - all 0.01900993554167439\n",
      "Method 2 - total s - filtered 0.010587262936717858\n"
     ]
    }
   ],
   "source": [
    "# Add scores with reliability of each metric\n",
    "motif_incl = pd.read_csv(\"motif_inclusion_kstest.tab\", sep=\"\\t\")\n",
    "motif_incl.columns = [\"motif\",\"opt\", \"combine\",\"KS\",\"include\",\"period\"]\n",
    "data = pd.merge(data, motif_incl[[\"motif\",\"opt\",\"include\"]])\n",
    "\n",
    "data_filt = data[data[\"include\"]]\n",
    "\n",
    "mean_s = np.sum(data.apply(lambda x: x[\"numloci\"]*x[\"mean.s\"], 1))/np.sum(data[\"numloci\"])\n",
    "mean_s_filt = np.sum(data_filt.apply(lambda x: x[\"numloci\"]*x[\"mean.s\"], 1))/np.sum(data_filt[\"numloci\"])\n",
    "\n",
    "num_strs = np.sum(data[\"numloci\"])\n",
    "num_strs_filt = np.sum(data_filt[\"numloci\"])\n",
    "\n",
    "mean_mu = np.sum(data.apply(lambda x: x[\"numloci\"]*x[\"mu\"], 1))/np.sum(data[\"numloci\"])\n",
    "mean_mu_filt = np.sum(data_filt.apply(lambda x: x[\"numloci\"]*x[\"mu\"], 1))/np.sum(data_filt[\"numloci\"])\n",
    "\n",
    "num_mut = np.sum(data.apply(lambda x: x[\"numloci\"]*x[\"mu\"]*2,1 ))\n",
    "num_mut_filt = np.sum(data_filt.apply(lambda x: x[\"numloci\"]*x[\"mu\"]*2, 1))\n",
    "\n",
    "######### Summarize #####################\n",
    "print(\"Num loci - all\"%num_strs)\n",
    "print(\"Num loci - filt\"%num_strs_filt)\n",
    "\n",
    "######### Method 1 - By class ###########\n",
    "print(\"Method 1 - total s - all %s\"%(np.sum(data[\"burden\"])))\n",
    "print(\"Method 1 - total s - filtered %s\"%(np.sum(data_filt[\"burden\"])))\n",
    "\n",
    "print(\"Method 1 - mean s - all %s\"%(mean_s))\n",
    "print(\"Method 1 - mean s - filtered %s\"%(mean_s_filt))\n",
    "\n",
    "print(\"Method 1 - Num mut - all %s\"%(num_mut))\n",
    "print(\"Method 1 - Num mut - filtered %s\"%(num_mut_filt))\n",
    "\n",
    "######### Method 2 - overall ###########\n",
    "print(\"Method 2 - total s - all %s\"%(2*mean_mu*num_strs*mean_s))\n",
    "print(\"Method 2 - total s - filtered %s\"%(2*mean_mu_filt*num_strs_filt*mean_s_filt))"
   ]
  },
  {
   "cell_type": "code",
   "execution_count": 14,
   "metadata": {},
   "outputs": [],
   "source": [
    "joint_results3 = {} # motif, opt -> (a, b)\n",
    "for elem in joint_results:\n",
    "    joint_results3[(elem[2], elem[1])] = (joint_results[elem][0],joint_results[elem][1])"
   ]
  },
  {
   "cell_type": "code",
   "execution_count": 26,
   "metadata": {},
   "outputs": [
    {
     "name": "stdout",
     "output_type": "stream",
     "text": [
      "0.0005480383785773083\n",
      "0.04392165947540279\n"
     ]
    }
   ],
   "source": [
    "# Get burden confidence intervals (method 1)\n",
    "\n",
    "numsim = 100\n",
    "nummut = 14\n",
    "\n",
    "simburdens = []\n",
    "\n",
    "# Get info for each class\n",
    "classes = [(data_filt[\"motif\"].values[i], data_filt[\"opt\"].values[i]) for i in range(data_filt.shape[0])]\n",
    "pvals = list(data_filt[\"numloci\"].apply(lambda x: x*1.0/np.sum(data_filt[\"numloci\"])))\n",
    "\n",
    "for ns in range(numsim):\n",
    "    burden = 0\n",
    "    mclasses = np.random.multinomial(nummut, pvals)\n",
    "    for j in range(len(mclasses)):\n",
    "        mutcount = mclasses[j]\n",
    "        classinfo = classes[j]\n",
    "        a, b = joint_results3[classinfo] # TODO lookup based on classinfo\n",
    "        for k in range(mutcount):\n",
    "            s_val = np.random.gamma(a, b)\n",
    "            if s_val > 1:\n",
    "                s_val = 1\n",
    "            burden += s_val\n",
    "    simburdens.append(burden)\n",
    "\n",
    "print(np.percentile(simburdens, [2.5])[0])\n",
    "print(np.percentile(simburdens, [97.5])[0])"
   ]
  },
  {
   "cell_type": "markdown",
   "metadata": {},
   "source": [
    "# Supp fig. 12 - burden comparison by motif"
   ]
  },
  {
   "cell_type": "code",
   "execution_count": 27,
   "metadata": {
    "scrolled": false
   },
   "outputs": [
    {
     "data": {
      "image/png": "[encoded data removed]",
      "text/plain": [
       "<Figure size 1080x576 with 4 Axes>"
      ]
     },
     "metadata": {
      "needs_background": "light"
     },
     "output_type": "display_data"
    }
   ],
   "source": [
    "data[\"period\"] = data[\"motif\"].apply(len)\n",
    "data[\"color\"] = data[\"include\"].apply(lambda x: [\"lightgray\",\"black\"][x])\n",
    "data = data.sort_values([\"period\",\"motif\",\"opt\"])\n",
    "vertlines = [-0.5]\n",
    "motifs = [data[\"motif\"].values[0]]\n",
    "mpos = [0]\n",
    "for i in range((data.shape[0])-1):\n",
    "    if data[\"motif\"].values[i] != data[\"motif\"].values[i+1]:\n",
    "        vertlines.append(i+0.5)\n",
    "        motifs.append(data[\"motif\"].values[i+1])\n",
    "        mpos.append(i+1)\n",
    "\n",
    "fig = plt.figure()\n",
    "fig.set_size_inches((15, 8))\n",
    "ax = fig.add_subplot(411)\n",
    "ax.bar(range(data.shape[0]), (data[\"mean.s\"]), color=data[\"color\"])\n",
    "ax.set_xticks([])\n",
    "for vl in vertlines:\n",
    "    ax.axvline(x=vl, color=\"black\", linewidth=0.5)\n",
    "#for i in range(len(motifs)):\n",
    "#    ax.annotate(motifs[i], (mpos[i], 0.006), size=8)\n",
    "ax.set_ylabel(\"Mean s\")\n",
    "#ax.set_yscale('log')\n",
    "\n",
    "\n",
    "ax = fig.add_subplot(412)\n",
    "ax.bar(range(data.shape[0]), (data[\"numloci\"]), color=data[\"color\"])\n",
    "ax.set_xticks([])\n",
    "for vl in vertlines:\n",
    "    ax.axvline(x=vl, color=\"black\", linewidth=0.5)\n",
    "#for i in range(len(motifs)):\n",
    "#    ax.annotate(motifs[i], (mpos[i], 7000), size=8)\n",
    "ax.set_ylabel(\"Num. loci\")\n",
    "\n",
    "ax = fig.add_subplot(413)\n",
    "ax.bar(range(data.shape[0]), (data[\"mu\"]), color=data[\"color\"])\n",
    "ax.set_xticks([])\n",
    "for vl in vertlines:\n",
    "    ax.axvline(x=vl, color=\"black\", linewidth=0.5)\n",
    "#for i in range(len(motifs)):\n",
    "#    ax.annotate(motifs[i], (mpos[i], 7000), size=8)\n",
    "ax.set_ylabel(\"Mut rate\")\n",
    "\n",
    "ax = fig.add_subplot(414)\n",
    "ax.bar(range(data.shape[0]), (data[\"burden\"]), color=data[\"color\"])\n",
    "ax.set_xticks(range(data.shape[0]))\n",
    "for vl in vertlines:\n",
    "    ax.axvline(x=vl, color=\"black\", linewidth=0.5)\n",
    "#for i in range(len(motifs)):\n",
    "#    ax.annotate(motifs[i], (mpos[i], 0.012), size=8)    \n",
    "ax.set_xticklabels(data.apply(lambda x: str(x[\"opt\"]), 1), rotation=0, size=7)\n",
    "ax.set_ylabel(\"Exp. burden\")\n",
    "#ax.set_yscale('log')\n",
    "fig.tight_layout()\n",
    "\n",
    "fig.savefig(os.path.join(PLOTDIR, \"SuppFig12-burdenByMotif.pdf\"))\n",
    "#data"
   ]
  },
  {
   "cell_type": "markdown",
   "metadata": {},
   "source": [
    "# Supp Fig. 13"
   ]
  },
  {
   "cell_type": "code",
   "execution_count": 30,
   "metadata": {},
   "outputs": [
    {
     "data": {
      "image/png": "[encoded data removed]",
      "text/plain": [
       "<Figure size 720x360 with 3 Axes>"
      ]
     },
     "metadata": {
      "needs_background": "light"
     },
     "output_type": "display_data"
    }
   ],
   "source": [
    "# Breakdown of inherited burden by motif\n",
    "iburden = pd.read_csv(\"fig4_inherited_burden.csv\")\n",
    "iburden[\"motif\"] = iburden[\"Motif\"]\n",
    "iburden[\"opt\"] = iburden[\"Optimal_allele\"]\n",
    "iburden = pd.merge(iburden, motif_incl[[\"motif\",\"opt\",\"include\"]])\n",
    "iburden[\"period\"] = iburden[\"Motif\"].apply(len)\n",
    "iburden[\"color\"] = iburden[\"include\"].apply(lambda x: [\"lightgray\",\"black\"][x])\n",
    "\n",
    "iburden = iburden.sort_values([\"period\",\"Motif\",\"Optimal_allele\"])\n",
    "vertlines = [-0.5]\n",
    "motifs = [iburden[\"Motif\"].values[0]]\n",
    "mpos = [0]\n",
    "for i in range((iburden.shape[0])-1):\n",
    "    if iburden[\"Motif\"].values[i] != iburden[\"Motif\"].values[i+1]:\n",
    "        vertlines.append(i+0.5)\n",
    "        motifs.append(iburden[\"Motif\"].values[i+1])\n",
    "        mpos.append(i+1)\n",
    "\n",
    "fig = plt.figure()\n",
    "fig.set_size_inches((10, 5))\n",
    "ax = fig.add_subplot(311)\n",
    "ax.bar(range(iburden.shape[0]), (iburden[\"Expected_s_value\"]), color=iburden[\"color\"])\n",
    "ax.set_xticks([])\n",
    "for vl in vertlines:\n",
    "    ax.axvline(x=vl, color=\"black\", linewidth=0.5)\n",
    "for i in range(len(motifs)):\n",
    "    ax.annotate(motifs[i], (mpos[i], 0.006), size=8)\n",
    "ax.set_ylabel(\"Mean s\")\n",
    "#ax.set_yscale('log')\n",
    "\n",
    "\n",
    "ax = fig.add_subplot(312)\n",
    "ax.bar(range(iburden.shape[0]), (iburden[\"Num_variant_alleles\"]), color=iburden[\"color\"])\n",
    "ax.set_xticks([])\n",
    "for vl in vertlines:\n",
    "    ax.axvline(x=vl, color=\"black\", linewidth=0.5)\n",
    "#for i in range(len(motifs)):\n",
    "#    ax.annotate(motifs[i], (mpos[i], 2200), size=8)\n",
    "ax.set_ylabel(\"Num. variant alleles\")\n",
    "\n",
    "ax = fig.add_subplot(313)\n",
    "ax.bar(range(iburden.shape[0]), (iburden[\"Burden\"]), color=iburden[\"color\"])\n",
    "ax.set_xticks(range(iburden.shape[0]))\n",
    "for vl in vertlines:\n",
    "    ax.axvline(x=vl, color=\"black\", linewidth=0.5)\n",
    "#for i in range(len(motifs)):\n",
    "#    ax.annotate(motifs[i], (mpos[i], 0.012), size=8)    \n",
    "ax.set_xticklabels(iburden.apply(lambda x: str(x[\"Optimal_allele\"]), 1), rotation=0, size=7)\n",
    "ax.set_ylabel(\"Total Burden\")\n",
    "#ax.set_yscale('log')\n",
    "fig.tight_layout()\n",
    "\n",
    "fig.savefig(os.path.join(PLOTDIR, \"SuppFig13-burdenByMotif-Inherited-NA12864.pdf\"))"
   ]
  },
  {
   "cell_type": "markdown",
   "metadata": {},
   "source": [
    "# New mutations - based on observed de novos\n"
   ]
  },
  {
   "cell_type": "markdown",
   "metadata": {},
   "source": [
    "**** Notes ***\n",
    "\n",
    "For de novo analysis: use *delta* of s2.new - s2.old to get the change in burden from parent to child allele. This is closer to what we compare to (expected burden) which assumes all parent alleles were 0\n",
    "\n",
    "for inherited vs. denovo: compare s2(obs allele) to s2.new. This makes them more comparable, since for inherited variation we don't have any parent"
   ]
  },
  {
   "cell_type": "code",
   "execution_count": 15,
   "metadata": {},
   "outputs": [],
   "source": [
    "joint_results2 = {} # motif, opt -> s\n",
    "for elem in joint_results:\n",
    "    joint_results2[(elem[2], elem[1])] = joint_results[elem][0]*joint_results[elem][1]"
   ]
  },
  {
   "cell_type": "code",
   "execution_count": 17,
   "metadata": {},
   "outputs": [],
   "source": [
    "# Load gangstr ref\n",
    "import utils\n",
    "gref_file = \"/gymreklab-tscc/mousavi/analysis/1000genomes/additional_runtime_files/regions/hg38_supp.bed\"\n",
    "gref = pd.read_csv(gref_file, sep=\"\\t\", names=[\"chrom\",\"start\",\"end\",\"period\",\"motif\",\"repseq\"])\n",
    "gref[\"optimal_ru\"] = gref.apply(lambda x: int((x[\"end\"]-x[\"start\"]+1)/x[\"period\"]), 1)\n",
    "gref[\"motif\"] = gref[\"motif\"].apply(lambda x: utils.GetCanonicalMotif(x))"
   ]
  },
  {
   "cell_type": "code",
   "execution_count": 2,
   "metadata": {},
   "outputs": [
    {
     "ename": "NameError",
     "evalue": "name 'pd' is not defined",
     "output_type": "error",
     "traceback": [
      "\u001b[0;31m---------------------------------------------------------------------------\u001b[0m",
      "\u001b[0;31mNameError\u001b[0m                                 Traceback (most recent call last)",
      "\u001b[0;32m<ipython-input-2-767f3f947e4f>\u001b[0m in \u001b[0;36m<module>\u001b[0;34m\u001b[0m\n\u001b[1;32m      1\u001b[0m \u001b[0;31m# Load all de novos + filter\u001b[0m\u001b[0;34m\u001b[0m\u001b[0;34m\u001b[0m\u001b[0;34m\u001b[0m\u001b[0m\n\u001b[1;32m      2\u001b[0m \u001b[0mdenovos_file\u001b[0m \u001b[0;34m=\u001b[0m \u001b[0;34m\"/storage/hziaeija/variant_trio/trio_variants/monstr_all_filters/CEU_all_filters.csv\"\u001b[0m\u001b[0;34m\u001b[0m\u001b[0;34m\u001b[0m\u001b[0m\n\u001b[0;32m----> 3\u001b[0;31m \u001b[0mdenovo\u001b[0m \u001b[0;34m=\u001b[0m \u001b[0mpd\u001b[0m\u001b[0;34m.\u001b[0m\u001b[0mread_csv\u001b[0m\u001b[0;34m(\u001b[0m\u001b[0mdenovos_file\u001b[0m\u001b[0;34m)\u001b[0m\u001b[0;34m\u001b[0m\u001b[0;34m\u001b[0m\u001b[0m\n\u001b[0m\u001b[1;32m      4\u001b[0m \u001b[0;34m\u001b[0m\u001b[0m\n\u001b[1;32m      5\u001b[0m \u001b[0;31m# Rename columns\u001b[0m\u001b[0;34m\u001b[0m\u001b[0;34m\u001b[0m\u001b[0;34m\u001b[0m\u001b[0m\n",
      "\u001b[0;31mNameError\u001b[0m: name 'pd' is not defined"
     ]
    }
   ],
   "source": [
    "# Load all de novos + filter\n",
    "denovos_file = \"/storage/hziaeija/variant_trio/trio_variants/monstr_all_filters/CEU_all_filters.csv\"\n",
    "denovo = pd.read_csv(denovos_file)\n",
    "\n",
    "# Rename columns\n",
    "denovo[\"start\"] = denovo[\"pos\"]\n",
    "denovo[\"opt\"] = denovo[\"optimal_ru\"]\n",
    "\n",
    "# Filter repeats and suspicious de novos\n",
    "denovo = denovo[denovo[\"period\"].apply(lambda x: x>=2 and x<=4)]\n",
    "denovo = denovo[(denovo[\"encl_mother\"]==0) & (denovo[\"encl_father\"]==0) & (denovo[\"encl_child\"]>=5)]\n",
    "\n",
    "# Add other info\n",
    "denovo = pd.merge(denovo, gref[[\"chrom\",\"start\",\"period\",\"motif\",\"optimal_ru\"]], on=[\"chrom\",\"start\",\"period\"])\n",
    "denovo[\"sistr2\"] = denovo.apply(lambda x: joint_results2.get((x[\"motif\"], x[\"optimal_ru\"]), float(\"nan\")), 1)\n",
    "denovo = denovo[~np.isnan(denovo[\"sistr2\"])]\n",
    "denovo = pd.merge(denovo, motif_incl[[\"motif\",\"opt\",\"include\"]], on=[\"motif\",\"opt\"])\n",
    "denovo = denovo[denovo[\"include\"]]"
   ]
  },
  {
   "cell_type": "code",
   "execution_count": 51,
   "metadata": {},
   "outputs": [
    {
     "name": "stdout",
     "output_type": "stream",
     "text": [
      "##### NA12864 #####\n",
      "Num mutations: 61\n",
      "Num mutations neg - sistr2: 41\n",
      "Total burden (sistr2): 0.006588186268029999 (-0.006375257416462755-0.022765078371542236)\n",
      "Total burden only neg (sistr2): 0.02119307665781 (0.011997002015051498-0.03431305388216649)\n",
      "##### NA10865 #####\n",
      "Num mutations: 82\n",
      "Num mutations neg - sistr2: 58\n",
      "Total burden (sistr2): 0.01564848577629 (-0.004396348758655997-0.036325274227447246)\n",
      "Total burden only neg (sistr2): 0.03167457143702001 (0.017387795700184498-0.04838268492445601)\n",
      "##### NA10845 #####\n",
      "Num mutations: 24\n",
      "Num mutations neg - sistr2: 17\n",
      "Total burden (sistr2): 0.013532252725490003 (0.005459331592908-0.02548340807932724)\n",
      "Total burden only neg (sistr2): 0.01534345725063 (0.00725790974101-0.028126793050630733)\n"
     ]
    }
   ],
   "source": [
    "NUMBS = 100\n",
    "\n",
    "def BootstrapSVals(all_svals_2):\n",
    "    bs_svals_2 = []\n",
    "    for i in range(len(all_svals_2)):\n",
    "        ind = random.randint(0, len(all_svals_2))\n",
    "        bs_svals_2.append(all_svals_2[ind])\n",
    "    return bs_svals_2\n",
    "\n",
    "def GetLowerBS(vals):\n",
    "    return np.percentile(vals, [2.5])[0] #np.min(vals)\n",
    "\n",
    "def GetUpperBS(vals):\n",
    "    return np.percentile(vals, [97.5])[0] #np.max(vals)\n",
    "\n",
    "# Load scores for inherited burdens for each sample\n",
    "# Updated: recomputed inherited burden values using the expected fitness (a*b) instead of drawing from the gamma distribution.\n",
    "# TODO!!!!! Update taking step size into account #####\n",
    "iscores = {}\n",
    "for sample in [\"NA12864\", \"NA10865\",\"NA10845\" ]:\n",
    "    #if sample == \"NA10865\":\n",
    "    #    iscores[sample] = [float(item.strip().split()[1]) for item in open(\"%s_inherited_burden_upd.txt\"%sample, \"r\").readlines()[1:]]    \n",
    "    #else:\n",
    "    #    iscores[sample] = [float(item.strip().split()[1]) for item in open(\"%s_inherited_burden_updated.txt\"%sample, \"r\").readlines()[1:]]    \n",
    "    sample_burden = pd.read_csv(\"%s_burden_filtered.tab\"%sample, sep=\"\\t\")\n",
    "    sample_burden = sample_burden[sample_burden[\"Include\"]]\n",
    "    vals = []\n",
    "    for i in range(sample_burden.shape[0]):\n",
    "        s = sample_burden[\"Expected_s_value\"].values[i]\n",
    "        num = int(sample_burden[\"Num_variant_alleles\"].values[i])\n",
    "        vals.extend([s]*num)\n",
    "    iscores[sample] = vals\n",
    "    \n",
    "# Keep track of de novo scores\n",
    "dscores = {}\n",
    "\n",
    "for sample in [\"NA12864\", \"NA10865\",\"NA10845\" ]:\n",
    "    denovo_ = denovo[denovo[\"child\"]==sample].copy()\n",
    "    ddata = denovo_\n",
    "    ddata[\"s2.new\"] = ddata.apply(lambda x: abs(x[\"newallele\"]-x[\"optimal_ru\"])*x[\"sistr2\"], 1)\n",
    "    ddata[\"s2.old\"] = ddata.apply(lambda x: abs(x[\"newallele\"]-x[\"mutsize\"]-x[\"optimal_ru\"])*x[\"sistr2\"], 1)\n",
    "    ddata[\"s2.delta\"] = ddata[\"s2.new\"]-ddata[\"s2.old\"] \n",
    "\n",
    "    print (\"##### %s #####\"%sample)\n",
    "    print(\"Num mutations: %s\"%ddata.shape[0])\n",
    "    print(\"Num mutations neg - sistr2: %s\"%ddata[ddata[\"s2.delta\"]>0].shape[0])\n",
    "\n",
    "    # Get bootstrap CIs for all mutations\n",
    "    all_svals_2 = list(ddata[\"s2.delta\"])\n",
    "    \n",
    "    burden_bs_2 = []\n",
    "    burden_neg_bs_2 = []\n",
    "    \n",
    "    # Bootstrap sample mutations\n",
    "    for i in range(NUMBS):\n",
    "        bs_svals_2 = BootstrapSVals(all_svals_2)\n",
    "        burden_bs_2.append(np.sum(bs_svals_2))\n",
    "        burden_neg_bs_2.append(np.sum([item for item in bs_svals_2 if item > 0]))\n",
    "        \n",
    "    dscores[sample] = list(ddata[ddata[\"s2.new\"]!=0][\"s2.new\"])\n",
    "    \n",
    "    print(\"Total burden (sistr2): %s (%s-%s)\"%(np.sum(ddata[\"s2.delta\"]), GetLowerBS(burden_bs_2), GetUpperBS(burden_bs_2)))\n",
    "    print(\"Total burden only neg (sistr2): %s (%s-%s)\"%(np.sum(ddata[ddata[\"s2.delta\"]>0][\"s2.delta\"]), GetLowerBS(burden_neg_bs_2), GetUpperBS(burden_neg_bs_2)))\n",
    "    "
   ]
  },
  {
   "cell_type": "markdown",
   "metadata": {},
   "source": [
    "# Old - cdfs of denovo vs. inherited"
   ]
  },
  {
   "cell_type": "code",
   "execution_count": 54,
   "metadata": {},
   "outputs": [
    {
     "name": "stdout",
     "output_type": "stream",
     "text": [
      "Ks_2sampResult(statistic=0.3227801967111146, pvalue=1.1655728875966599e-05)\n",
      "NA12864 numloci_inherited=21288 numloci_denovo=58\n",
      "Ks_2sampResult(statistic=0.3139827767296449, pvalue=6.549125332897669e-07)\n",
      "NA10865 numloci_inherited=21397 numloci_denovo=76\n",
      "Ks_2sampResult(statistic=0.4505899842051473, pvalue=0.0005988091357562308)\n",
      "NA10845 numloci_inherited=21526 numloci_denovo=20\n"
     ]
    },
    {
     "data": {
      "image/png": "[encoded data removed]",
      "text/plain": [
       "<Figure size 720x360 with 3 Axes>"
      ]
     },
     "metadata": {
      "needs_background": "light"
     },
     "output_type": "display_data"
    }
   ],
   "source": [
    "# Plot CDFs\n",
    "import scipy.stats\n",
    "\n",
    "def getCDF(s_list):\n",
    "    bins_list = [0]\n",
    "    exponents = [10**-5, 10**-4, 10**-3, 10**-2]\n",
    "    for j in exponents:\n",
    "        for i in np.arange(1,10,0.01):\n",
    "            bins_list.append(i*j)\n",
    "\n",
    "    bins_list.append(0.1)\n",
    "    bins_list.append(1)\n",
    "\n",
    "    values, base = np.histogram(s_list, bins=bins_list)# [0,10**-5,10**-4,10**-3,10**-2,10**-1,1]#[0,10**-5,10**-4,10**-3,10**-2,10**-1,1]\n",
    "\n",
    "    cumulative = list(np.cumsum(values))\n",
    "    maximum = max(cumulative)\n",
    "    cumulative_scaled = []\n",
    "    for elem in cumulative:\n",
    "        elem = elem/maximum\n",
    "        cumulative_scaled.append(elem)\n",
    "\n",
    "    #cum_dic[motif] = cumulative_scaled\n",
    "    base_plot = base\n",
    "    \n",
    "    return cumulative_scaled, base_plot\n",
    "\n",
    "color_dic_motif = {}\n",
    "color_dic_motif['Inherited'] = 'red'\n",
    "color_dic_motif['Denovo'] = 'blue'\n",
    "\n",
    "fig = plt.figure()\n",
    "fig.set_size_inches((10, 5))\n",
    "fignum = 1\n",
    "\n",
    "for sample in [\"NA12864\", \"NA10865\",\"NA10845\" ]:\n",
    "    ax = fig.add_subplot(1, 3, fignum)\n",
    "    \n",
    "    cum_dic = {}\n",
    "    \n",
    "    cumulative_scaled, base_plot = getCDF(iscores[sample])\n",
    "    cum_dic[\"Inherited\"] = cumulative_scaled\n",
    "\n",
    "    cumulative_scaled, base_plot = getCDF(dscores[sample])\n",
    "    cum_dic[\"Denovo\"] = cumulative_scaled\n",
    "\n",
    "    for elem in cum_dic:\n",
    "        plt.plot(base_plot[:-1], cum_dic[elem], label = elem , color=color_dic_motif[elem], linewidth = 3, ls='solid')\n",
    "\n",
    "    print(scipy.stats.ks_2samp(iscores[sample], dscores[sample]))\n",
    "    print(\"%s numloci_inherited=%s numloci_denovo=%s\"%(sample, len(iscores[sample]), len(dscores[sample])))\n",
    "    plt.xlim(10**-5, 0.1)\n",
    "    plt.xscale('log')\n",
    "    plt.title(sample)\n",
    "    plt.xlabel('s', fontsize=15)\n",
    "    #plt.legend(bbox_to_anchor=(1, 1)) \n",
    "    plt.ylabel('Cumulative Frequency')\n",
    "    fignum += 1\n",
    "\n",
    "fig.tight_layout()\n",
    "fig.savefig(\"InheritedVsDenovo.pdf\")"
   ]
  }
 ],
 "metadata": {
  "kernelspec": {
   "display_name": "Python 3",
   "language": "python",
   "name": "python3"
  },
  "language_info": {
   "codemirror_mode": {
    "name": "ipython",
    "version": 3
   },
   "file_extension": ".py",
   "mimetype": "text/x-python",
   "name": "python",
   "nbconvert_exporter": "python",
   "pygments_lexer": "ipython3",
   "version": "3.7.4"
  }
 },
 "nbformat": 4,
 "nbformat_minor": 2
}
