{
 "cells": [
  {
   "cell_type": "code",
   "execution_count": 53,
   "metadata": {},
   "outputs": [
    {
     "name": "stdout",
     "output_type": "stream",
     "text": [
      "Populating the interactive namespace from numpy and matplotlib\n"
     ]
    }
   ],
   "source": [
    "%pylab inline\n",
    "import sys\n",
    "sys.path.append(\"/storage/BonnieH/selection_project/helper_functions\")\n",
    "from Simulation_functions import *\n",
    "from LRT_functions import *\n",
    "import matplotlib\n",
    "from matplotlib import pyplot as plt"
   ]
  },
  {
   "cell_type": "code",
   "execution_count": 54,
   "metadata": {
    "scrolled": true
   },
   "outputs": [
    {
     "data": {
      "text/plain": [
       "<matplotlib.legend.Legend at 0x7f78a80afcd0>"
      ]
     },
     "execution_count": 54,
     "metadata": {},
     "output_type": "execute_result"
    },
    {
     "data": {
      "image/png": "[encoded data removed]",
      "text/plain": [
       "<Figure size 432x288 with 1 Axes>"
      ]
     },
     "metadata": {
      "needs_background": "light"
     },
     "output_type": "display_data"
    }
   ],
   "source": [
    "per = 2\n",
    "opt_allele = 14\n",
    "suffix_list = ['het', 'common']\n",
    "s = 0\n",
    "\n",
    "model = 'african'\n",
    "model = '50k'\n",
    "file_prefix = '/gymreklab-tscc/bonnieh/lrt/results/' + model + '/' + str(per) + '_' + str(opt_allele)\n",
    "list_of_lists = GetAllLRTLists(file_prefix, suffix_list, s)\n",
    "het_list_african = list_of_lists[0]\n",
    "\n",
    "\n",
    "model = 'european'\n",
    "file_prefix = '/gymreklab-tscc/bonnieh/lrt/results/' + model + '/' + str(per) + '_' + str(opt_allele) \n",
    "list_of_lists = GetAllLRTLists(file_prefix, suffix_list, s)\n",
    "het_list_european = list_of_lists[0]\n",
    "\n",
    "#bins = np.arange(0,max(het_list_african+het_list_european)+0.1,0.1) \n",
    "#bins = np.arange(0,weights=np.ones(len(het_list_european))/len(het_list_european),\n",
    "plt.hist(het_list_african,bins = np.arange(0,max(het_list_african+het_list_european)+0.1,0.05) ,weights=np.ones(len(het_list_african))/len(het_list_african),color='blue',alpha = 0.5,label = 'Constant')\n",
    "plt.hist(het_list_european,bins = np.arange(0,max(het_list_african+het_list_european)+0.1,0.05) , weights=np.ones(len(het_list_european))/len(het_list_european),color = 'red',alpha = 0.5,label = 'European')\n",
    "plt.title('Constant v European Demographic Model: s = ' + str(s))\n",
    "plt.xlabel('Heterozygosity')\n",
    "#plt.xlabel('Number of common alleles')\n",
    "plt.ylabel('Fraction of Simulations')\n",
    "plt.legend()\n"
   ]
  },
  {
   "cell_type": "code",
   "execution_count": 55,
   "metadata": {},
   "outputs": [
    {
     "data": {
      "image/png": "[encoded data removed]",
      "text/plain": [
       "<Figure size 432x288 with 2 Axes>"
      ]
     },
     "metadata": {
      "needs_background": "light"
     },
     "output_type": "display_data"
    }
   ],
   "source": [
    "t = 0\n",
    "N_e = 7310 # Starting effective population size\n",
    "max_iter = 55920 # Number of generations\n",
    "toplot_african = [] # Effective population size over time\n",
    "toplot_european = []\n",
    "while t < max_iter:\n",
    "    if t == max_iter - 5920:\n",
    "        N_e = 14474\n",
    "    if t == max_iter - 2040:\n",
    "        N_e = 1861  \n",
    "    if t == max_iter - 920:\n",
    "        N_e = 1032\n",
    "    if t > max_iter - 920 and t < max_iter - 205:\n",
    "        N_e = N_e * 1.00307\n",
    "    if t >= max_iter - 205:\n",
    "        N_e = N_e * 1.0195\n",
    "            \n",
    "    t = t + 1\n",
    "        \n",
    "    toplot_european.append(N_e)\n",
    "    \n",
    "t = 0\n",
    "N_e = 7310\n",
    "while t < max_iter:\n",
    "    if t == max_iter - 5920:\n",
    "        N_e = 14474\n",
    "            \n",
    "    if t >= max_iter - 205:\n",
    "        N_e = N_e * 1.0166\n",
    "    t = t + 1\n",
    "        \n",
    "    toplot_african.append(N_e)\n",
    "    \n",
    "        \n",
    "x = np.r_[55919:54919:1, 6900:0:1]\n",
    "    \n",
    "fig,(ax,ax2) = plt.subplots(1, 2, sharey=True)\n",
    "    \n",
    "x = list(range(len(toplot_european)))\n",
    "x.reverse()\n",
    "toplot_european.reverse\n",
    "\n",
    "# Plot data\n",
    "ax.plot(x, toplot_african, label = 'African',alpha = 0.5, color = 'blue',lw=3)\n",
    "ax2.plot(x, toplot_african, label = 'African',alpha = 0.5, color = 'blue',lw=3)\n",
    "ax.plot(x, toplot_european, label = 'European',alpha = 0.5, color = 'red',lw=3)\n",
    "ax2.plot(x, toplot_european, label = 'European',alpha = 0.5, color = 'red',lw=3)\n",
    "\n",
    "ax.set_xlim(55920,48920) \n",
    "ax2.set_xlim(7000,-100) \n",
    "ax.spines['right'].set_visible(False)\n",
    "ax2.spines['left'].set_visible(False)\n",
    "ax.yaxis.tick_left()\n",
    "ax2.yaxis.tick_right()\n",
    "ax.set_yscale('log')\n",
    "plt.subplots_adjust(wspace=0.15)\n",
    "ax.set_xlabel('Number of generations ago',x=1.1)\n",
    "ax.set_ylabel('Population size')\n",
    "ax.set_title('African v European Demographic Model',x=1.1)\n",
    "plt.legend()\n",
    "plt.show()"
   ]
  }
 ],
 "metadata": {
  "kernelspec": {
   "display_name": "Python 3",
   "language": "python",
   "name": "python3"
  },
  "language_info": {
   "codemirror_mode": {
    "name": "ipython",
    "version": 3
   },
   "file_extension": ".py",
   "mimetype": "text/x-python",
   "name": "python",
   "nbconvert_exporter": "python",
   "pygments_lexer": "ipython3",
   "version": "3.7.4"
  }
 },
 "nbformat": 4,
 "nbformat_minor": 2
}
