{
 "cells": [
  {
   "cell_type": "markdown",
   "metadata": {},
   "source": [
    "This notebook contains code to measure the burden of deleterious variation from STRs"
   ]
  },
  {
   "cell_type": "code",
   "execution_count": 1,
   "metadata": {},
   "outputs": [
    {
     "name": "stdout",
     "output_type": "stream",
     "text": [
      "Populating the interactive namespace from numpy and matplotlib\n"
     ]
    }
   ],
   "source": [
    "%pylab inline\n",
    "\n",
    "import matplotlib\n",
    "matplotlib.rcParams['pdf.fonttype'] = 42\n",
    "matplotlib.rcParams['ps.fonttype'] = 42\n",
    "from matplotlib import pyplot as plt\n",
    "import sys\n",
    "import pandas as pd\n",
    "\n",
    "sys.path.append(\"/storage/BonnieH/selection_project/helper_functions\")\n",
    "from Simulation_functions import *"
   ]
  },
  {
   "cell_type": "markdown",
   "metadata": {},
   "source": [
    "# New mutations - based on models"
   ]
  },
  {
   "cell_type": "code",
   "execution_count": 2,
   "metadata": {},
   "outputs": [],
   "source": [
    "# For each class of STRs, we want:\n",
    "# - motif/opt allele\n",
    "# - number of STRs\n",
    "# - mutation rate\n",
    "# - mean s per mutation\n",
    "# Then will sum across all categories\n",
    "\n",
    "# Read in joint results\n",
    "joint_results = {}\n",
    "sistr2_scores_file = open('/storage/BonnieH/selection_project/analysis/SISTR2_scores_by_motif_corrected_num_loci.txt', 'r')\n",
    "sistr2_scores_file.readline()\n",
    "for line in sistr2_scores_file:\n",
    "    info = line.strip().split('\\t')\n",
    "    period = int(info[0])\n",
    "    optimal_ru = int(info[1])\n",
    "    motif = info[2]\n",
    "    num_loci = int(info[3])\n",
    "    est_a = float(info[4])\n",
    "    est_b = float(info[5])\n",
    "    joint_results[(period,optimal_ru,motif,num_loci)] = (est_a,est_b)\n",
    "sistr2_scores_file.close()\n",
    "\n",
    "# List contents: mu, beta, p, l, optimal ru for the mu value\n",
    "# Mutation model parameters for different motifs\n",
    "motif_info = {}\n",
    "motif_info['eurodem_prior2_dinuc_e_1kg_euro'] = [10**-5, 0.3, 0.6, 0.15, 6]\n",
    "motif_info['eurodem_prior2_dinuc_d_1kg_euro'] = [10**-4.6, 0.3, 0.6, 0.135, 6]\n",
    "motif_info['eurodem_prior2_trinuc_e_1kg_euro'] = [10**-6, 0.3, 0.9, 0.3, 5] \n",
    "motif_info['eurodem_prior2_tetranuc_b_1kg_euro'] = [10**-5, 0.3, 0.9, 0.25, 3]\n",
    "motif_info['eurodem_prior2_tetranuc_c_1kg_euro'] = [10**-5.5, 0.3, 0.9, 0.42, 3]\n",
    "motif_info['eurodem_prior2_tetranuc_d_1kg_euro'] = [10**-6, 0.3, 0.9, 0.45, 3]\n",
    "\n",
    "# Mutation model settings for different motifs (inferred by SISTR2)\n",
    "trinuc_motifs = ['ACC','AGG','AGC','CCG','AAG','AAC','ATC','AAT']\n",
    "dinuc_motifs  = ['AC','AG','AT'] \n",
    "tetranuc_motifs = ['AAGG','AAAT','ATCC','AATC','AAAC','AATG','ACAT','AGAT','AAAG'] \n",
    "mut_setting = {}\n",
    "mut_setting['AC'] = 'eurodem_prior2_dinuc_e_1kg_euro'\n",
    "mut_setting['AG'] = 'eurodem_prior2_dinuc_e_1kg_euro'\n",
    "mut_setting['AT'] = 'eurodem_prior2_dinuc_d_1kg_euro'\n",
    "for mot in trinuc_motifs:\n",
    "    mut_setting[mot] = 'eurodem_prior2_trinuc_e_1kg_euro'\n",
    "for mot in ['AAAG', 'AAGG', 'AGAT']:\n",
    "    mut_setting[mot] = 'eurodem_prior2_tetranuc_b_1kg_euro'\n",
    "for mot in ['ACAT', 'AAAT']:\n",
    "    mut_setting[mot] = 'eurodem_prior2_tetranuc_c_1kg_euro'\n",
    "for mot in ['AATC', 'AATG', 'ATCC', 'AAAC']:\n",
    "    mut_setting[mot] = 'eurodem_prior2_tetranuc_d_1kg_euro'\n",
    "\n",
    "    \n",
    "motifs_ = []\n",
    "opts_ = []\n",
    "numloci_ = []\n",
    "means_ = []\n",
    "muts_ = []\n",
    "# Get burden for each category\n",
    "for elem in joint_results:\n",
    "    # Get params for this class\n",
    "    setting_info = mut_setting[elem[2]]\n",
    "    mut_info = motif_info[setting_info]\n",
    "    num_loci = elem[3] # target size\n",
    "    \n",
    "    # Get mutation rate   \n",
    "    log_mu_prime = np.log10(mut_info[0])+mut_info[3]*(elem[1] - mut_info[4])\n",
    "    mu_prime = 10**log_mu_prime\n",
    "    \n",
    "    if mu_prime < 10**-8: mu_prime = 10**-8 \n",
    "    if mu_prime > 10**-3: mu_prime = 10**-3\n",
    "\n",
    "    # Get mean s value of a new mutation\n",
    "    # Sum over all possible step sizes\n",
    "    mean_s = 0\n",
    "    for i in range(-20, 20):\n",
    "        if elem[1] + i <= 0: continue # can't have negative repeat copy nmber\n",
    "        prob_step = GetStepSizeProb(0, i, mut_info[1], mut_info[2])\n",
    "        sval = joint_results[elem][0]*joint_results[elem][1]*abs(i) # a*b*step\n",
    "        mean_s += prob_step*sval\n",
    "    \n",
    "    motifs_.append(elem[2])\n",
    "    opts_.append(elem[1])\n",
    "    numloci_.append(num_loci)\n",
    "    means_.append(mean_s)\n",
    "    muts_.append(mu_prime)\n",
    "\n",
    "data = pd.DataFrame({\"motif\": motifs_,\n",
    "             \"opt\": opts_,\n",
    "             \"numloci\": numloci_,\n",
    "             \"mean.s\": means_,\n",
    "             \"mu\": muts_})"
   ]
  },
  {
   "cell_type": "code",
   "execution_count": 3,
   "metadata": {},
   "outputs": [
    {
     "name": "stdout",
     "output_type": "stream",
     "text": [
      "0.051146734481617315\n",
      "Num STRs: 74119\n",
      "Mean s/mutation: 0.0006540766876531336\n",
      "Mean mu: 0.00019606154782613472\n",
      "Overall burden: 0.01900993554167439\n"
     ]
    }
   ],
   "source": [
    "# Get burden\n",
    "\n",
    "data[\"burden\"] = data.apply(lambda x: 2*x[\"mu\"]*x[\"mean.s\"]*x[\"numloci\"], 1)\n",
    "data.to_csv(\"figure4-burden-numbers.csv\")\n",
    "print(np.sum(data[\"burden\"]))\n",
    "\n",
    "# Summarize overall\n",
    "num_strs = np.sum(data[\"numloci\"])\n",
    "mean_s = np.sum(data.apply(lambda x: x[\"numloci\"]*x[\"mean.s\"], 1))/np.sum(data[\"numloci\"])\n",
    "mean_mu = np.sum(data.apply(lambda x: x[\"numloci\"]*x[\"mu\"], 1))/np.sum(data[\"numloci\"])\n",
    "burden = 2*mean_mu*num_strs*mean_s\n",
    "print(\"Num STRs: %s\"%(num_strs))\n",
    "print(\"Mean s/mutation: %s\"%(mean_s))\n",
    "print(\"Mean mu: %s\"%(mean_mu))\n",
    "print(\"Overall burden: %s\"%burden)"
   ]
  },
  {
   "cell_type": "markdown",
   "metadata": {},
   "source": [
    "# Supp fig. 12 - burden comparison by motif"
   ]
  },
  {
   "cell_type": "code",
   "execution_count": 64,
   "metadata": {},
   "outputs": [
    {
     "data": {
      "image/png": "[encoded data removed]",
      "text/plain": [
       "<Figure size 1080x576 with 4 Axes>"
      ]
     },
     "metadata": {
      "needs_background": "light"
     },
     "output_type": "display_data"
    }
   ],
   "source": [
    "data[\"period\"] = data[\"motif\"].apply(len)\n",
    "data = data.sort_values([\"period\",\"motif\",\"opt\"])\n",
    "vertlines = [-0.5]\n",
    "motifs = [data[\"motif\"].values[0]]\n",
    "mpos = [0]\n",
    "for i in range((data.shape[0])-1):\n",
    "    if data[\"motif\"].values[i] != data[\"motif\"].values[i+1]:\n",
    "        vertlines.append(i+0.5)\n",
    "        motifs.append(data[\"motif\"].values[i+1])\n",
    "        mpos.append(i+1)\n",
    "\n",
    "fig = plt.figure()\n",
    "fig.set_size_inches((15, 8))\n",
    "ax = fig.add_subplot(411)\n",
    "ax.bar(range(data.shape[0]), (data[\"mean.s\"]), color=\"black\")\n",
    "ax.set_xticks([])\n",
    "for vl in vertlines:\n",
    "    ax.axvline(x=vl, color=\"black\", linewidth=0.5)\n",
    "for i in range(len(motifs)):\n",
    "    ax.annotate(motifs[i], (mpos[i], 0.006), size=8)\n",
    "ax.set_ylabel(\"Mean s\")\n",
    "#ax.set_yscale('log')\n",
    "\n",
    "\n",
    "ax = fig.add_subplot(412)\n",
    "ax.bar(range(data.shape[0]), (data[\"numloci\"]), color=\"black\")\n",
    "ax.set_xticks([])\n",
    "for vl in vertlines:\n",
    "    ax.axvline(x=vl, color=\"black\", linewidth=0.5)\n",
    "for i in range(len(motifs)):\n",
    "    ax.annotate(motifs[i], (mpos[i], 7000), size=8)\n",
    "ax.set_ylabel(\"Num. loci\")\n",
    "\n",
    "ax = fig.add_subplot(413)\n",
    "ax.bar(range(data.shape[0]), (data[\"mu\"]), color=\"black\")\n",
    "ax.set_xticks([])\n",
    "for vl in vertlines:\n",
    "    ax.axvline(x=vl, color=\"black\", linewidth=0.5)\n",
    "#for i in range(len(motifs)):\n",
    "#    ax.annotate(motifs[i], (mpos[i], 7000), size=8)\n",
    "ax.set_ylabel(\"Mut rate\")\n",
    "\n",
    "ax = fig.add_subplot(414)\n",
    "ax.bar(range(data.shape[0]), (data[\"burden\"]), color=\"black\")\n",
    "ax.set_xticks(range(data.shape[0]))\n",
    "for vl in vertlines:\n",
    "    ax.axvline(x=vl, color=\"black\", linewidth=0.5)\n",
    "for i in range(len(motifs)):\n",
    "    ax.annotate(motifs[i], (mpos[i], 0.012), size=8)    \n",
    "ax.set_xticklabels(data.apply(lambda x: str(x[\"opt\"]), 1), rotation=0, size=7)\n",
    "ax.set_ylabel(\"Exp. burden\")\n",
    "ax.set_yscale('log')\n",
    "fig.tight_layout()\n",
    "\n",
    "fig.savefig(\"SuppFig-burdenByMotif.pdf\")\n",
    "#data"
   ]
  },
  {
   "cell_type": "markdown",
   "metadata": {},
   "source": [
    "# New mutations - based on observed de novos\n"
   ]
  },
  {
   "cell_type": "code",
   "execution_count": 4,
   "metadata": {},
   "outputs": [],
   "source": [
    "joint_results2 = {} # motif, opt -> s\n",
    "for elem in joint_results:\n",
    "    joint_results2[(elem[2], elem[1])] = joint_results[elem][0]*joint_results[elem][1]"
   ]
  },
  {
   "cell_type": "code",
   "execution_count": 99,
   "metadata": {},
   "outputs": [],
   "source": [
    "# Load gangstr ref\n",
    "gref_file = \"/gymreklab-tscc/mousavi/analysis/1000genomes/additional_runtime_files/regions/hg38_supp.bed\"\n",
    "gref = pd.read_csv(gref_file, sep=\"\\t\", names=[\"chrom\",\"start\",\"end\",\"period\",\"motif\",\"repseq\"])\n",
    "gref[\"optimal_ru\"] = gref.apply(lambda x: int((x[\"end\"]-x[\"start\"]+1)/x[\"period\"]), 1)"
   ]
  },
  {
   "cell_type": "code",
   "execution_count": 141,
   "metadata": {},
   "outputs": [
    {
     "name": "stdout",
     "output_type": "stream",
     "text": [
      "##### NA12864 #####\n",
      "Num mutations: 44\n",
      "Num mutations neg - sistr2: 30\n",
      "Total burden (sistr2): 0.015528033261170004 (0.0021924287313340013-0.03394276430340225)\n",
      "Total burden only neg (sistr2): 0.023044235013710005 (0.012215134528856503-0.038099608668146254)\n",
      "##### NA10865 #####\n",
      "Num mutations: 56\n",
      "Num mutations neg - sistr2: 40\n",
      "Total burden (sistr2): 0.011263137321959998 (-0.006497389356753253-0.039017541613674725)\n",
      "Total burden only neg (sistr2): 0.027481502432389997 (0.0138676909182785-0.047767927996483495)\n",
      "##### NA10845 #####\n",
      "Num mutations: 20\n",
      "Num mutations neg - sistr2: 15\n",
      "Total burden (sistr2): 0.014940432778029998 (-0.0004189909325777496-0.030452908913727247)\n",
      "Total burden only neg (sistr2): 0.019543998340849997 (0.006129031681813753-0.0314229606203805)\n"
     ]
    }
   ],
   "source": [
    "NUMBS = 100\n",
    "\n",
    "# Load all de novos + filter\n",
    "denovos_file = \"/storage/hziaeija/variant_trio/trio_variants/monstr_all_filters/CEU_all_filters.csv\"\n",
    "denovo = pd.read_csv(denovos_file)\n",
    "denovo = denovo[denovo[\"period\"].apply(lambda x: x>=2 and x<=4)]\n",
    "denovo = denovo[(denovo[\"encl_mother\"]==0) & (denovo[\"encl_father\"]==0) & (denovo[\"encl_child\"]>=2)]\n",
    "denovo[\"start\"] = denovo[\"pos\"]\n",
    "denovo = pd.merge(denovo, gref[[\"chrom\",\"start\",\"period\",\"motif\",\"optimal_ru\"]], on=[\"chrom\",\"start\",\"period\"])\n",
    "denovo[\"sistr2\"] = denovo.apply(lambda x: joint_results2.get((x[\"motif\"], x[\"optimal_ru\"]), float(\"nan\")), 1)\n",
    "denovo = denovo[~np.isnan(denovo[\"sistr2\"])]\n",
    "\n",
    "def BootstrapSVals(all_svals_2):\n",
    "    bs_svals_2 = []\n",
    "    for i in range(len(all_svals_2)):\n",
    "        ind = random.randint(0, len(all_svals_2))\n",
    "        bs_svals_2.append(all_svals_2[ind])\n",
    "    return bs_svals_2\n",
    "\n",
    "def GetLowerBS(vals):\n",
    "    return np.percentile(vals, [2.5])[0] #np.min(vals)\n",
    "\n",
    "def GetUpperBS(vals):\n",
    "    return np.percentile(vals, [97.5])[0] #np.max(vals)\n",
    "\n",
    "\n",
    "for sample in [\"NA12864\", \"NA10865\",\"NA10845\" ]:\n",
    "    denovo_ = denovo[denovo[\"child\"]==sample].copy()\n",
    "    ddata = denovo_\n",
    "    ddata[\"s2.new\"] = ddata.apply(lambda x: (x[\"newallele\"]-x[\"optimal_ru\"])*x[\"sistr2\"], 1)\n",
    "    ddata[\"s2.old\"] = ddata.apply(lambda x: (x[\"newallele\"]-x[\"mutsize\"]-x[\"optimal_ru\"])*x[\"sistr2\"], 1)\n",
    "    ddata[\"s2.delta\"] = ddata[\"s2.new\"]-ddata[\"s2.old\"]\n",
    "\n",
    "    print (\"##### %s #####\"%sample)\n",
    "    print(\"Num mutations: %s\"%ddata.shape[0])\n",
    "    print(\"Num mutations neg - sistr2: %s\"%ddata[ddata[\"s2.delta\"]>0].shape[0])\n",
    "\n",
    "    # Get bootstrap CIs for all mutations, only negative - TODO\n",
    "    all_svals_2 = list(ddata[\"s2.delta\"])\n",
    "    \n",
    "    burden_bs_2 = []\n",
    "    burden_neg_bs_2 = []\n",
    "    \n",
    "    # Bootstrap sample mutations\n",
    "    for i in range(NUMBS):\n",
    "        bs_svals_2 = BootstrapSVals(all_svals_2)\n",
    "        burden_bs_2.append(np.sum(bs_svals_2))\n",
    "        burden_neg_bs_2.append(np.sum([item for item in bs_svals_2 if item > 0]))\n",
    "    \n",
    "    print(\"Total burden (sistr2): %s (%s-%s)\"%(np.sum(ddata[\"s2.delta\"]), GetLowerBS(burden_bs_2), GetUpperBS(burden_bs_2)))\n",
    "    print(\"Total burden only neg (sistr2): %s (%s-%s)\"%(np.sum(ddata[ddata[\"s2.delta\"]>0][\"s2.delta\"]), GetLowerBS(burden_neg_bs_2), GetUpperBS(burden_neg_bs_2)))\n",
    "    "
   ]
  }
 ],
 "metadata": {
  "kernelspec": {
   "display_name": "Python 3",
   "language": "python",
   "name": "python3"
  },
  "language_info": {
   "codemirror_mode": {
    "name": "ipython",
    "version": 3
   },
   "file_extension": ".py",
   "mimetype": "text/x-python",
   "name": "python",
   "nbconvert_exporter": "python",
   "pygments_lexer": "ipython3",
   "version": "3.7.4"
  }
 },
 "nbformat": 4,
 "nbformat_minor": 2
}
