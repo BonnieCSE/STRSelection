{
 "cells": [
  {
   "cell_type": "markdown",
   "metadata": {},
   "source": [
    "This notebook contains code to calculate the burden of deleterious variation from inherited STRs"
   ]
  },
  {
   "cell_type": "code",
   "execution_count": 1,
   "metadata": {},
   "outputs": [
    {
     "name": "stdout",
     "output_type": "stream",
     "text": [
      "Populating the interactive namespace from numpy and matplotlib\n"
     ]
    }
   ],
   "source": [
    "%pylab inline\n",
    "\n",
    "import matplotlib\n",
    "matplotlib.rcParams['pdf.fonttype'] = 42\n",
    "matplotlib.rcParams['ps.fonttype'] = 42\n",
    "from matplotlib import pyplot as plt\n",
    "import sys\n",
    "import random\n",
    "sys.path.append(\"/storage/BonnieH/selection_project/joint_method\")\n",
    "from Joint_method_functions import *"
   ]
  },
  {
   "cell_type": "code",
   "execution_count": 2,
   "metadata": {},
   "outputs": [
    {
     "data": {
      "text/plain": [
       "'\\nbcftools view --regions-file /storage/BonnieH/selection_project/1000genomes/euro_allele_freqs/1kg_with_sistr2_scores.txt /storage/BonnieH/selection_project/1000genomes/euro_allele_freqs/EUR_sans_FIN_filtered.vcf.gz | bgzip -c > /storage/BonnieH/selection_project/1000genomes/euro_allele_freqs/EUR_sans_FIN_filtered_w_sistr2_scores.vcf.gz\\n'"
      ]
     },
     "execution_count": 2,
     "metadata": {},
     "output_type": "execute_result"
    }
   ],
   "source": [
    "# See /storage/BonnieH/selection_project/1000genomes/euro_allele_freqs/Generate_sample_info_txt.py for\n",
    "# script extracting a sample's genotype information from the merged VCF \"EUR_sans_FIN_filtered_w_sistr2_scores.vcf.gz\" \n",
    "# that contains information regarding all samples\n",
    "\n",
    "# Perform the following command to obtain genotypes for each STR for a given individual (only keep STRs with SISTR2 scores)\n",
    "# Example command for individual NA12864\n",
    "'''\n",
    "awk 'NR==FNR{c[$1\"a\"$2]++;next};c[$1\"a\"$2] > 0 {print $1\"\\t\"$2\"\\t\"$3\"\\t\"$4}' /storage/BonnieH/selection_project/1000genomes/euro_allele_freqs/1kg_allele_freqs_with_sistr2_scores_no_chr.txt /storage/BonnieH/selection_project/1000genomes/euro_allele_freqs/NA12864.txt > /storage/BonnieH/selection_project/1000genomes/euro_allele_freqs/NA12864_filtered.txt\n",
    "\n",
    "'''\n",
    "\n",
    "# Note - The file /storage/BonnieH/selection_project/1000genomes/euro_allele_freqs/EUR_sans_FIN_filtered_w_sistr2_scores.vcf.gz was obtained using the command: \n",
    "'''\n",
    "bcftools view --regions-file /storage/BonnieH/selection_project/1000genomes/euro_allele_freqs/1kg_with_sistr2_scores.txt /storage/BonnieH/selection_project/1000genomes/euro_allele_freqs/EUR_sans_FIN_filtered.vcf.gz | bgzip -c > /storage/BonnieH/selection_project/1000genomes/euro_allele_freqs/EUR_sans_FIN_filtered_w_sistr2_scores.vcf.gz\n",
    "'''"
   ]
  },
  {
   "cell_type": "code",
   "execution_count": 3,
   "metadata": {},
   "outputs": [],
   "source": [
    "# Read in joint results\n",
    "joint_results = {}\n",
    "sistr2_scores_file = open('/storage/BonnieH/selection_project/analysis/SISTR2_scores_by_motif.txt', 'r')\n",
    "sistr2_scores_file.readline()\n",
    "for line in sistr2_scores_file:\n",
    "    info = line.strip().split('\\t')\n",
    "    period = int(info[0])\n",
    "    optimal_ru = int(info[1])\n",
    "    motif = info[2]\n",
    "    est_a = float(info[4])\n",
    "    est_b = float(info[5])\n",
    "    joint_results[(period,optimal_ru,motif)] = (est_a,est_b)\n",
    "sistr2_scores_file.close()"
   ]
  },
  {
   "cell_type": "code",
   "execution_count": 4,
   "metadata": {},
   "outputs": [],
   "source": [
    "# Given a file with simulation results, return a dictionary where the key is the rounded s value and the value is a \n",
    "# list of [s, allele_freqs] pairs\n",
    "def getAlleleFreqsTable(abcFile):\n",
    "    abc_file = open(abcFile, 'r')\n",
    "    header = abc_file.readline().strip().split('\\t')\n",
    "    \n",
    "    # Find column in file that has allele freqs\n",
    "    freqs_column = 0\n",
    "    \n",
    "    # Dictionary of allele freqs\n",
    "    dic = {}\n",
    "    for i in range(0, len(header)):\n",
    "        if header[i] == 'freqs':\n",
    "            freqs_column = i\n",
    "\n",
    "    for line in abc_file:\n",
    "        info = line.strip().split('\\t')\n",
    "        s = float(info[0])\n",
    "        freq_string = info[freqs_column]\n",
    "        allele_freqs = [float(freq) for freq in freq_string.split(',')]\n",
    "        #print(allele_freqs)\n",
    "        s_round = get_LRT_bin(s)\n",
    "        if s_round not in dic:\n",
    "            dic[s_round] = []\n",
    "        dic[s_round].append([s, allele_freqs])\n",
    "        \n",
    "    return dic"
   ]
  },
  {
   "cell_type": "code",
   "execution_count": 5,
   "metadata": {},
   "outputs": [
    {
     "name": "stdout",
     "output_type": "stream",
     "text": [
      "CPU times: user 18.4 s, sys: 1.25 s, total: 19.6 s\n",
      "Wall time: 20.2 s\n"
     ]
    }
   ],
   "source": [
    "%%time\n",
    "# Preprocess ABC lookup table\n",
    "# Get ABC tables\n",
    "ABC_tables = {}\n",
    "    \n",
    "mut_setting_folder_name = {}\n",
    "mut_setting_folder_name[2] = 'eurodem_prior2_dinuc_'\n",
    "mut_setting_folder_name[3] = 'eurodem_prior2_trinuc_'\n",
    "mut_setting_folder_name[4] = 'eurodem_prior2_tetranuc_'\n",
    "    \n",
    "mut_settings = {}\n",
    "mut_settings[2] = ['a','b','c','d','e','f']\n",
    "mut_settings[3] = ['a','b','c','d','e','f','g']\n",
    "mut_settings[4] = ['a','b','c','d','e','f','g']\n",
    "    \n",
    "per_list = [2,3,4]\n",
    "\n",
    "opt_allele_dic = {}\n",
    "opt_allele_dic[2] = [11,12,13,14,15,16,17,18,19,20] \n",
    "opt_allele_dic[3] = [5,6,7,8,9,10,11,12,13] \n",
    "opt_allele_dic[4] = [7,8,9,10] \n",
    "\n",
    "# Go through each period, opt allele, mutation setting combination to create ABC lookup table\n",
    "for per in per_list:\n",
    "\n",
    "    folder_prefix = mut_setting_folder_name[per]\n",
    "        \n",
    "    for mut_setting in mut_settings[per]:\n",
    "        for opt in opt_allele_dic[per]:\n",
    "            file = '/gymreklab-tscc/bonnieh/abc/results/' + folder_prefix + mut_setting + '_1kg_euro/' + str(per) + '_' + str(opt) + '.txt'\n",
    "\n",
    "            ABC_tables[(per,opt,mut_setting)] = getAlleleFreqsTable(file)"
   ]
  },
  {
   "cell_type": "code",
   "execution_count": 6,
   "metadata": {},
   "outputs": [],
   "source": [
    "# Get the inherited s value given list of allele freqs for different s, the difference from the optimal allele, \n",
    "# and the (a, b) parameters of the gamma distribution from which s is drawn\n",
    "def getInheriteds(list_freqs, diff, a, b):\n",
    "    \n",
    "    # Note: We are returning the s value unless\n",
    "    # When the difference from the optimal allele is 0, we arbitrarily return 99999\n",
    "    # When the difference from the optimal allele is >12 or <-12, we arbitrarily return 999999 \n",
    "    # When we draw/simulate 1000 freqs and still do not simulate the variant, we arbitrarily return 9999999\n",
    "    if diff == 0:\n",
    "        return 99999\n",
    "    if diff > 12 or diff < -12:\n",
    "        return 999999\n",
    "    \n",
    "    # Get table of s and mutant allele's frequency in the population\n",
    "    \n",
    "    population = []\n",
    "    weights = []\n",
    "    \n",
    "    for i in range(0, 1000):\n",
    "        s_val = np.random.gamma(a, b)\n",
    "        if s_val > 1:\n",
    "            s_val = 1\n",
    "                \n",
    "        s_round = get_LRT_bin(s_val)\n",
    "                \n",
    "        # Pick random allele frequency\n",
    "            \n",
    "        freqs_for_s = list_freqs[s_round]\n",
    "        random_freqs = random.choice(freqs_for_s)\n",
    "        \n",
    "        # Note: There are 25 possible alleles in the allele frequency distribution, with the optimal allele in the \n",
    "        # middle of the list. Thus, to get the appropriate variant, we index at diff + 12\n",
    "        if random_freqs[1][diff + 12] > 0:\n",
    "            population.append(s_val)\n",
    "            weights.append(random_freqs[1][diff + 12])\n",
    "            \n",
    "    # Arbitrarily return 9999999 when we draw/simulate 1000 freqs and still do not simulate the variant\n",
    "    if len(population) < 1:\n",
    "        return 9999999\n",
    "    \n",
    "    # Make weights add up to 1\n",
    "    normalized_weights = []\n",
    "   \n",
    "    for elem in weights:\n",
    "        normalized_weights.append(elem/sum(weights))\n",
    "        \n",
    "    s = random.choices(population, weights = normalized_weights, k = 1)\n",
    "    #print(s)\n",
    "    return s[0]"
   ]
  },
  {
   "cell_type": "code",
   "execution_count": 7,
   "metadata": {},
   "outputs": [
    {
     "name": "stdout",
     "output_type": "stream",
     "text": [
      "NA10845 STR Reduction in Fitness\n",
      "Standing variation burden = 8.56 (Calculated from 21526 alleles)\n",
      "Total number of alleles: 53468\n",
      "CPU times: user 27min 4s, sys: 2.15 s, total: 27min 6s\n",
      "Wall time: 27min 4s\n"
     ]
    }
   ],
   "source": [
    "%%time\n",
    "sample = 'NA10845' # Change sample name based on the sample you would like to analyze\n",
    "\n",
    "# Calculate burden from standing variation using joint scores\n",
    "sample_info_file = open('/storage/BonnieH/selection_project/1000genomes/euro_allele_freqs/' + sample + '_filtered.txt', 'r') \n",
    "\n",
    "# Joint scores\n",
    "sistr_scores_file = open('/storage/BonnieH/selection_project/1000genomes/euro_allele_freqs/1kg_allele_freqs_with_sistr2_scores_no_chr.txt', 'r')\n",
    "\n",
    "# Column headers for above file: chrom, pos, per, optimal allele, motif\n",
    "\n",
    "burden_list_joint = [] # List of burdens\n",
    "diff_list = [] # List of differences between optimal allele and individual's genotype\n",
    "motif_list = []\n",
    "opt_allele_list = []\n",
    "count_loci = 0\n",
    "num_times_list = [] # List of number of allele frequencies drawn before finding variant\n",
    "num_not_found = 0 # Number of variants where when we draw/simulate 20000 freqs and still do not simulate the variant\n",
    "num_not_exist = 0 # Number of variants where the difference from the optimal allele is >12 or <-12\n",
    "\n",
    "motif_dic = {}\n",
    "motif_dic[2] = ['AC','AG','AT'] \n",
    "motif_dic[3] = ['ACC','AGG','AGC','CCG','AAG','AAC','ATC','AAT'] \n",
    "motif_dic[4] = ['AAGG','AAAT','ATCC','AATC','AAAC','AATG','ACAT','AGAT','AAAG'] \n",
    "\n",
    "mut_setting = {}\n",
    "mut_setting['AC'] = 'e'\n",
    "mut_setting['AG'] = 'e'\n",
    "mut_setting['AT'] = 'd'\n",
    "for mot in motif_dic[3]:\n",
    "    mut_setting[mot] = 'e'\n",
    "for mot in ['AAAG', 'AAGG', 'AGAT']:\n",
    "    mut_setting[mot] = 'b'\n",
    "for mot in ['ACAT', 'AAAT']:\n",
    "    mut_setting[mot] = 'c'\n",
    "for mot in ['AATC', 'AATG', 'ATCC', 'AAAC']:\n",
    "    mut_setting[mot] = 'd'\n",
    "\n",
    "burden_by_class = {}\n",
    "\n",
    "# Exclude KS score <= 50\n",
    "exclusion_file = open('Exclude_KS_Score.txt', 'r') \n",
    "exclusion_list = []\n",
    "for line in exclusion_file:\n",
    "    info = line.strip().split('\\t')\n",
    "    optimal_allele = int(info[0])\n",
    "    motif = info[1]\n",
    "    exclusion_list.append((optimal_allele, motif))\n",
    "exclusion_file.close()\n",
    "\n",
    "for line1, line2 in zip(sistr_scores_file, sample_info_file):\n",
    "    \n",
    "    # Get information from line - joint scores file\n",
    "    info = line1.strip().split('\\t')\n",
    "    chrom = info[0]\n",
    "    start = int(info[1])\n",
    "    per = int(info[2])\n",
    "    opt_allele = int(info[3])\n",
    "    motif = info[4]\n",
    "        \n",
    "    # Get information about genotypes\n",
    "    info = line2.strip().split('\\t')\n",
    "    chromosome = info[0]\n",
    "    pos = int(info[1])\n",
    "    if chromosome != chrom or start != pos:\n",
    "        print('Does not match')\n",
    "        print((chrom, chromosome))\n",
    "        print((start, pos))\n",
    "    geno1 = int(info[2])\n",
    "    geno2 = int(info[3])\n",
    "        \n",
    "    if geno1 != 0 and geno2 != 0 and (opt_allele,motif) not in exclusion_list:\n",
    "            \n",
    "        count_variant_alleles = 0\n",
    "        count_loci = count_loci + 1\n",
    "        diff1 = geno1 - opt_allele\n",
    "        diff2 = geno2 - opt_allele\n",
    "            \n",
    "        # Calculate burden\n",
    "\n",
    "        if (per, opt_allele, motif) in joint_results:\n",
    "                \n",
    "            # Joint scores\n",
    "            s_val1 = 0\n",
    "            s_val2 = 0\n",
    "            \n",
    "            a = joint_results[(per, opt_allele, motif)][0]\n",
    "            b = joint_results[(per, opt_allele, motif)][1]\n",
    "           \n",
    "            # Get allele frequency dictionary (dic_freqs) from ABC lookup table\n",
    "            setting = mut_setting[motif]\n",
    "            dic_freqs = ABC_tables[(per,opt_allele,setting)]\n",
    "            \n",
    "            # Get inherited s values\n",
    "            s_val1 = getInheriteds(dic_freqs, diff1, a, b)\n",
    "            s_val2 = getInheriteds(dic_freqs, diff2, a, b)\n",
    "            \n",
    "            # Calculate burdens    \n",
    "            burden1 = abs(diff1*s_val1)\n",
    "            burden2 = abs(diff2*s_val2)\n",
    "            if burden1 > 1:\n",
    "                burden1 = 1\n",
    "            if burden2 > 1:\n",
    "                burden2 = 1\n",
    "                \n",
    "            if diff1 != 0:\n",
    "                # See getInheriteds function for explanation of these numbers\n",
    "                if s_val1 > 2:\n",
    "                    if s_val1 == 999999:\n",
    "                        num_not_exist = num_not_exist + 1\n",
    "                    if s_val1 == 9999999:\n",
    "                        num_not_found = num_not_found + 1\n",
    "                    burden1 = 0\n",
    "                    \n",
    "                diff_list.append(diff1)\n",
    "                motif_list.append(motif)\n",
    "                opt_allele_list.append(opt_allele)\n",
    "                count_variant_alleles = count_variant_alleles + 1\n",
    "                if burden1 < 10**-5:\n",
    "                    burden1 = 0\n",
    "                burden_list_joint.append(burden1)\n",
    "                \n",
    "            if diff2 != 0:\n",
    "                if s_val2 > 2:\n",
    "                    if s_val2 == 999999:\n",
    "                        num_not_exist = num_not_exist + 1\n",
    "                    if s_val2 == 9999999:\n",
    "                        num_not_found = num_not_found + 1\n",
    "                    burden2 = 0\n",
    "                    \n",
    "                diff_list.append(diff2)\n",
    "                motif_list.append(motif)\n",
    "                opt_allele_list.append(opt_allele)\n",
    "                count_variant_alleles = count_variant_alleles + 1\n",
    "                if burden2 < 10**-5:\n",
    "                    burden2 = 0\n",
    "                burden_list_joint.append(burden2)\n",
    "                    \n",
    "            # Add information to burden_by_class dictionary\n",
    "            if (motif, opt_allele) not in burden_by_class:\n",
    "                burden_by_class[(motif, opt_allele)] = [2, count_variant_alleles, burden1 + burden2]\n",
    "                    \n",
    "            else:\n",
    "                burden_by_class[(motif, opt_allele)][0] = burden_by_class[(motif, opt_allele)][0] + 2\n",
    "                burden_by_class[(motif, opt_allele)][1] = burden_by_class[(motif, opt_allele)][1] + count_variant_alleles\n",
    "                burden_by_class[(motif, opt_allele)][2] = burden_by_class[(motif,opt_allele)][2] + burden1 + burden2\n",
    "                \n",
    "sistr_scores_file.close()\n",
    "sample_info_file.close()\n",
    "\n",
    "print(\"%s STR Reduction in Fitness\" %(sample))\n",
    "print(\"Standing variation burden = %.2f (Calculated from %d alleles)\" %(np.sum(burden_list_joint), len(burden_list_joint)))\n",
    "print(\"Total number of alleles: %d\" %(count_loci*2))\n",
    "\n",
    "\n",
    "# Write burden results to file\n",
    "results_file = open('./inherited_burden/'+sample+\"_inherited_burden_041522.txt\",\"w\")\n",
    "results_file.write(\"Variation from optimal allele\" + \"\\t\" + \"Inherited burden\" + \"\\t\" + \"Motif\" + \"\\t\" + \"Optimal allele\" + \"\\n\")\n",
    "for i in range(0, len(burden_list_joint)):\n",
    "    results_file.write(str(diff_list[i])+\"\\t\"+str(burden_list_joint[i])+\"\\t\"+str(motif_list[i])+\"\\t\"+str(opt_allele_list[i])+\"\\n\")\n",
    "results_file.close()\n",
    "\n",
    "\n",
    "# Write results by class to file\n",
    "results_file = open('./inherited_burden/'+sample+\"_burden_by_class_041522.txt\",\"w\")\n",
    "\n",
    "results_file.write(\"Motif\" + \"\\t\" + \"Optimal_allele\" + \"\\t\" + \"Total_num_alleles\" + \"\\t\" + \"Num_variant_alleles\" + \"\\t\" + \"Burden\" + \"\\n\")\n",
    "for str_class in burden_by_class:\n",
    "    results_file.write(str(str_class[0])+\"\\t\"+str(str_class[1])+\"\\t\"+str(burden_by_class[str_class][0])+\"\\t\"+str(burden_by_class[str_class][1])+\"\\t\"+str(burden_by_class[str_class][2])+\"\\n\")\n",
    "results_file.close()"
   ]
  },
  {
   "cell_type": "code",
   "execution_count": 8,
   "metadata": {},
   "outputs": [
    {
     "name": "stdout",
     "output_type": "stream",
     "text": [
      "120\n",
      "114\n"
     ]
    }
   ],
   "source": [
    "print(num_not_exist)\n",
    "print(num_not_found)"
   ]
  },
  {
   "cell_type": "code",
   "execution_count": 9,
   "metadata": {},
   "outputs": [
    {
     "data": {
      "text/plain": [
       "Text(0.5, 1.0, 'NA10845 \\n Number of alleles with variation: 21526/53468')"
      ]
     },
     "execution_count": 9,
     "metadata": {},
     "output_type": "execute_result"
    },
    {
     "data": {
      "image/png": "[encoded data removed]",
      "text/plain": [
       "<Figure size 432x288 with 1 Axes>"
      ]
     },
     "metadata": {
      "needs_background": "light"
     },
     "output_type": "display_data"
    }
   ],
   "source": [
    "plt.hist(diff_list, color='black', bins = np.arange(-20,20,1), weights = np.ones_like(diff_list)/len(diff_list))\n",
    "plt.xlabel('Size of variation (No. of repeat units away from optimal allele)')\n",
    "plt.ylabel('Fraction of STR variation')\n",
    "plt.title('%s \\n Number of alleles with variation: %d/%d'%(sample, len(diff_list), count_loci*2))\n",
    "#print(diff_list)"
   ]
  },
  {
   "cell_type": "code",
   "execution_count": 10,
   "metadata": {},
   "outputs": [
    {
     "data": {
      "text/plain": [
       "Text(0.5, 1.0, 'Joint additive fitness value versus number of simulations performed')"
      ]
     },
     "execution_count": 10,
     "metadata": {},
     "output_type": "execute_result"
    },
    {
     "data": {
      "image/png": "[encoded data removed]",
      "text/plain": [
       "<Figure size 432x288 with 1 Axes>"
      ]
     },
     "metadata": {
      "needs_background": "light"
     },
     "output_type": "display_data"
    }
   ],
   "source": [
    "xAxis = [1,2,3,5,10,50,100,200,400,1000,2000]\n",
    "yAxis = [13.06,11.81,11.58,10.89,9.74,9.09,8.86,8.75,8.89,8.64,8.85]\n",
    "plt.plot(xAxis,yAxis)\n",
    "plt.xlabel('Number of simulations performed')\n",
    "plt.ylabel('Joint additive fitness value')\n",
    "plt.title('Joint additive fitness value versus number of simulations performed')"
   ]
  }
 ],
 "metadata": {
  "kernelspec": {
   "display_name": "Python 3",
   "language": "python",
   "name": "python3"
  },
  "language_info": {
   "codemirror_mode": {
    "name": "ipython",
    "version": 3
   },
   "file_extension": ".py",
   "mimetype": "text/x-python",
   "name": "python",
   "nbconvert_exporter": "python",
   "pygments_lexer": "ipython3",
   "version": "3.7.4"
  }
 },
 "nbformat": 4,
 "nbformat_minor": 2
}
