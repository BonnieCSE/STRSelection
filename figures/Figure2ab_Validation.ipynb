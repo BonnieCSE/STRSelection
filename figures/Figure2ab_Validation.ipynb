{
 "cells": [
  {
   "cell_type": "code",
   "execution_count": 1,
   "metadata": {},
   "outputs": [
    {
     "name": "stdout",
     "output_type": "stream",
     "text": [
      "Populating the interactive namespace from numpy and matplotlib\n"
     ]
    }
   ],
   "source": [
    "'''Figure 2a and 2b: \n",
    "Validating the per-locus method (ABC and LRT) for all periods using simulated data'''\n",
    "\n",
    "%pylab inline\n",
    "import sys\n",
    "sys.path.append(\"/storage/BonnieH/selection_project/helper_functions\")\n",
    "from Per_locus_validation_functions import *\n",
    "import matplotlib\n",
    "matplotlib.rcParams['pdf.fonttype'] = 42\n",
    "matplotlib.rcParams['ps.fonttype'] = 42\n",
    "from matplotlib import pyplot as plt\n",
    "PLOTDIR = '/storage/BonnieH/selection_project/figures/figures/fig2_new_pvals/'"
   ]
  },
  {
   "cell_type": "code",
   "execution_count": 2,
   "metadata": {},
   "outputs": [],
   "source": [
    "# Function to plot validation figures\n",
    "def plot_figure(fig_num, opt_allele_list, est_s_dic, errors, s_vals, use_het, use_common, use_bins, num_bins, eps_bins, model, graph_type):\n",
    "    \n",
    "    plt.figure(fig_num)\n",
    "    for opt_allele in opt_allele_list:\n",
    "        per = 2\n",
    "        if opt_allele == 6 or opt_allele == 12:\n",
    "            per = 3\n",
    "        if opt_allele == 7 or opt_allele == 10:\n",
    "            per = 4\n",
    "        if len(opt_allele_list) == 1:\n",
    "            plt.errorbar(s_vals, est_s_dic[opt_allele], marker = 'o', label = str(opt_allele), yerr = errors[opt_allele])\n",
    "            \n",
    "        else:\n",
    "            plt.errorbar(s_vals, est_s_dic[opt_allele], marker = 'o', label = 'Period: %d Opt allele: %d'%(per, opt_allele))\n",
    "    \n",
    "    if graph_type == 'abc':\n",
    "        plt.plot( [10**-6,0.2],[10**-6,0.2] )\n",
    "        plt.ylabel(\"Posterior estimation of s\", size=15) \n",
    "        titlename = 'ABC Validation' \n",
    "        filename = PLOTDIR + 'ABC' \n",
    "        plt.yscale('log')\n",
    "        \n",
    "    if graph_type == 'lrt':\n",
    "        plt.ylabel(\"Power\", size=15) \n",
    "        titlename = 'LRT Validation'\n",
    "        filename = PLOTDIR + 'LRT' \n",
    "    \n",
    "    plt.xlabel(\"S value used for simulation\", size=15)\n",
    "    plt.xscale('log')\n",
    "    plt.xlim(10**-6.5,0.3)\n",
    "    plt.legend()\n",
    "   \n",
    "    opt_allele_string = '_'\n",
    "    for opt_allele in opt_allele_list:\n",
    "        opt_allele_string = opt_allele_string + str(opt_allele)\n",
    "    filename = filename + opt_allele_string\n",
    "    titlename = titlename + '\\nSummary statistics used: '\n",
    "    if use_het == 'y':\n",
    "        filename = filename + '_het'\n",
    "        titlename = titlename + 'Heterozygosity '\n",
    "    if use_common == 'y':\n",
    "        filename = filename + '_common'\n",
    "        titlename = titlename + 'Number_Common_Alleles '\n",
    "    if use_bins == 'y':\n",
    "        filename = filename + '_' + str(num_bins) + 'bins' + '_' + str(eps_bins) \n",
    "        titlename = titlename + str(num_bins) + '_Allele_Bins '\n",
    "    \n",
    "    filename = filename + '_' + model + '.pdf' \n",
    "    titlename = titlename +  '\\n'+ model \n",
    "    plt.title(titlename, size=15)\n",
    "    plt.savefig(filename, bbox_inches='tight')\n",
    "    print('Done figure ' + str(fig_num))"
   ]
  },
  {
   "cell_type": "code",
   "execution_count": 3,
   "metadata": {},
   "outputs": [],
   "source": [
    "# Function to validate ABC and LRT\n",
    "def validate(s_vals, use_het, use_common, use_bins, num_bins, abc_model, lrt_model, fig_num):\n",
    "    \n",
    "    per = 2 # Dummy variable\n",
    "    opt_allele = '11,20,6,12,7,10' #'20,12,10'\n",
    "    opt_allele_list, s_vals_dic, errors_s_dic, s_vals, p_vals_dic, errors_p_dic, eps_bins, LogLR_vals_dic = validate_per_locus(per, \\\n",
    "    opt_allele, s_vals, use_het, use_common, use_bins, num_bins, abc_model, lrt_model, True)\n",
    "          \n",
    "    # Plot ABC and LRT validation graphs\n",
    "    fig_num = fig_num + 1\n",
    "    plot_figure(fig_num, opt_allele_list, s_vals_dic, errors_s_dic, s_vals, use_het, use_common, use_bins, num_bins, eps_bins, abc_model, 'abc')\n",
    "    fig_num = fig_num + 1\n",
    "    plot_figure(fig_num, opt_allele_list, p_vals_dic, errors_p_dic, s_vals, use_het, use_common, use_bins, num_bins, eps_bins, lrt_model, 'lrt')\n",
    "    return fig_num"
   ]
  },
  {
   "cell_type": "code",
   "execution_count": 4,
   "metadata": {},
   "outputs": [],
   "source": [
    "def main():\n",
    "    print('Running main')\n",
    "    \n",
    "    s_vals = '0.000001,0.00001,0.0001,0.0004,0.0007,0.001,0.004,0.007,0.01,0.04,0.07,0.1,0.15,0.2' # S values to validate\n",
    "    #s_vals = '0.0001,0.001,0.01'\n",
    "    \n",
    "    # Summary statistics to use\n",
    "    use_het = 'y'\n",
    "    use_common = 'n'\n",
    "    use_bin = 'y'\n",
    "    \n",
    "    #num_bins_list = [3,5,7] # Number of bins to use for validation\n",
    "    num_bins = 5\n",
    "    \n",
    "    model = ('eurodem_p2','eurodem_upd')\n",
    "    fig_num = 0\n",
    "    \n",
    "    # Run validation\n",
    "    fig_num = validate(s_vals, use_het, use_common, use_bin, num_bins, model[0], model[1], fig_num)"
   ]
  },
  {
   "cell_type": "code",
   "execution_count": null,
   "metadata": {
    "scrolled": true
   },
   "outputs": [
    {
     "name": "stdout",
     "output_type": "stream",
     "text": [
      "Running main\n",
      "Running per: 2 optimal allele: 11\n"
     ]
    }
   ],
   "source": [
    "%%time\n",
    "if __name__ == '__main__':\n",
    "    main()"
   ]
  }
 ],
 "metadata": {
  "kernelspec": {
   "display_name": "Python 3",
   "language": "python",
   "name": "python3"
  },
  "language_info": {
   "codemirror_mode": {
    "name": "ipython",
    "version": 3
   },
   "file_extension": ".py",
   "mimetype": "text/x-python",
   "name": "python",
   "nbconvert_exporter": "python",
   "pygments_lexer": "ipython3",
   "version": "3.7.4"
  }
 },
 "nbformat": 4,
 "nbformat_minor": 2
}
