{
 "cells": [
  {
   "cell_type": "markdown",
   "metadata": {},
   "source": [
    "Notebook to count number of loci in different functional categories"
   ]
  },
  {
   "cell_type": "code",
   "execution_count": 6,
   "metadata": {},
   "outputs": [
    {
     "name": "stdout",
     "output_type": "stream",
     "text": [
      "Coding: 745\n",
      "Intron: 6718\n",
      "UTR 5: 541\n",
      "UTR 3: 805\n",
      "Promoter: 756\n",
      "Intergenic: 81990\n",
      "Intron2: 2549\n",
      "Intron3: 3083\n",
      "Intron4: 1086\n"
     ]
    }
   ],
   "source": [
    "inFile = '/storage/BonnieH/selection_project/ssc_files/0810/allele_freqs_filt.txt'\n",
    "\n",
    "allele_freqs_file = open(inFile, 'r')\n",
    "num_coding = 0\n",
    "num_intron = 0\n",
    "num_utr5 = 0\n",
    "num_utr3 = 0\n",
    "num_promoter = 0\n",
    "num_intergenic = 0\n",
    "\n",
    "num_intron2 = 0\n",
    "num_intron3 = 0\n",
    "num_intron4 = 0\n",
    "\n",
    "for line in allele_freqs_file:\n",
    "    \n",
    "    # Get information from line\n",
    "    info = line.strip().split('\\t')\n",
    "    \n",
    "    if info[7] == '1.0':\n",
    "        num_coding = num_coding + 1\n",
    "    if info[8] == '1.0':\n",
    "        num_intron = num_intron + 1\n",
    "        if info[5] == '2':\n",
    "            num_intron2 = num_intron2 + 1\n",
    "        if info[5] == '3':\n",
    "            num_intron3 = num_intron3 + 1\n",
    "        if info[5] == '4':\n",
    "            num_intron4 = num_intron4 + 1\n",
    "    if info[9] == '1.0':\n",
    "        num_utr5 = num_utr5 + 1\n",
    "    if info[10] == '1.0':\n",
    "        num_utr3 = num_utr3 + 1\n",
    "    if info[11] == '1.0':\n",
    "        num_promoter = num_promoter + 1\n",
    "    if info[12] == '1.0':\n",
    "        num_intergenic = num_intergenic + 1\n",
    "allele_freqs_file.close()\n",
    "print('Coding: ' + str(num_coding))\n",
    "print('Intron: ' + str(num_intron))\n",
    "print('UTR 5: ' + str(num_utr5))\n",
    "print('UTR 3: ' + str(num_utr3))\n",
    "print('Promoter: ' + str(num_promoter))\n",
    "print('Intergenic: ' + str(num_intergenic))\n",
    "print('Intron2: ' + str(num_intron2))\n",
    "print('Intron3: ' + str(num_intron3))\n",
    "print('Intron4: ' + str(num_intron4))"
   ]
  }
 ],
 "metadata": {
  "kernelspec": {
   "display_name": "Python 3",
   "language": "python",
   "name": "python3"
  },
  "language_info": {
   "codemirror_mode": {
    "name": "ipython",
    "version": 3
   },
   "file_extension": ".py",
   "mimetype": "text/x-python",
   "name": "python",
   "nbconvert_exporter": "python",
   "pygments_lexer": "ipython3",
   "version": "3.7.4"
  }
 },
 "nbformat": 4,
 "nbformat_minor": 2
}
