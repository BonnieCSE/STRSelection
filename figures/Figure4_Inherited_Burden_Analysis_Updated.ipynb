{
 "cells": [
  {
   "cell_type": "markdown",
   "metadata": {},
   "source": [
    "This notebook contains code to calculate the burden of deleterious variation from inherited STRs"
   ]
  },
  {
   "cell_type": "code",
   "execution_count": 168,
   "metadata": {},
   "outputs": [
    {
     "name": "stdout",
     "output_type": "stream",
     "text": [
      "Populating the interactive namespace from numpy and matplotlib\n"
     ]
    }
   ],
   "source": [
    "%pylab inline\n",
    "\n",
    "import matplotlib\n",
    "matplotlib.rcParams['pdf.fonttype'] = 42\n",
    "matplotlib.rcParams['ps.fonttype'] = 42\n",
    "from matplotlib import pyplot as plt\n",
    "import sys\n",
    "sys.path.append(\"/storage/BonnieH/selection_project/joint_method\")\n",
    "from Joint_method_functions import *"
   ]
  },
  {
   "cell_type": "code",
   "execution_count": 169,
   "metadata": {},
   "outputs": [
    {
     "data": {
      "text/plain": [
       "'\\nbcftools view --regions-file /storage/BonnieH/selection_project/1000genomes/euro_allele_freqs/1kg_with_sistr2_scores.txt /storage/BonnieH/selection_project/1000genomes/euro_allele_freqs/EUR_sans_FIN_filtered.vcf.gz | bgzip -c > /storage/BonnieH/selection_project/1000genomes/euro_allele_freqs/EUR_sans_FIN_filtered_w_sistr2_scores.vcf.gz\\n'"
      ]
     },
     "execution_count": 169,
     "metadata": {},
     "output_type": "execute_result"
    }
   ],
   "source": [
    "# See /storage/BonnieH/selection_project/1000genomes/euro_allele_freqs/Generate_sample_info_txt.py for\n",
    "# script extracting a sample's genotype information from the merged VCF \"EUR_sans_FIN_filtered_w_sistr2_scores.vcf.gz\" \n",
    "# that contains information regarding all samples\n",
    "\n",
    "# Perform the following command to obtain genotypes for each STR for a given individual (only keep STRs with SISTR2 scores)\n",
    "# Example command for individual NA12864\n",
    "'''\n",
    "awk 'NR==FNR{c[$1\"a\"$2]++;next};c[$1\"a\"$2] > 0 {print $1\"\\t\"$2\"\\t\"$3\"\\t\"$4}' /storage/BonnieH/selection_project/1000genomes/euro_allele_freqs/1kg_allele_freqs_with_sistr2_scores_no_chr.txt /storage/BonnieH/selection_project/1000genomes/euro_allele_freqs/NA12864.txt > /storage/BonnieH/selection_project/1000genomes/euro_allele_freqs/NA12864_filtered.txt\n",
    "\n",
    "'''\n",
    "\n",
    "# Note - The file /storage/BonnieH/selection_project/1000genomes/euro_allele_freqs/EUR_sans_FIN_filtered_w_sistr2_scores.vcf.gz was obtained using the command: \n",
    "'''\n",
    "bcftools view --regions-file /storage/BonnieH/selection_project/1000genomes/euro_allele_freqs/1kg_with_sistr2_scores.txt /storage/BonnieH/selection_project/1000genomes/euro_allele_freqs/EUR_sans_FIN_filtered.vcf.gz | bgzip -c > /storage/BonnieH/selection_project/1000genomes/euro_allele_freqs/EUR_sans_FIN_filtered_w_sistr2_scores.vcf.gz\n",
    "'''"
   ]
  },
  {
   "cell_type": "code",
   "execution_count": 170,
   "metadata": {},
   "outputs": [
    {
     "name": "stdout",
     "output_type": "stream",
     "text": [
      "{(2, 11, 'AT'): (0.6296529, 6.14e-05), (2, 12, 'AT'): (0.5882184, 3.17e-05), (2, 13, 'AT'): (0.2487026, 0.0002044), (2, 14, 'AT'): (0.8952737, 8.26e-05), (2, 15, 'AT'): (0.2537753, 8.02e-05), (2, 16, 'AT'): (0.8121238, 9.35e-05), (2, 17, 'AT'): (0.6352325, 7.09e-05), (2, 18, 'AT'): (0.0845467, 0.0002004), (2, 19, 'AT'): (0.9712703, 2.95e-05), (2, 20, 'AT'): (0.57922, 0.0002743), (2, 11, 'AG'): (0.873439, 0.0006798), (2, 12, 'AG'): (0.2238964, 0.002888), (2, 13, 'AG'): (0.4384836, 0.0001898), (2, 14, 'AG'): (0.0787858, 0.0053019), (2, 15, 'AG'): (0.0185307, 0.0008074), (2, 16, 'AG'): (0.2738581, 4.82e-05), (2, 17, 'AG'): (0.0361351, 0.003711), (2, 18, 'AG'): (0.3141738, 6.34e-05), (2, 19, 'AG'): (0.3057551, 9.16e-05), (2, 20, 'AG'): (0.5150636, 9.6e-05), (2, 11, 'AC'): (0.0935982, 0.0013493), (2, 12, 'AC'): (0.0704712, 0.0002003), (2, 13, 'AC'): (0.3592225, 0.0001424), (2, 14, 'AC'): (0.8744295, 6.03e-05), (2, 15, 'AC'): (0.8798988, 0.0002187), (2, 16, 'AC'): (0.2907548, 0.0004035), (2, 17, 'AC'): (0.5489162, 0.0009797), (2, 18, 'AC'): (0.7958652, 0.0009854), (2, 19, 'AC'): (0.9316609, 0.0012709), (2, 20, 'AC'): (0.6323601, 0.0018445), (3, 5, 'AAT'): (0.2553679, 0.000992), (3, 6, 'AAT'): (0.1552386, 3.46e-05), (3, 7, 'AAT'): (0.6152514, 5.9e-06), (3, 8, 'AAT'): (0.1018927, 1.57e-05), (3, 9, 'AAT'): (0.3745966, 1.99e-05), (3, 10, 'AAT'): (0.0136259, 0.0008006), (3, 11, 'AAT'): (0.2619924, 6.94e-05), (3, 12, 'AAT'): (0.5183104, 0.0001185), (3, 13, 'AAT'): (0.6960672, 0.0001463), (3, 5, 'ATC'): (0.1665666, 0.0025705), (3, 6, 'ATC'): (0.9467983, 0.0002003), (3, 7, 'ATC'): (0.8714842, 9.8e-06), (3, 8, 'ATC'): (0.5860225, 9.7e-06), (3, 9, 'ATC'): (0.219828, 6.03e-05), (3, 10, 'ATC'): (0.8285074, 4.39e-05), (3, 11, 'ATC'): (0.7897332, 2.42e-05), (3, 12, 'ATC'): (0.6242953, 6.65e-05), (3, 13, 'ATC'): (0.2327445, 0.0003691), (3, 5, 'AAG'): (0.7260783, 8.7e-06), (3, 6, 'AAG'): (0.2388748, 2.45e-05), (3, 7, 'AAG'): (0.2791274, 4.03e-05), (3, 8, 'AAG'): (0.4231961, 1.33e-05), (3, 9, 'AAG'): (0.2649115, 6.41e-05), (3, 10, 'AAG'): (0.9132213, 2.76e-05), (3, 11, 'AAG'): (0.9965875, 2.49e-05), (3, 12, 'AAG'): (0.830085, 3.63e-05), (3, 13, 'AAG'): (0.4179946, 0.0001871), (3, 5, 'AGG'): (0.4294712, 0.0008544), (3, 6, 'AGG'): (0.7968405, 2.85e-05), (3, 7, 'AGG'): (0.1805675, 9.33e-05), (3, 8, 'AGG'): (0.5521041, 1.74e-05), (3, 9, 'AGG'): (0.0459333, 0.0005946), (3, 10, 'AGG'): (0.4845828, 5.85e-05), (3, 11, 'AGG'): (0.0598948, 0.0004656), (3, 12, 'AGG'): (0.4623202, 9.99e-05), (3, 13, 'AGG'): (0.9412388, 5.35e-05), (3, 5, 'AGC'): (0.4260202, 0.0036433), (3, 6, 'AGC'): (0.6016253, 0.000133), (3, 7, 'AGC'): (0.5331706, 3.21e-05), (3, 8, 'AGC'): (0.376943, 5.96e-05), (3, 9, 'AGC'): (0.4473961, 3.65e-05), (3, 10, 'AGC'): (0.0518036, 0.0004113), (3, 11, 'AGC'): (0.040708, 0.0008292), (3, 12, 'AGC'): (0.1805084, 0.0008048), (3, 13, 'AGC'): (0.8849727, 5.22e-05), (3, 5, 'CCG'): (0.0710863, 0.0001606), (3, 6, 'CCG'): (0.1100685, 0.0001191), (3, 7, 'CCG'): (0.2148111, 5.84e-05), (3, 8, 'CCG'): (0.5508928, 8.4e-06), (3, 9, 'CCG'): (0.7377075, 2.99e-05), (3, 10, 'CCG'): (0.7949953, 3.16e-05), (3, 11, 'CCG'): (0.2044109, 9.88e-05), (3, 12, 'CCG'): (0.117589, 0.0002614), (3, 13, 'CCG'): (0.5008946, 0.0002125), (3, 5, 'AAC'): (0.0753629, 5.08e-05), (3, 6, 'AAC'): (0.2002267, 2.29e-05), (3, 7, 'AAC'): (0.2307079, 1.82e-05), (3, 8, 'AAC'): (0.9278126, 1.6e-06), (3, 9, 'AAC'): (0.2663778, 2.6e-05), (3, 10, 'AAC'): (0.0703417, 0.0001513), (3, 11, 'AAC'): (0.4275616, 3.75e-05), (3, 12, 'AAC'): (0.8433013, 5.28e-05), (3, 13, 'AAC'): (0.9419772, 7.22e-05), (3, 5, 'ACC'): (0.3937371, 0.0028017), (3, 6, 'ACC'): (0.4807701, 0.0001915), (3, 7, 'ACC'): (0.1701256, 0.0013575), (3, 8, 'ACC'): (0.6367095, 0.0004675), (3, 9, 'ACC'): (0.2043599, 0.0003713), (3, 10, 'ACC'): (0.9174541, 6.65e-05), (3, 11, 'ACC'): (0.4021732, 7.87e-05), (3, 12, 'ACC'): (0.4831496, 0.0004585), (3, 13, 'ACC'): (0.5456405, 0.0002575), (4, 7, 'AAAT'): (0.088701, 0.0484698), (4, 8, 'AAAT'): (0.123357, 0.000554), (4, 9, 'AAAT'): (0.9362909, 0.0037762), (4, 10, 'AAAT'): (0.9865929, 0.0038044), (4, 7, 'AATC'): (0.3577275, 0.00402), (4, 8, 'AATC'): (0.1635449, 0.0013926), (4, 9, 'AATC'): (0.0371904, 0.0040048), (4, 10, 'AATC'): (0.8566225, 0.000182), (4, 7, 'AATG'): (0.0867726, 0.03681), (4, 8, 'AATG'): (0.6331391, 0.0002601), (4, 9, 'AATG'): (0.4200603, 0.0032035), (4, 10, 'AATG'): (0.8977835, 0.0031242), (4, 7, 'ATCC'): (0.3392852, 0.0037502), (4, 8, 'ATCC'): (0.8577627, 1.65e-05), (4, 9, 'ATCC'): (0.3090306, 0.0023841), (4, 10, 'ATCC'): (0.5565808, 0.0106029), (4, 7, 'AAAG'): (0.4564576, 5.97e-05), (4, 8, 'AAAG'): (0.4992683, 6.94e-05), (4, 9, 'AAAG'): (0.1903924, 0.0001995), (4, 10, 'AAAG'): (0.5850706, 4.93e-05), (4, 7, 'AAGG'): (0.1417358, 0.003364), (4, 8, 'AAGG'): (0.9634375, 2.54e-05), (4, 9, 'AAGG'): (0.3769388, 8.33e-05), (4, 10, 'AAGG'): (0.9035054, 3.43e-05), (4, 7, 'AGAT'): (0.8288602, 1.07e-05), (4, 8, 'AGAT'): (0.6844308, 7.24e-05), (4, 9, 'AGAT'): (0.5915091, 0.0001055), (4, 10, 'AGAT'): (0.9766614, 8.24e-05), (4, 7, 'AAAC'): (0.1512014, 0.0050953), (4, 8, 'AAAC'): (0.9544271, 0.0004059), (4, 9, 'AAAC'): (0.7698232, 0.0014165), (4, 10, 'AAAC'): (0.8938824, 0.0024388), (4, 7, 'ACAT'): (0.1562093, 0.0304565), (4, 8, 'ACAT'): (0.1779728, 0.0035083), (4, 9, 'ACAT'): (0.7236019, 0.0054058), (4, 10, 'ACAT'): (0.9958601, 0.0024748)}\n"
     ]
    }
   ],
   "source": [
    "# Read in joint results\n",
    "joint_results = {}\n",
    "sistr2_scores_file = open('/storage/BonnieH/selection_project/analysis/SISTR2_scores_by_motif.txt', 'r')\n",
    "sistr2_scores_file.readline()\n",
    "for line in sistr2_scores_file:\n",
    "    info = line.strip().split('\\t')\n",
    "    period = int(info[0])\n",
    "    optimal_ru = int(info[1])\n",
    "    motif = info[2]\n",
    "    est_a = float(info[4])\n",
    "    est_b = float(info[5])\n",
    "    joint_results[(period,optimal_ru,motif)] = (est_a,est_b)\n",
    "print(joint_results)\n",
    "sistr2_scores_file.close()"
   ]
  },
  {
   "cell_type": "code",
   "execution_count": 171,
   "metadata": {},
   "outputs": [],
   "source": [
    "# Given a file with simulation results, return a dictionary where the key is the rounded s value and the value is a \n",
    "# list of [s, allele_freqs] pairs\n",
    "def getAlleleFreqsTable(abcFile):\n",
    "    abc_file = open(abcFile, 'r')\n",
    "    header = abc_file.readline().strip().split('\\t')\n",
    "    \n",
    "    # Find column in file that has allele freqs\n",
    "    freqs_column = 0\n",
    "    \n",
    "    # Dictionary of allele freqs\n",
    "    dic = {}\n",
    "    for i in range(0, len(header)):\n",
    "        if header[i] == 'freqs':\n",
    "            freqs_column = i\n",
    "\n",
    "    for line in abc_file:\n",
    "        info = line.strip().split('\\t')\n",
    "        s = float(info[0])\n",
    "        freq_string = info[freqs_column]\n",
    "        allele_freqs = [float(freq) for freq in freq_string.split(',')]\n",
    "        #print(allele_freqs)\n",
    "        s_round = get_LRT_bin(s)\n",
    "        if s_round not in dic:\n",
    "            dic[s_round] = []\n",
    "        dic[s_round].append([s, allele_freqs])\n",
    "        \n",
    "    return dic"
   ]
  },
  {
   "cell_type": "code",
   "execution_count": 172,
   "metadata": {},
   "outputs": [
    {
     "name": "stdout",
     "output_type": "stream",
     "text": [
      "CPU times: user 20.8 s, sys: 1.26 s, total: 22 s\n",
      "Wall time: 22.7 s\n"
     ]
    }
   ],
   "source": [
    "%%time\n",
    "# Preprocess ABC lookup table\n",
    "# Get ABC tables\n",
    "ABC_tables = {}\n",
    "    \n",
    "mut_setting_folder_name = {}\n",
    "mut_setting_folder_name[2] = 'eurodem_prior2_dinuc_'\n",
    "mut_setting_folder_name[3] = 'eurodem_prior2_trinuc_'\n",
    "mut_setting_folder_name[4] = 'eurodem_prior2_tetranuc_'\n",
    "    \n",
    "mut_settings = {}\n",
    "mut_settings[2] = ['a','b','c','d','e','f']\n",
    "mut_settings[3] = ['a','b','c','d','e','f','g']\n",
    "mut_settings[4] = ['a','b','c','d','e','f','g']\n",
    "    \n",
    "per_list = [2,3,4]\n",
    "\n",
    "opt_allele_dic = {}\n",
    "opt_allele_dic[2] = [11,12,13,14,15,16,17,18,19,20] \n",
    "opt_allele_dic[3] = [5,6,7,8,9,10,11,12,13] \n",
    "opt_allele_dic[4] = [7,8,9,10] \n",
    "\n",
    "# Go through each period, opt allele, mutation setting combination to create ABC lookup table\n",
    "for per in per_list:\n",
    "\n",
    "    folder_prefix = mut_setting_folder_name[per]\n",
    "        \n",
    "    for mut_setting in mut_settings[per]:\n",
    "        for opt in opt_allele_dic[per]:\n",
    "            file = '/gymreklab-tscc/bonnieh/abc/results/' + folder_prefix + mut_setting + '_1kg_euro/' + str(per) + '_' + str(opt) + '.txt'\n",
    "\n",
    "            ABC_tables[(per,opt,mut_setting)] = getAlleleFreqsTable(file)"
   ]
  },
  {
   "cell_type": "code",
   "execution_count": 173,
   "metadata": {},
   "outputs": [],
   "source": [
    "# Get the inherited s value given list of allele freqs for different s, the difference from the optimal allele, \n",
    "# and the (a, b) parameters of the gamma distribution from which s is drawn\n",
    "def getInheriteds(list_freqs, diff, a, b):\n",
    "    \n",
    "    # Note: We are returning two numbers\n",
    "    # First number is the s value\n",
    "    # The second number is the number of allele frequencies that are drawn before finding one where the variant\n",
    "    # is simulated\n",
    "    # When the difference from the optimal allele is 0, we arbitrarily return -2 as the second number\n",
    "    # When the difference from the optimal allele is >12 or <-12, we arbitrarily return -5 as the second number\n",
    "    # When we draw/simulate 20000 freqs and still do not simulate the variant, we arbitrarily return 1000000 as the second number\n",
    "    if diff == 0:\n",
    "        return 0, -2\n",
    "    if diff > 12 or diff < -12:\n",
    "        return 0, -5\n",
    "    \n",
    "    for i in range(0, 20000):\n",
    "        s_val = np.random.gamma(a, b)\n",
    "        if s_val > 1:\n",
    "            s_val = 1\n",
    "                \n",
    "        s_round = get_LRT_bin(s_val)\n",
    "                \n",
    "        # Pick random allele frequency\n",
    "            \n",
    "        freqs_for_s = list_freqs[s_round]\n",
    "        random_freqs = random.choice(freqs_for_s)\n",
    "        \n",
    "        # Note: There are 25 possible alleles in the allele frequency distribution, with the optimal allele in the \n",
    "        # middle of the list. Thus, to get the appropriate variant, we index at diff + 12\n",
    "        if random_freqs[1][diff + 12] > 0:\n",
    "            return s_val, i\n",
    "        \n",
    "    return 0, 1000000"
   ]
  },
  {
   "cell_type": "code",
   "execution_count": 174,
   "metadata": {},
   "outputs": [
    {
     "name": "stdout",
     "output_type": "stream",
     "text": [
      "NA12864 STR Reduction in Fitness\n",
      "Standing variation burden = 45.04 (Calculated from 35620 alleles)\n",
      "Total number of alleles: 147548\n",
      "CPU times: user 44.6 s, sys: 4.17 ms, total: 44.6 s\n",
      "Wall time: 44.6 s\n"
     ]
    }
   ],
   "source": [
    "%%time\n",
    "sample = 'NA12864' # Change sample name based on the sample you would like to analyze\n",
    "\n",
    "# Calculate burden from standing variation using joint scores\n",
    "sample_info_file = open('/storage/BonnieH/selection_project/1000genomes/euro_allele_freqs/' + sample + '_filtered.txt', 'r') \n",
    "\n",
    "# Joint scores\n",
    "sistr_scores_file = open('/storage/BonnieH/selection_project/1000genomes/euro_allele_freqs/1kg_allele_freqs_with_sistr2_scores_no_chr.txt', 'r')\n",
    "\n",
    "# Column headers for above file: chrom, pos, per, optimal allele, motif\n",
    "\n",
    "burden_list_joint = [] # List of burdens\n",
    "diff_list = [] # List of differences between optimal allele and individual's genotype\n",
    "motif_list = []\n",
    "opt_allele_list = []\n",
    "count_loci = 0\n",
    "num_times_list = [] # List of number of allele frequencies drawn before finding variant\n",
    "num_not_found = 0 # Number of variants where when we draw/simulate 20000 freqs and still do not simulate the variant\n",
    "num_not_exist = 0 # Number of variants where the difference from the optimal allele is >12 or <-12\n",
    "\n",
    "motif_dic = {}\n",
    "motif_dic[2] = ['AC','AG','AT'] \n",
    "motif_dic[3] = ['ACC','AGG','AGC','CCG','AAG','AAC','ATC','AAT'] \n",
    "motif_dic[4] = ['AAGG','AAAT','ATCC','AATC','AAAC','AATG','ACAT','AGAT','AAAG'] \n",
    "\n",
    "mut_setting = {}\n",
    "mut_setting['AC'] = 'e'\n",
    "mut_setting['AG'] = 'e'\n",
    "mut_setting['AT'] = 'd'\n",
    "for mot in motif_dic[3]:\n",
    "    mut_setting[mot] = 'e'\n",
    "for mot in ['AAAG', 'AAGG', 'AGAT']:\n",
    "    mut_setting[mot] = 'b'\n",
    "for mot in ['ACAT', 'AAAT']:\n",
    "    mut_setting[mot] = 'c'\n",
    "for mot in ['AATC', 'AATG', 'ATCC', 'AAAC']:\n",
    "    mut_setting[mot] = 'd'\n",
    "\n",
    "burden_by_class = {}\n",
    "\n",
    "for line1, line2 in zip(sistr_scores_file, sample_info_file):\n",
    "    \n",
    "    # Get information from line - joint scores file\n",
    "    info = line1.strip().split('\\t')\n",
    "    chrom = info[0]\n",
    "    start = int(info[1])\n",
    "    per = int(info[2])\n",
    "    opt_allele = int(info[3])\n",
    "    motif = info[4]\n",
    "        \n",
    "    # Get information about genotypes\n",
    "    info = line2.strip().split('\\t')\n",
    "    chromosome = info[0]\n",
    "    pos = int(info[1])\n",
    "    if chromosome != chrom or start != pos:\n",
    "        print('Does not match')\n",
    "        print((chrom, chromosome))\n",
    "        print((start, pos))\n",
    "    geno1 = int(info[2])\n",
    "    geno2 = int(info[3])\n",
    "        \n",
    "    if geno1 != 0 and geno2 != 0:\n",
    "            \n",
    "        count_variant_alleles = 0\n",
    "        count_loci = count_loci + 1\n",
    "        diff1 = geno1 - opt_allele\n",
    "        diff2 = geno2 - opt_allele\n",
    "            \n",
    "        # Calculate burden\n",
    "\n",
    "        if (per, opt_allele, motif) in joint_results:\n",
    "                \n",
    "            # Joint scores\n",
    "            s_val1 = 0\n",
    "            s_val2 = 0\n",
    "            \n",
    "            a = joint_results[(per, opt_allele, motif)][0]\n",
    "            b = joint_results[(per, opt_allele, motif)][1]\n",
    "           \n",
    "            # Get allele frequency dictionary (dic_freqs) from ABC lookup table\n",
    "            setting = mut_setting[motif]\n",
    "            dic_freqs = ABC_tables[(per,opt_allele,setting)]\n",
    "            \n",
    "            # Get inherited s values\n",
    "            s_val1, num_times1 = getInheriteds(dic_freqs, diff1, a, b)\n",
    "            s_val2, num_times2 = getInheriteds(dic_freqs, diff2, a, b)\n",
    "            \n",
    "            # Calculate burdens    \n",
    "            burden1 = abs(diff1*s_val1)\n",
    "            burden2 = abs(diff2*s_val2)\n",
    "            if burden1 > 1:\n",
    "                burden1 = 1\n",
    "            if burden2 > 1:\n",
    "                burden2 = 1\n",
    "                \n",
    "            if diff1 != 0:\n",
    "                # See getInheriteds function for explanation of these numbers\n",
    "                if num_times1 == -5 or num_times1 == 1000000 or num_times1 == -2:\n",
    "                    if num_times1 == -5:\n",
    "                        num_not_exist = num_not_exist + 1\n",
    "                    if num_times1 == 1000000:\n",
    "                        num_not_found = num_not_found + 1\n",
    "                    \n",
    "                else:\n",
    "                    num_times_list.append(num_times1)\n",
    "                    \n",
    "                diff_list.append(diff1)\n",
    "                motif_list.append(motif)\n",
    "                opt_allele_list.append(opt_allele)\n",
    "                count_variant_alleles = count_variant_alleles + 1\n",
    "                if burden1 < 10**-5:\n",
    "                    burden1 = 0\n",
    "                burden_list_joint.append(burden1)\n",
    "                \n",
    "            if diff2 != 0:\n",
    "                if num_times2 == -5 or num_times2 == 1000000 or num_times2 == -2:\n",
    "                    if num_times2 == -5:\n",
    "                        num_not_exist = num_not_exist + 1\n",
    "                    if num_times2 == 1000000:\n",
    "                        num_not_found = num_not_found + 1\n",
    "                    \n",
    "                else:\n",
    "                    num_times_list.append(num_times2)\n",
    "                    \n",
    "                diff_list.append(diff2)\n",
    "                motif_list.append(motif)\n",
    "                opt_allele_list.append(opt_allele)\n",
    "                count_variant_alleles = count_variant_alleles + 1\n",
    "                if burden2 < 10**-5:\n",
    "                    burden2 = 0\n",
    "                burden_list_joint.append(burden2)\n",
    "                    \n",
    "            # Add information to burden_by_class dictionary\n",
    "            if (motif, opt_allele) not in burden_by_class:\n",
    "                burden_by_class[(motif, opt_allele)] = [2, count_variant_alleles, burden1 + burden2]\n",
    "                    \n",
    "            else:\n",
    "                burden_by_class[(motif, opt_allele)][0] = burden_by_class[(motif, opt_allele)][0] + 2\n",
    "                burden_by_class[(motif, opt_allele)][1] = burden_by_class[(motif, opt_allele)][1] + count_variant_alleles\n",
    "                burden_by_class[(motif, opt_allele)][2] = burden_by_class[(motif,opt_allele)][2] + burden1 + burden2\n",
    "                \n",
    "    \n",
    "sistr_scores_file.close()\n",
    "sample_info_file.close()\n",
    "\n",
    "print(\"%s STR Reduction in Fitness\" %(sample))\n",
    "print(\"Standing variation burden = %.2f (Calculated from %d alleles)\" %(np.sum(burden_list_joint), len(burden_list_joint)))\n",
    "print(\"Total number of alleles: %d\" %(count_loci*2))\n",
    "\n",
    "\n",
    "# Write burden results to file\n",
    "results_file = open('./inherited_burden/'+sample+\"_inherited_burden.txt\",\"w\")\n",
    "results_file.write(\"Variation from optimal allele\" + \"\\t\" + \"Inherited burden\" + \"\\t\" + \"Motif\" + \"\\t\" + \"Optimal allele\" + \"\\n\")\n",
    "for i in range(0, len(burden_list_joint)):\n",
    "    results_file.write(str(diff_list[i])+\"\\t\"+str(burden_list_joint[i])+\"\\t\"+str(motif_list[i])+\"\\t\"+str(opt_allele_list[i])+\"\\n\")\n",
    "results_file.close()\n",
    "\n",
    "\n",
    "# Write results by class to file\n",
    "results_file = open('./inherited_burden/'+sample+\"_burden_by_class.txt\",\"w\")\n",
    "\n",
    "results_file.write(\"Motif\" + \"\\t\" + \"Optimal_allele\" + \"\\t\" + \"Total_num_alleles\" + \"\\t\" + \"Num_variant_alleles\" + \"\\t\" + \"Burden\" + \"\\n\")\n",
    "for str_class in burden_by_class:\n",
    "    results_file.write(str(str_class[0])+\"\\t\"+str(str_class[1])+\"\\t\"+str(burden_by_class[str_class][0])+\"\\t\"+str(burden_by_class[str_class][1])+\"\\t\"+str(burden_by_class[str_class][2])+\"\\n\")\n",
    "results_file.close()"
   ]
  },
  {
   "cell_type": "code",
   "execution_count": 175,
   "metadata": {},
   "outputs": [
    {
     "data": {
      "text/plain": [
       "Text(0.5, 1.0, 'NA12864 \\n Number of alleles with variation: 35620/147548')"
      ]
     },
     "execution_count": 175,
     "metadata": {},
     "output_type": "execute_result"
    },
    {
     "data": {
      "image/png": "[encoded data removed]",
      "text/plain": [
       "<Figure size 432x288 with 1 Axes>"
      ]
     },
     "metadata": {
      "needs_background": "light"
     },
     "output_type": "display_data"
    }
   ],
   "source": [
    "plt.hist(diff_list, color='black', bins = np.arange(-20,20,1), weights = np.ones_like(diff_list)/len(diff_list))\n",
    "plt.xlabel('Size of variation (No. of repeat units away from optimal allele)')\n",
    "plt.ylabel('Fraction of STR variation')\n",
    "plt.title('%s \\n Number of alleles with variation: %d/%d'%(sample, len(diff_list), count_loci*2))\n",
    "#print(diff_list)"
   ]
  },
  {
   "cell_type": "code",
   "execution_count": 177,
   "metadata": {},
   "outputs": [
    {
     "name": "stderr",
     "output_type": "stream",
     "text": [
      "/storage/BonnieH/anaconda/lib/python3.7/site-packages/ipykernel_launcher.py:6: DeprecationWarning: Calling np.sum(generator) is deprecated, and in the future will give a different result. Use np.sum(np.fromiter(generator)) or the python sum builtin instead.\n",
      "  \n",
      "/storage/BonnieH/anaconda/lib/python3.7/site-packages/ipykernel_launcher.py:7: DeprecationWarning: Calling np.sum(generator) is deprecated, and in the future will give a different result. Use np.sum(np.fromiter(generator)) or the python sum builtin instead.\n",
      "  import sys\n"
     ]
    },
    {
     "name": "stdout",
     "output_type": "stream",
     "text": [
      "0.03082537900056148\n",
      "0.9601628298708591\n",
      "0.004154969118472768\n",
      "0.004856822010106681\n"
     ]
    },
    {
     "data": {
      "image/png": "[encoded data removed]",
      "text/plain": [
       "<Figure size 432x288 with 1 Axes>"
      ]
     },
     "metadata": {
      "needs_background": "light"
     },
     "output_type": "display_data"
    }
   ],
   "source": [
    "plt.hist(num_times_list, color='black', bins = np.arange(0,40,1), weights = np.ones_like(num_times_list)/len(num_times_list))\n",
    "plt.xlabel('Number of allele freqs drawn before finding variant')\n",
    "plt.ylabel('Fraction of variants')\n",
    "plt.title('%s'%(sample))\n",
    "\n",
    "print(sum(i > 40 for i in num_times_list)/len(diff_list)) # Variant found (only drew 40 or less simulations)\n",
    "print((len(num_times_list)-sum(i > 40 for i in num_times_list))/len(diff_list)) # Variant found (drew between 40 and 20000 simulations)\n",
    "print(num_not_exist/len(diff_list)) # Variant >12 ru away from optimal allele\n",
    "print(num_not_found/len(diff_list)) # Variant not found in over 20000 freqs drawn"
   ]
  },
  {
   "cell_type": "code",
   "execution_count": 183,
   "metadata": {},
   "outputs": [
    {
     "data": {
      "text/plain": [
       "([0, 1, 2], [Text(0, 0, ''), Text(0, 0, ''), Text(0, 0, '')])"
      ]
     },
     "execution_count": 183,
     "metadata": {},
     "output_type": "execute_result"
    },
    {
     "data": {
      "image/png": "[encoded data removed]",
      "text/plain": [
       "<Figure size 432x288 with 1 Axes>"
      ]
     },
     "metadata": {
      "needs_background": "light"
     },
     "output_type": "display_data"
    }
   ],
   "source": [
    "fig = plt.figure()\n",
    "ax = fig.add_axes([0,0,1,1])\n",
    "langs = ['Variant >12 ru away from optimal allele', 'Variant not found in over 20000 freqs drawn', 'Variant found']\n",
    "students = [num_not_exist, num_not_found, len(num_times_list)]\n",
    "ax.bar(langs,students)\n",
    "plt.xticks(rotation = 45) "
   ]
  },
  {
   "cell_type": "code",
   "execution_count": 182,
   "metadata": {},
   "outputs": [
    {
     "data": {
      "text/plain": [
       "Text(0.5, 1.0, 'Max number of allele freqs drawn versus number variants not found')"
      ]
     },
     "execution_count": 182,
     "metadata": {},
     "output_type": "execute_result"
    },
    {
     "data": {
      "image/png": "[encoded data removed]",
      "text/plain": [
       "<Figure size 432x288 with 1 Axes>"
      ]
     },
     "metadata": {
      "needs_background": "light"
     },
     "output_type": "display_data"
    }
   ],
   "source": [
    "xAxis = [50,100,1000,5000,10000,20000,50000]\n",
    "yAxis = [1223, 871, 322, 192, 168, 161, 158]\n",
    "plt.plot(xAxis,yAxis)\n",
    "plt.xlabel('Maximum number of allele frequencies drawn')\n",
    "plt.ylabel('Number of variants (out of ~35000) not found')\n",
    "plt.title('Max number of allele freqs drawn versus number variants not found')"
   ]
  }
 ],
 "metadata": {
  "kernelspec": {
   "display_name": "Python 3",
   "language": "python",
   "name": "python3"
  },
  "language_info": {
   "codemirror_mode": {
    "name": "ipython",
    "version": 3
   },
   "file_extension": ".py",
   "mimetype": "text/x-python",
   "name": "python",
   "nbconvert_exporter": "python",
   "pygments_lexer": "ipython3",
   "version": "3.7.4"
  }
 },
 "nbformat": 4,
 "nbformat_minor": 2
}
