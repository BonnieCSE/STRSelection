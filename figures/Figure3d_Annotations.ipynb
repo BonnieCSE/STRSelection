{
 "cells": [
  {
   "cell_type": "markdown",
   "metadata": {},
   "source": [
    "# Plot loci under selection by annotation"
   ]
  },
  {
   "cell_type": "code",
   "execution_count": 1,
   "metadata": {},
   "outputs": [
    {
     "name": "stdout",
     "output_type": "stream",
     "text": [
      "Populating the interactive namespace from numpy and matplotlib\n"
     ]
    }
   ],
   "source": [
    "%pylab inline\n",
    "import numpy as np\n",
    "import matplotlib\n",
    "matplotlib.rcParams['pdf.fonttype'] = 42\n",
    "matplotlib.rcParams['ps.fonttype'] = 42\n",
    "from matplotlib import pyplot as plt\n",
    "PLOTDIR = '/storage/BonnieH/selection_project/figures/figures/fig3d/'"
   ]
  },
  {
   "cell_type": "code",
   "execution_count": 2,
   "metadata": {},
   "outputs": [],
   "source": [
    "def main():\n",
    "    \n",
    "    print('Running main')\n",
    "    \n",
    "    p_val_thresh = 0.05 # Only loci with p value below this threshold are considered under selection\n",
    "    s_val_thresh = 0.005 # Only loci with s value above this threshold are considered under selection\n",
    "    \n",
    "    # Results file\n",
    "    inFile = \"/storage/BonnieH/selection_project/per_locus/final_results/0.005_3_0.3_yny5_eurodem_pr2.txt\"\n",
    "    results_file = open(inFile, 'r')\n",
    "    header = results_file.readline().strip()\n",
    "    \n",
    "    list_optimal = [8, 9, 10, 11] # Optimal alleles to graph \n",
    "    # Note: this plot only includes trinucleotides since all coding loci loci are trinucleotides\n",
    "    \n",
    "    # Lists for number of loci for each optimal allele with each annotation\n",
    "    num_each_opt_coding = [0] * len(list_optimal)\n",
    "    num_each_opt_intron = [0] * len(list_optimal)\n",
    "    num_each_opt_UTR5 = [0] * len(list_optimal)\n",
    "    num_each_opt_UTR3 = [0] * len(list_optimal)\n",
    "    num_each_opt_promoter5kb = [0] * len(list_optimal)\n",
    "    num_each_opt_intergenic = [0] * len(list_optimal)\n",
    "    \n",
    "    # Lists for number of loci for each optimal allele with each annotation that are under selection\n",
    "    num_sig_coding = [0] * len(list_optimal)\n",
    "    num_sig_intron = [0] * len(list_optimal)\n",
    "    num_sig_UTR5 = [0] * len(list_optimal)\n",
    "    num_sig_UTR3 = [0] * len(list_optimal)\n",
    "    num_sig_promoter5kb = [0] * len(list_optimal)\n",
    "    num_sig_intergenic = [0] * len(list_optimal)\n",
    "    \n",
    "    # Get number of loci under selection for each optimal allele\n",
    "    results_file = open(inFile, 'r')\n",
    "    header = results_file.readline().strip()\n",
    "    for line in results_file:\n",
    "        info = line.strip().split('\\t')\n",
    "        optimal_ru = int(info[4])\n",
    "        period = int(info[3])\n",
    "        s = info[16]\n",
    "        \n",
    "        if optimal_ru in list_optimal and s != 'N/A':\n",
    "            s = float(info[16])\n",
    "            \n",
    "            # Get annotations\n",
    "            coding = float(info[6])\n",
    "            intron = float(info[7])\n",
    "            UTR5 = float(info[8])\n",
    "            UTR3 = float(info[9])\n",
    "            promoter5kb = float(info[10])\n",
    "            intergenic = float(info[11])\n",
    "            index = list_optimal.index(optimal_ru)\n",
    "            p_val = float(info[23])\n",
    "            \n",
    "            if coding == 1.0:\n",
    "                num_each_opt_coding[index] += 1\n",
    "                if s > s_val_thresh and p_val < p_val_thresh:\n",
    "                    num_sig_coding[index] += 1\n",
    "                    \n",
    "            if intron == 1.0:\n",
    "                num_each_opt_intron[index] += 1\n",
    "                if s > s_val_thresh and p_val < p_val_thresh:\n",
    "                    num_sig_intron[index] += 1\n",
    "                    \n",
    "            if UTR5 == 1.0:\n",
    "                num_each_opt_UTR5[index] += 1\n",
    "                if s > s_val_thresh and p_val < p_val_thresh:\n",
    "                    num_sig_UTR5[index] += 1\n",
    "                    \n",
    "            if UTR3 == 1.0:\n",
    "                num_each_opt_UTR3[index] += 1\n",
    "                if s > s_val_thresh and p_val < p_val_thresh:\n",
    "                    num_sig_UTR3[index] += 1\n",
    "                    \n",
    "            if promoter5kb == 1.0:\n",
    "                num_each_opt_promoter5kb[index] += 1\n",
    "                if s > s_val_thresh and p_val < p_val_thresh:\n",
    "                    num_sig_promoter5kb[index] += 1\n",
    "                    \n",
    "            if intergenic == 1.0:\n",
    "                num_each_opt_intergenic[index] += 1\n",
    "                if s > s_val_thresh and p_val < p_val_thresh:\n",
    "                    num_sig_intergenic[index] += 1\n",
    "            \n",
    "    results_file.close()\n",
    "    \n",
    "    # Get percent of loci that are under selection for each optimal repeat unit and annotation\n",
    "    percent_sig_coding = [0] * len(list_optimal)\n",
    "    percent_sig_intron = [0] * len(list_optimal)\n",
    "    percent_sig_UTR5 = [0] * len(list_optimal)\n",
    "    percent_sig_UTR3 = [0] * len(list_optimal)\n",
    "    percent_sig_promoter5kb = [0] * len(list_optimal)\n",
    "    percent_sig_intergenic = [0] * len(list_optimal)\n",
    "    \n",
    "    for i in range(0, len(list_optimal)):\n",
    "        percent_sig_coding[i] = num_sig_coding[i]/num_each_opt_coding[i]\n",
    "        percent_sig_intron[i] = num_sig_intron[i]/num_each_opt_intron[i]\n",
    "        percent_sig_UTR5[i] = num_sig_UTR5[i]/num_each_opt_UTR5[i]\n",
    "        percent_sig_UTR3[i] = num_sig_UTR3[i]/num_each_opt_UTR3[i]\n",
    "        percent_sig_promoter5kb[i] = num_sig_promoter5kb[i]/num_each_opt_promoter5kb[i]\n",
    "        percent_sig_intergenic[i] = num_sig_intergenic[i]/num_each_opt_intergenic[i]\n",
    "    \n",
    "    barWidth = 0.13\n",
    "    r1 = np.arange(len(list_optimal))\n",
    "    r2 = [x - barWidth for x in r1]\n",
    "    r3 = [x - 2*barWidth for x in r1]\n",
    "    r4 = [x + barWidth for x in r1]\n",
    "    r5 = [x + 2*barWidth for x in r1]\n",
    "    r6 = [x + 3*barWidth for x in r1]\n",
    "    \n",
    "    # Make the plot\n",
    "    plt.bar(r3, percent_sig_coding, color='red', width=barWidth, edgecolor='white', label='coding')\n",
    "    plt.bar(r2, percent_sig_intron, color='orange', width=barWidth, edgecolor='white', label='intron')\n",
    "    plt.bar(r1, percent_sig_UTR5, color='yellow', width=barWidth, edgecolor='white', label='UTR5')\n",
    "    plt.bar(r4, percent_sig_UTR3, color='green', width=barWidth, edgecolor='white', label='UTR3')\n",
    "    plt.bar(r5, percent_sig_promoter5kb, color='blue', width=barWidth, edgecolor='white', label='promoter5kb')\n",
    "    plt.bar(r6, percent_sig_intergenic, color='purple', width=barWidth, edgecolor='white', label='intergenic')\n",
    "   \n",
    "    plt.xlabel('Optimal Allele Repeat Units', fontweight='bold')\n",
    "    plt.xticks([r + barWidth/2 for r in range(len(list_optimal))], list_optimal)\n",
    "    plt.ylabel('Fraction of loci', fontweight='bold')\n",
    "    plt.title(\"Loci under selection by optimal allele length\", fontweight='bold') \n",
    "    plt.legend()\n",
    "    plt.savefig('/storage/BonnieH/selection_project/figures/figures/fig3d/fig3d.pdf',bbox_inches='tight')"
   ]
  },
  {
   "cell_type": "code",
   "execution_count": 3,
   "metadata": {},
   "outputs": [
    {
     "name": "stdout",
     "output_type": "stream",
     "text": [
      "Running main\n",
      "CPU times: user 799 ms, sys: 32.4 ms, total: 831 ms\n",
      "Wall time: 1.44 s\n"
     ]
    },
    {
     "data": {
      "image/png": "[encoded data removed]",
      "text/plain": [
       "<Figure size 432x288 with 1 Axes>"
      ]
     },
     "metadata": {
      "needs_background": "light"
     },
     "output_type": "display_data"
    }
   ],
   "source": [
    "%%time\n",
    "if __name__ == '__main__':\n",
    "    main()"
   ]
  }
 ],
 "metadata": {
  "kernelspec": {
   "display_name": "Python 3",
   "language": "python",
   "name": "python3"
  },
  "language_info": {
   "codemirror_mode": {
    "name": "ipython",
    "version": 3
   },
   "file_extension": ".py",
   "mimetype": "text/x-python",
   "name": "python",
   "nbconvert_exporter": "python",
   "pygments_lexer": "ipython3",
   "version": "3.7.4"
  }
 },
 "nbformat": 4,
 "nbformat_minor": 2
}
