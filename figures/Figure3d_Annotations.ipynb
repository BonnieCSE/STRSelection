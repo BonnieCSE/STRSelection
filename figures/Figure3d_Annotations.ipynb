{
 "cells": [
  {
   "cell_type": "markdown",
   "metadata": {},
   "source": [
    "# Plot loci under strong selection by annotation\n",
    "###  Note: This plot only includes trinucleotides since nearly all coding loci are trinucleotides"
   ]
  },
  {
   "cell_type": "code",
   "execution_count": 129,
   "metadata": {},
   "outputs": [
    {
     "name": "stdout",
     "output_type": "stream",
     "text": [
      "Populating the interactive namespace from numpy and matplotlib\n"
     ]
    }
   ],
   "source": [
    "%pylab inline\n",
    "import matplotlib\n",
    "matplotlib.rcParams['pdf.fonttype'] = 42\n",
    "matplotlib.rcParams['ps.fonttype'] = 42\n",
    "from matplotlib import pyplot as plt\n",
    "import statsmodels.stats\n",
    "PLOTDIR = '/storage/BonnieH/selection_project/figures/figures/fig3d/'"
   ]
  },
  {
   "cell_type": "code",
   "execution_count": 130,
   "metadata": {},
   "outputs": [],
   "source": [
    "def main():\n",
    "    \n",
    "    print('Running main')\n",
    "    \n",
    "    p_val_thresh = 0.05 # Only loci with p value below this threshold are considered under selection\n",
    "    s_val_thresh = 0.01 # Only loci with s value above this threshold are considered under selection\n",
    "    total_thresh = 5214\n",
    "    \n",
    "    # Results file\n",
    "    inFile = '/storage/BonnieH/selection_project/per_locus/SISTR_results/0.005_3_0.3_yny5_eurodem_prior2_all_per_0810.txt'\n",
    "    results_file = open(inFile, 'r')\n",
    "    header = results_file.readline().strip()\n",
    "    \n",
    "    list_optimal = [8, 9, 10, 11] # Optimal alleles to graph \n",
    "   \n",
    "    # Lists for number of loci for each optimal allele with each annotation\n",
    "    num_each_opt_coding = [0] * len(list_optimal)\n",
    "    num_each_opt_intron = [0] * len(list_optimal)\n",
    "    num_each_opt_UTR5 = [0] * len(list_optimal)\n",
    "    num_each_opt_UTR3 = [0] * len(list_optimal)\n",
    "    num_each_opt_promoter5kb = [0] * len(list_optimal)\n",
    "    num_each_opt_intergenic = [0] * len(list_optimal)\n",
    "    \n",
    "    # Lists for number of loci for each optimal allele with each annotation that are under selection\n",
    "    num_sig_coding = [0] * len(list_optimal)\n",
    "    num_sig_intron = [0] * len(list_optimal)\n",
    "    num_sig_UTR5 = [0] * len(list_optimal)\n",
    "    num_sig_UTR3 = [0] * len(list_optimal)\n",
    "    num_sig_promoter5kb = [0] * len(list_optimal)\n",
    "    num_sig_intergenic = [0] * len(list_optimal)\n",
    "    \n",
    "    # Get number of loci under selection for each optimal allele\n",
    "    results_file = open(inFile, 'r')\n",
    "    header = results_file.readline().strip()\n",
    "    for line in results_file:\n",
    "        info = line.strip().split('\\t')\n",
    "        optimal_ru = int(info[5])\n",
    "        period = int(info[4])\n",
    "        s = info[17]\n",
    "        total_n = int(info[3])\n",
    "        \n",
    "        if period == 3 and optimal_ru in list_optimal and s != 'N/A' and total_n > total_thresh:\n",
    "            cont = True\n",
    "            \n",
    "            s = float(info[17])\n",
    "            ABC_CI = info[18]\n",
    "            ABC_CI_list = list(ABC_CI.split(' , '))\n",
    "            lower_bound = float(ABC_CI_list[0][1:])\n",
    "            upper_bound = float(ABC_CI_list[1][:-1])\n",
    "            p_val = float(info[24])\n",
    "            if upper_bound - lower_bound > 0.1: # and lower_bound < 10^-4:\n",
    "                #if p_val < 0.05:\n",
    "                    #print(s)\n",
    "                    #print(ABC_CI)\n",
    "                    #print(p_val)\n",
    "                cont = False\n",
    "            if cont == True:\n",
    "                # Get annotations\n",
    "                coding = float(info[7])\n",
    "                intron = float(info[8])\n",
    "                UTR5 = float(info[9])\n",
    "                UTR3 = float(info[10])\n",
    "                promoter5kb = float(info[11])\n",
    "                intergenic = float(info[12])\n",
    "                index = list_optimal.index(optimal_ru)\n",
    "                p_val = float(info[24])\n",
    "                adj_p_val = statsmodels.stats.multitest.fdrcorrection(p_val)\n",
    "                if coding == 1.0:\n",
    "                    num_each_opt_coding[index] += 1\n",
    "                    if s > s_val_thresh and p_val < p_val_thresh:\n",
    "                        num_sig_coding[index] += 1\n",
    "\n",
    "                if intron == 1.0:\n",
    "                    num_each_opt_intron[index] += 1\n",
    "                    if s > s_val_thresh and p_val < p_val_thresh:\n",
    "                        num_sig_intron[index] += 1\n",
    "\n",
    "                if UTR5 == 1.0:\n",
    "                    num_each_opt_UTR5[index] += 1\n",
    "                    if s > s_val_thresh and p_val < p_val_thresh:\n",
    "                        num_sig_UTR5[index] += 1\n",
    "\n",
    "                if UTR3 == 1.0:\n",
    "                    num_each_opt_UTR3[index] += 1\n",
    "                    if s > s_val_thresh and p_val < p_val_thresh:\n",
    "                        num_sig_UTR3[index] += 1\n",
    "\n",
    "                if promoter5kb == 1.0:\n",
    "                    num_each_opt_promoter5kb[index] += 1\n",
    "                    if s > s_val_thresh and p_val < p_val_thresh:\n",
    "                        num_sig_promoter5kb[index] += 1\n",
    "\n",
    "                if intergenic == 1.0:\n",
    "                    num_each_opt_intergenic[index] += 1\n",
    "                    if s > s_val_thresh and p_val < p_val_thresh:\n",
    "                        num_sig_intergenic[index] += 1\n",
    "\n",
    "    results_file.close()\n",
    "    \n",
    "    # Get percent of loci that are under selection for each optimal repeat unit and annotation\n",
    "    percent_sig_coding = [0] * len(list_optimal)\n",
    "    percent_sig_intron = [0] * len(list_optimal)\n",
    "    percent_sig_UTR5 = [0] * len(list_optimal)\n",
    "    percent_sig_UTR3 = [0] * len(list_optimal)\n",
    "    percent_sig_promoter5kb = [0] * len(list_optimal)\n",
    "    percent_sig_intergenic = [0] * len(list_optimal)\n",
    "    \n",
    "    for i in range(0, len(list_optimal)):\n",
    "        percent_sig_coding[i] = num_sig_coding[i]/num_each_opt_coding[i]\n",
    "        percent_sig_intron[i] = num_sig_intron[i]/num_each_opt_intron[i]\n",
    "        percent_sig_UTR5[i] = num_sig_UTR5[i]/num_each_opt_UTR5[i]\n",
    "        percent_sig_UTR3[i] = num_sig_UTR3[i]/num_each_opt_UTR3[i]\n",
    "        percent_sig_promoter5kb[i] = num_sig_promoter5kb[i]/num_each_opt_promoter5kb[i]\n",
    "        percent_sig_intergenic[i] = num_sig_intergenic[i]/num_each_opt_intergenic[i]\n",
    "    \n",
    "    barWidth = 0.13\n",
    "    r1 = np.arange(len(list_optimal))\n",
    "    r2 = [x - barWidth for x in r1]\n",
    "    r3 = [x - 2*barWidth for x in r1]\n",
    "    r4 = [x + barWidth for x in r1]\n",
    "    r5 = [x + 2*barWidth for x in r1]\n",
    "    r6 = [x + 3*barWidth for x in r1]\n",
    "    \n",
    "    # Make the plot\n",
    "    plt.bar(r3, percent_sig_coding, color='red', width=barWidth, edgecolor='white', label='coding')\n",
    "    plt.bar(r2, percent_sig_intron, color='orange', width=barWidth, edgecolor='white', label='intron')\n",
    "    plt.bar(r1, percent_sig_UTR5, color='yellow', width=barWidth, edgecolor='white', label='UTR5')\n",
    "    plt.bar(r4, percent_sig_UTR3, color='green', width=barWidth, edgecolor='white', label='UTR3')\n",
    "    plt.bar(r5, percent_sig_promoter5kb, color='blue', width=barWidth, edgecolor='white', label='promoter5kb')\n",
    "    plt.bar(r6, percent_sig_intergenic, color='purple', width=barWidth, edgecolor='white', label='intergenic')\n",
    "   \n",
    "    plt.xlabel('Optimal Allele Repeat Units')\n",
    "    plt.xticks([r + barWidth/2 for r in range(len(list_optimal))], list_optimal)\n",
    "    plt.ylabel('Fraction of loci')\n",
    "    plt.title(\"Trinucleotide loci under strong selection\") \n",
    "    plt.legend(bbox_to_anchor=(1.01, 1.01))\n",
    "    plt.savefig('/storage/BonnieH/selection_project/figures/figures/fig3d/fig3d.pdf',bbox_inches='tight')"
   ]
  },
  {
   "cell_type": "code",
   "execution_count": 131,
   "metadata": {},
   "outputs": [
    {
     "name": "stdout",
     "output_type": "stream",
     "text": [
      "Running main\n",
      "CPU times: user 661 ms, sys: 18.9 ms, total: 680 ms\n",
      "Wall time: 692 ms\n"
     ]
    },
    {
     "data": {
      "image/png": "[encoded data removed]",
      "text/plain": [
       "<Figure size 432x288 with 1 Axes>"
      ]
     },
     "metadata": {
      "needs_background": "light"
     },
     "output_type": "display_data"
    }
   ],
   "source": [
    "%%time\n",
    "if __name__ == '__main__':\n",
    "    main()"
   ]
  }
 ],
 "metadata": {
  "kernelspec": {
   "display_name": "Python 3",
   "language": "python",
   "name": "python3"
  },
  "language_info": {
   "codemirror_mode": {
    "name": "ipython",
    "version": 3
   },
   "file_extension": ".py",
   "mimetype": "text/x-python",
   "name": "python",
   "nbconvert_exporter": "python",
   "pygments_lexer": "ipython3",
   "version": "3.7.4"
  }
 },
 "nbformat": 4,
 "nbformat_minor": 2
}
