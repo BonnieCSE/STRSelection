{
 "cells": [
  {
   "cell_type": "markdown",
   "metadata": {},
   "source": [
    "# Supplemental Figure (PERLOCUSPOSTERIOR):\n",
    "### More examples of validating the SISTR per-locus method (ABC and LRT) using simulated data"
   ]
  },
  {
   "cell_type": "code",
   "execution_count": 6,
   "metadata": {},
   "outputs": [
    {
     "name": "stdout",
     "output_type": "stream",
     "text": [
      "Populating the interactive namespace from numpy and matplotlib\n"
     ]
    }
   ],
   "source": [
    "%pylab inline\n",
    "import sys\n",
    "sys.path.append(\"/storage/BonnieH/selection_project/helper_functions\")\n",
    "from Per_locus_validation_functions import *\n",
    "import matplotlib\n",
    "matplotlib.rcParams['pdf.fonttype'] = 42\n",
    "matplotlib.rcParams['ps.fonttype'] = 42\n",
    "from matplotlib import pyplot as plt\n",
    "PLOTDIR = '/storage/BonnieH/selection_project/figures/figures/'"
   ]
  },
  {
   "cell_type": "code",
   "execution_count": 7,
   "metadata": {},
   "outputs": [],
   "source": [
    "# Function to plot validation figures\n",
    "def plot_figure(fig_num, per, opt_allele_list, est_s_dic, errors, s_vals, use_het, use_common, use_bins, num_bins, eps_bins, model, graph_type):\n",
    "    \n",
    "    plt.figure(fig_num)\n",
    "    for opt_allele in opt_allele_list:\n",
    "            \n",
    "        # Plot error bars if only plotting one optimal allele\n",
    "        if len(opt_allele_list) == 1:\n",
    "            plt.errorbar(s_vals, est_s_dic[opt_allele], marker = 'o', label = str(opt_allele), yerr = errors[opt_allele]) #\n",
    "            \n",
    "        else:\n",
    "            plt.errorbar(s_vals, est_s_dic[opt_allele], marker = 'o', label = str(opt_allele))\n",
    "    \n",
    "    if graph_type == 'abc':\n",
    "        plt.plot( [10**-6,0.2],[10**-6,0.2] )\n",
    "        plt.ylabel(\"Posterior estimation of s\", size=15) \n",
    "        titlename = 'ABC Validation Per ' + str(per)\n",
    "        filename = PLOTDIR + 'ABC_validation/per' + str(per)\n",
    "        plt.yscale('log')\n",
    "        \n",
    "    if graph_type == 'lrt':\n",
    "        plt.ylabel(\"Power\", size=15) \n",
    "        titlename = 'LRT Validation Per ' + str(per)\n",
    "        filename = PLOTDIR + 'LRT_validation/per' + str(per)\n",
    "    \n",
    "    plt.xlabel(\"S value used for simulation\", size=15)\n",
    "    plt.xscale('log')\n",
    "    plt.xlim(10**-6.5,0.3)\n",
    "    plt.legend()\n",
    "   \n",
    "    opt_allele_string = '_'\n",
    "    for opt_allele in opt_allele_list:\n",
    "        opt_allele_string = opt_allele_string + str(opt_allele)\n",
    "    filename = filename + opt_allele_string\n",
    "    titlename = titlename + '\\nSummary statistics used: '\n",
    "    if use_het == 'y':\n",
    "        filename = filename + '_het'\n",
    "        titlename = titlename + 'Heterozygosity '\n",
    "    if use_common == 'y':\n",
    "        filename = filename + '_common'\n",
    "        titlename = titlename + 'Number_Common_Alleles '\n",
    "    if use_bins == 'y':\n",
    "        filename = filename + '_' + str(num_bins) + 'bins' + '_' + str(eps_bins) \n",
    "        titlename = titlename + str(num_bins) + '_Allele_Bins '\n",
    "    \n",
    "    filename = filename + '_' + model + '.pdf'\n",
    "    titlename = titlename + '\\n' + model \n",
    "    plt.title(titlename, size=15)\n",
    "    plt.savefig(filename, bbox_inches='tight')\n",
    "    print('Done figure ' + str(fig_num))"
   ]
  },
  {
   "cell_type": "code",
   "execution_count": 8,
   "metadata": {},
   "outputs": [],
   "source": [
    "# Function to validate ABC and LRT for the per-locus method\n",
    "def validate(per, opt_allele, s_vals, use_het, use_common, use_bins, num_bins, abc_model, lrt_model, fig_num):\n",
    "    \n",
    "    opt_allele_list, s_vals_dic, errors_s_dic, s_vals, p_vals_dic, errors_p_dic, eps_bins, LogLR_vals_dic = validate_per_locus(per, \\\n",
    "    opt_allele, s_vals, use_het, use_common, use_bins, num_bins, abc_model, lrt_model, False, True, False, False) \n",
    "    \n",
    "    #print('s_vals_dic')\n",
    "    #print(s_vals_dic)\n",
    "    \n",
    "    #print('LogLR_vals_dic')\n",
    "    #print(LogLR_vals_dic)\n",
    "    \n",
    "    # Plot ABC and LRT validation graphs\n",
    "    fig_num = fig_num + 1\n",
    "    plot_figure(fig_num, per, opt_allele_list, s_vals_dic, errors_s_dic, s_vals, use_het, use_common, use_bins, num_bins, eps_bins, abc_model, 'abc')\n",
    "    fig_num = fig_num + 1\n",
    "    plot_figure(fig_num, per, opt_allele_list, p_vals_dic, errors_p_dic, s_vals, use_het, use_common, use_bins, num_bins, eps_bins, abc_model, 'lrt')\n",
    "    return fig_num"
   ]
  },
  {
   "cell_type": "code",
   "execution_count": 9,
   "metadata": {},
   "outputs": [],
   "source": [
    "def main():\n",
    "    print('Running main')\n",
    "    \n",
    "    # List of periods to validate\n",
    "    per_list = [2, 3, 4] \n",
    "    \n",
    "    # Dictionary of optimal alleles to validate\n",
    "    # Key: period, Value: string of optimal alleles to validate separated by commas\n",
    "    opt_alleles = {} \n",
    "    opt_alleles[2] = '11,14,17,20'\n",
    "    opt_alleles[3] = '5,6,7,8' # 5,8,10,13\n",
    "    opt_alleles[4] = '7,8,9,10'\n",
    "    \n",
    "    # S values to validate\n",
    "    s_vals = '0.000001,0.00001,0.0001,0.0004,0.0007,0.001,0.004,0.007,0.01,0.04,0.07,0.1,0.15,0.2' \n",
    "    \n",
    "    # Summary statistics to use - 'y' = yes, 'n' = no\n",
    "    use_het = 'y'\n",
    "    use_common = 'n'\n",
    "    use_bin = 'y'\n",
    "    \n",
    "    # List of number of bins to use for validation\n",
    "    #num_bins_list = [3,5,7] \n",
    "    num_bins_list = [5]\n",
    "    \n",
    "    # Priors to use for validation\n",
    "    \n",
    "    model_list = [('eurodem_prior2','eurodem_0810')] \n",
    "    fig_num = 0\n",
    "    \n",
    "    # Run validation\n",
    "    for per in per_list:\n",
    "        for num_bins in num_bins_list:\n",
    "            for model in model_list:\n",
    "                fig_num = validate(per, opt_alleles[per], s_vals, use_het, use_common, use_bin, num_bins, model[0], model[1], fig_num)"
   ]
  },
  {
   "cell_type": "code",
   "execution_count": null,
   "metadata": {
    "scrolled": false
   },
   "outputs": [
    {
     "name": "stdout",
     "output_type": "stream",
     "text": [
      "Running main\n",
      "Running per: 2 optimal allele: 11\n",
      "Running per: 2 optimal allele: 14\n",
      "Running per: 2 optimal allele: 17\n",
      "Running per: 2 optimal allele: 20\n",
      "Done figure 1\n",
      "Done figure 2\n",
      "Running per: 3 optimal allele: 5\n"
     ]
    }
   ],
   "source": [
    "%%time\n",
    "if __name__ == '__main__':\n",
    "    main()"
   ]
  }
 ],
 "metadata": {
  "kernelspec": {
   "display_name": "Python 3",
   "language": "python",
   "name": "python3"
  },
  "language_info": {
   "codemirror_mode": {
    "name": "ipython",
    "version": 3
   },
   "file_extension": ".py",
   "mimetype": "text/x-python",
   "name": "python",
   "nbconvert_exporter": "python",
   "pygments_lexer": "ipython3",
   "version": "3.7.4"
  }
 },
 "nbformat": 4,
 "nbformat_minor": 2
}
