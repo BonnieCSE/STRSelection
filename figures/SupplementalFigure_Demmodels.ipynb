{
 "cells": [
  {
   "cell_type": "code",
   "execution_count": 1,
   "metadata": {},
   "outputs": [
    {
     "name": "stdout",
     "output_type": "stream",
     "text": [
      "Populating the interactive namespace from numpy and matplotlib\n"
     ]
    }
   ],
   "source": [
    "# Plot demographic models\n",
    "\n",
    "%pylab inline\n",
    "import matplotlib\n",
    "matplotlib.rcParams['pdf.fonttype'] = 42\n",
    "matplotlib.rcParams['ps.fonttype'] = 42\n",
    "import matplotlib.pyplot as plt\n",
    "import numpy as np\n",
    "PLOTDIR = '/storage/BonnieH/selection_project/figures/figures/'"
   ]
  },
  {
   "cell_type": "code",
   "execution_count": 2,
   "metadata": {},
   "outputs": [],
   "source": [
    "def graph_euro_model():\n",
    "    t = 0\n",
    "    N_e = 7300\n",
    "    max_iter = 26000\n",
    "    toplot = []\n",
    "    while t < max_iter:\n",
    "        if t == max_iter - 5920:\n",
    "            N_e = 14474\n",
    "        if t == max_iter - 2040:\n",
    "            N_e = 1861  \n",
    "        if t == max_iter-920:\n",
    "            N_e = 1032\n",
    "        if t > max_iter-920 and t < max_iter-205:\n",
    "            N_e = N_e * 1.00307\n",
    "        if t >= max_iter-205:\n",
    "            N_e = N_e * 1.0195\n",
    "            \n",
    "        t = t + 1\n",
    "        \n",
    "        toplot.append(N_e)\n",
    "        \n",
    "    x = np.r_[25999:24999:1, 6900:0:1]\n",
    "    \n",
    "    fig,(ax,ax2) = plt.subplots(1, 2, sharey=True)\n",
    "    \n",
    "    x = list(range(len(toplot)))\n",
    "    x.reverse()\n",
    "    toplot.reverse\n",
    "\n",
    "    # Plot the same data on both axes\n",
    "    ax.plot(x, toplot)\n",
    "    ax2.plot(x, toplot)\n",
    "\n",
    "    # Zoom-in to different portions of the data\n",
    "    ax.set_xlim(26000,19000) \n",
    "    ax2.set_xlim(7000,-100) \n",
    "\n",
    "    # Hide the spines between ax and ax2\n",
    "    ax.spines['right'].set_visible(False)\n",
    "    ax2.spines['left'].set_visible(False)\n",
    "    ax.yaxis.tick_left()\n",
    "    ax2.yaxis.tick_right()\n",
    "    ax.set_yscale('log')\n",
    "    \n",
    "    # Decrease spacing between the two axe\n",
    "    plt.subplots_adjust(wspace=0.15)\n",
    "    ax.set_xlabel('Number of generations ago',x=1.1)\n",
    "    ax.set_ylabel('Population size')\n",
    "    ax.set_title('European Demographic Model (Tennessean et al (2012))',x=1.1)\n",
    "    plt.savefig(PLOTDIR + 'euro_dem_model.pdf', bbox_inches='tight')\n",
    "    plt.show()"
   ]
  },
  {
   "cell_type": "code",
   "execution_count": 3,
   "metadata": {},
   "outputs": [
    {
     "data": {
      "image/png": "[encoded data removed]",
      "text/plain": [
       "<Figure size 432x288 with 2 Axes>"
      ]
     },
     "metadata": {
      "needs_background": "light"
     },
     "output_type": "display_data"
    }
   ],
   "source": [
    "graph_euro_model()"
   ]
  }
 ],
 "metadata": {
  "kernelspec": {
   "display_name": "Python 3",
   "language": "python",
   "name": "python3"
  },
  "language_info": {
   "codemirror_mode": {
    "name": "ipython",
    "version": 3
   },
   "file_extension": ".py",
   "mimetype": "text/x-python",
   "name": "python",
   "nbconvert_exporter": "python",
   "pygments_lexer": "ipython3",
   "version": "3.7.4"
  }
 },
 "nbformat": 4,
 "nbformat_minor": 2
}
