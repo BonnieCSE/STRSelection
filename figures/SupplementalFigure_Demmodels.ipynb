{
 "cells": [
  {
   "cell_type": "markdown",
   "metadata": {},
   "source": [
    "# Supplemental Figure (DEMMODLES):\n",
    "\n",
    "### Plot European Demographic Model (Tennessean et al (2012))"
   ]
  },
  {
   "cell_type": "code",
   "execution_count": 10,
   "metadata": {},
   "outputs": [
    {
     "name": "stdout",
     "output_type": "stream",
     "text": [
      "Populating the interactive namespace from numpy and matplotlib\n"
     ]
    }
   ],
   "source": [
    "%pylab inline\n",
    "import matplotlib\n",
    "matplotlib.rcParams['pdf.fonttype'] = 42\n",
    "matplotlib.rcParams['ps.fonttype'] = 42\n",
    "import matplotlib.pyplot as plt\n",
    "import numpy as np\n",
    "PLOTDIR = '/storage/BonnieH/selection_project/figures/figures/'"
   ]
  },
  {
   "cell_type": "code",
   "execution_count": 11,
   "metadata": {},
   "outputs": [],
   "source": [
    "def graph_euro_model():\n",
    "    t = 0\n",
    "    N_e = 7310 # Starting effective population size\n",
    "    max_iter = 55920 # Number of generations\n",
    "    toplot = [] # Effective population size over time\n",
    "    while t < max_iter:\n",
    "        if t == max_iter - 5920:\n",
    "            N_e = 14474\n",
    "        if t == max_iter - 2040:\n",
    "            N_e = 1861  \n",
    "        if t == max_iter - 920:\n",
    "            N_e = 1032\n",
    "        if t > max_iter - 920 and t < max_iter - 205:\n",
    "            N_e = N_e * 1.00307\n",
    "        if t >= max_iter - 205:\n",
    "            N_e = N_e * 1.0195\n",
    "            \n",
    "        t = t + 1\n",
    "        \n",
    "        toplot.append(N_e)\n",
    "        \n",
    "    x = np.r_[55919:54919:1, 6900:0:1]\n",
    "    \n",
    "    fig,(ax,ax2) = plt.subplots(1, 2, sharey=True)\n",
    "    \n",
    "    x = list(range(len(toplot)))\n",
    "    x.reverse()\n",
    "    toplot.reverse\n",
    "\n",
    "    # Plot data\n",
    "    ax.plot(x, toplot)\n",
    "    ax2.plot(x, toplot)\n",
    "    ax.set_xlim(55920,48920) \n",
    "    ax2.set_xlim(7000,-100) \n",
    "    ax.spines['right'].set_visible(False)\n",
    "    ax2.spines['left'].set_visible(False)\n",
    "    ax.yaxis.tick_left()\n",
    "    ax2.yaxis.tick_right()\n",
    "    ax.set_yscale('log')\n",
    "    plt.subplots_adjust(wspace=0.15)\n",
    "    ax.set_xlabel('Number of generations ago',x=1.1)\n",
    "    ax.set_ylabel('Population size')\n",
    "    ax.set_title('European Demographic Model (Tennessean et al (2012))',x=1.1)\n",
    "    plt.savefig(PLOTDIR + 'euro_dem_model.pdf', bbox_inches='tight')\n",
    "    plt.show()"
   ]
  },
  {
   "cell_type": "code",
   "execution_count": 12,
   "metadata": {},
   "outputs": [
    {
     "data": {
      "image/png": "[encoded data removed]",
      "text/plain": [
       "<Figure size 432x288 with 2 Axes>"
      ]
     },
     "metadata": {
      "needs_background": "light"
     },
     "output_type": "display_data"
    }
   ],
   "source": [
    "graph_euro_model()"
   ]
  }
 ],
 "metadata": {
  "kernelspec": {
   "display_name": "Python 3",
   "language": "python",
   "name": "python3"
  },
  "language_info": {
   "codemirror_mode": {
    "name": "ipython",
    "version": 3
   },
   "file_extension": ".py",
   "mimetype": "text/x-python",
   "name": "python",
   "nbconvert_exporter": "python",
   "pygments_lexer": "ipython3",
   "version": "3.7.4"
  }
 },
 "nbformat": 4,
 "nbformat_minor": 2
}
