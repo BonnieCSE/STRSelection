{
 "cells": [
  {
   "cell_type": "markdown",
   "metadata": {},
   "source": [
    "This notebook contains code to measure the burden of deleterious variation from STRs"
   ]
  },
  {
   "cell_type": "code",
   "execution_count": 36,
   "metadata": {},
   "outputs": [
    {
     "name": "stdout",
     "output_type": "stream",
     "text": [
      "Populating the interactive namespace from numpy and matplotlib\n"
     ]
    }
   ],
   "source": [
    "%pylab inline\n",
    "\n",
    "import matplotlib\n",
    "matplotlib.rcParams['pdf.fonttype'] = 42\n",
    "matplotlib.rcParams['ps.fonttype'] = 42\n",
    "from matplotlib import pyplot as plt\n",
    "import sys\n",
    "sys.path.append(\"/storage/BonnieH/selection_project/helper_functions\")\n",
    "from Simulation_functions import *"
   ]
  },
  {
   "cell_type": "code",
   "execution_count": 37,
   "metadata": {},
   "outputs": [],
   "source": [
    "calc_de_novo = False"
   ]
  },
  {
   "cell_type": "code",
   "execution_count": 38,
   "metadata": {},
   "outputs": [
    {
     "data": {
      "text/plain": [
       "'\\n/storage/BonnieH/selection_project/1000genomes/euro_allele_freqs/1kg_sistr_per_locus_scores.txt\\n\\nawk \\'NR==FNR{c[$1\"a\"$2]++;next};c[$1\"a\"$2] > 0 {print $1\"\\t\"$2\"\\t\"$3\"\\t\"$4\"\\t\"$5\"\\t\"$6\"\\t\"$7\"\\t\"$8}\\' /storage/BonnieH/selection_project/1000genomes/euro_allele_freqs/NA10845_filtered.txt /storage/BonnieH/selection_project/1000genomes/euro_allele_freqs/1kg_sistr_per_locus_scores.txt > /storage/BonnieH/selection_project/1000genomes/euro_allele_freqs/NA10845_per_locus_scores_file.txt\\n'"
      ]
     },
     "execution_count": 38,
     "metadata": {},
     "output_type": "execute_result"
    }
   ],
   "source": [
    "# See /storage/BonnieH/selection_project/1000genomes/euro_allele_freqs/Generate_sample_info_txt.py for\n",
    "# script extracting a sample's genotype information from the merged VCF \"EUR_sans_FIN_filtered_w_sistr2_scores.vcf.gz\" \n",
    "# that contains information regarding all samples\n",
    "\n",
    "# Perform the following command to obtain genotypes for each STR for a given individual (only keep STRs with SISTR2 scores)\n",
    "# Example command for individual NA12864\n",
    "'''\n",
    "awk 'NR==FNR{c[$1\"a\"$2]++;next};c[$1\"a\"$2] > 0 {print $1\"\\t\"$2\"\\t\"$3\"\\t\"$4}' /storage/BonnieH/selection_project/1000genomes/euro_allele_freqs/1kg_allele_freqs_with_sistr2_scores_no_chr.txt /storage/BonnieH/selection_project/1000genomes/euro_allele_freqs/NA12864.txt > /storage/BonnieH/selection_project/1000genomes/euro_allele_freqs/NA12864_filtered.txt\n",
    "\n",
    "'''\n",
    "\n",
    "# Note - The file /storage/BonnieH/selection_project/1000genomes/euro_allele_freqs/EUR_sans_FIN_filtered_w_sistr2_scores.vcf.gz was obtained using the command: \n",
    "'''\n",
    "bcftools view --regions-file /storage/BonnieH/selection_project/1000genomes/euro_allele_freqs/1kg_with_sistr2_scores.txt /storage/BonnieH/selection_project/1000genomes/euro_allele_freqs/EUR_sans_FIN_filtered.vcf.gz | bgzip -c > /storage/BonnieH/selection_project/1000genomes/euro_allele_freqs/EUR_sans_FIN_filtered_w_sistr2_scores.vcf.gz\n",
    "'''\n",
    "\n",
    "# Note - File with Per-locus scores\n",
    "'''\n",
    "/storage/BonnieH/selection_project/1000genomes/euro_allele_freqs/1kg_sistr_per_locus_scores.txt\n",
    "\n",
    "awk 'NR==FNR{c[$1\"a\"$2]++;next};c[$1\"a\"$2] > 0 {print $1\"\\t\"$2\"\\t\"$3\"\\t\"$4\"\\t\"$5\"\\t\"$6\"\\t\"$7\"\\t\"$8}' /storage/BonnieH/selection_project/1000genomes/euro_allele_freqs/NA10845_filtered.txt /storage/BonnieH/selection_project/1000genomes/euro_allele_freqs/1kg_sistr_per_locus_scores.txt > /storage/BonnieH/selection_project/1000genomes/euro_allele_freqs/NA10845_per_locus_scores_file.txt\n",
    "'''"
   ]
  },
  {
   "cell_type": "code",
   "execution_count": 39,
   "metadata": {},
   "outputs": [
    {
     "name": "stdout",
     "output_type": "stream",
     "text": [
      "{(2, 11, 'AT'): (0.6296529, 6.14e-05), (2, 12, 'AT'): (0.5882184, 3.17e-05), (2, 13, 'AT'): (0.2487026, 0.0002044), (2, 14, 'AT'): (0.8952737, 8.26e-05), (2, 15, 'AT'): (0.2537753, 8.02e-05), (2, 16, 'AT'): (0.8121238, 9.35e-05), (2, 17, 'AT'): (0.6352325, 7.09e-05), (2, 18, 'AT'): (0.0845467, 0.0002004), (2, 19, 'AT'): (0.9712703, 2.95e-05), (2, 20, 'AT'): (0.57922, 0.0002743), (2, 11, 'AG'): (0.873439, 0.0006798), (2, 12, 'AG'): (0.2238964, 0.002888), (2, 13, 'AG'): (0.4384836, 0.0001898), (2, 14, 'AG'): (0.0787858, 0.0053019), (2, 15, 'AG'): (0.0185307, 0.0008074), (2, 16, 'AG'): (0.2738581, 4.82e-05), (2, 17, 'AG'): (0.0361351, 0.003711), (2, 18, 'AG'): (0.3141738, 6.34e-05), (2, 19, 'AG'): (0.3057551, 9.16e-05), (2, 20, 'AG'): (0.5150636, 9.6e-05), (2, 11, 'AC'): (0.0935982, 0.0013493), (2, 12, 'AC'): (0.0704712, 0.0002003), (2, 13, 'AC'): (0.3592225, 0.0001424), (2, 14, 'AC'): (0.8744295, 6.03e-05), (2, 15, 'AC'): (0.8798988, 0.0002187), (2, 16, 'AC'): (0.2907548, 0.0004035), (2, 17, 'AC'): (0.5489162, 0.0009797), (2, 18, 'AC'): (0.7958652, 0.0009854), (2, 19, 'AC'): (0.9316609, 0.0012709), (2, 20, 'AC'): (0.6323601, 0.0018445), (3, 5, 'AAT'): (0.2553679, 0.000992), (3, 6, 'AAT'): (0.1552386, 3.46e-05), (3, 7, 'AAT'): (0.6152514, 5.9e-06), (3, 8, 'AAT'): (0.1018927, 1.57e-05), (3, 9, 'AAT'): (0.3745966, 1.99e-05), (3, 10, 'AAT'): (0.0136259, 0.0008006), (3, 11, 'AAT'): (0.2619924, 6.94e-05), (3, 12, 'AAT'): (0.5183104, 0.0001185), (3, 13, 'AAT'): (0.6960672, 0.0001463), (3, 5, 'ATC'): (0.1665666, 0.0025705), (3, 6, 'ATC'): (0.9467983, 0.0002003), (3, 7, 'ATC'): (0.8714842, 9.8e-06), (3, 8, 'ATC'): (0.5860225, 9.7e-06), (3, 9, 'ATC'): (0.219828, 6.03e-05), (3, 10, 'ATC'): (0.8285074, 4.39e-05), (3, 11, 'ATC'): (0.7897332, 2.42e-05), (3, 12, 'ATC'): (0.6242953, 6.65e-05), (3, 13, 'ATC'): (0.2327445, 0.0003691), (3, 5, 'AAG'): (0.7260783, 8.7e-06), (3, 6, 'AAG'): (0.2388748, 2.45e-05), (3, 7, 'AAG'): (0.2791274, 4.03e-05), (3, 8, 'AAG'): (0.4231961, 1.33e-05), (3, 9, 'AAG'): (0.2649115, 6.41e-05), (3, 10, 'AAG'): (0.9132213, 2.76e-05), (3, 11, 'AAG'): (0.9965875, 2.49e-05), (3, 12, 'AAG'): (0.830085, 3.63e-05), (3, 13, 'AAG'): (0.4179946, 0.0001871), (3, 5, 'AGG'): (0.4294712, 0.0008544), (3, 6, 'AGG'): (0.7968405, 2.85e-05), (3, 7, 'AGG'): (0.1805675, 9.33e-05), (3, 8, 'AGG'): (0.5521041, 1.74e-05), (3, 9, 'AGG'): (0.0459333, 0.0005946), (3, 10, 'AGG'): (0.4845828, 5.85e-05), (3, 11, 'AGG'): (0.0598948, 0.0004656), (3, 12, 'AGG'): (0.4623202, 9.99e-05), (3, 13, 'AGG'): (0.9412388, 5.35e-05), (3, 5, 'AGC'): (0.4260202, 0.0036433), (3, 6, 'AGC'): (0.6016253, 0.000133), (3, 7, 'AGC'): (0.5331706, 3.21e-05), (3, 8, 'AGC'): (0.376943, 5.96e-05), (3, 9, 'AGC'): (0.4473961, 3.65e-05), (3, 10, 'AGC'): (0.0518036, 0.0004113), (3, 11, 'AGC'): (0.040708, 0.0008292), (3, 12, 'AGC'): (0.1805084, 0.0008048), (3, 13, 'AGC'): (0.8849727, 5.22e-05), (3, 5, 'CCG'): (0.0710863, 0.0001606), (3, 6, 'CCG'): (0.1100685, 0.0001191), (3, 7, 'CCG'): (0.2148111, 5.84e-05), (3, 8, 'CCG'): (0.5508928, 8.4e-06), (3, 9, 'CCG'): (0.7377075, 2.99e-05), (3, 10, 'CCG'): (0.7949953, 3.16e-05), (3, 11, 'CCG'): (0.2044109, 9.88e-05), (3, 12, 'CCG'): (0.117589, 0.0002614), (3, 13, 'CCG'): (0.5008946, 0.0002125), (3, 5, 'AAC'): (0.0753629, 5.08e-05), (3, 6, 'AAC'): (0.2002267, 2.29e-05), (3, 7, 'AAC'): (0.2307079, 1.82e-05), (3, 8, 'AAC'): (0.9278126, 1.6e-06), (3, 9, 'AAC'): (0.2663778, 2.6e-05), (3, 10, 'AAC'): (0.0703417, 0.0001513), (3, 11, 'AAC'): (0.4275616, 3.75e-05), (3, 12, 'AAC'): (0.8433013, 5.28e-05), (3, 13, 'AAC'): (0.9419772, 7.22e-05), (3, 5, 'ACC'): (0.3937371, 0.0028017), (3, 6, 'ACC'): (0.4807701, 0.0001915), (3, 7, 'ACC'): (0.1701256, 0.0013575), (3, 8, 'ACC'): (0.6367095, 0.0004675), (3, 9, 'ACC'): (0.2043599, 0.0003713), (3, 10, 'ACC'): (0.9174541, 6.65e-05), (3, 11, 'ACC'): (0.4021732, 7.87e-05), (3, 12, 'ACC'): (0.4831496, 0.0004585), (3, 13, 'ACC'): (0.5456405, 0.0002575), (4, 7, 'AAAT'): (0.088701, 0.0484698), (4, 8, 'AAAT'): (0.123357, 0.000554), (4, 9, 'AAAT'): (0.9362909, 0.0037762), (4, 10, 'AAAT'): (0.9865929, 0.0038044), (4, 7, 'AATC'): (0.3577275, 0.00402), (4, 8, 'AATC'): (0.1635449, 0.0013926), (4, 9, 'AATC'): (0.0371904, 0.0040048), (4, 10, 'AATC'): (0.8566225, 0.000182), (4, 7, 'AATG'): (0.0867726, 0.03681), (4, 8, 'AATG'): (0.6331391, 0.0002601), (4, 9, 'AATG'): (0.4200603, 0.0032035), (4, 10, 'AATG'): (0.8977835, 0.0031242), (4, 7, 'ATCC'): (0.3392852, 0.0037502), (4, 8, 'ATCC'): (0.8577627, 1.65e-05), (4, 9, 'ATCC'): (0.3090306, 0.0023841), (4, 10, 'ATCC'): (0.5565808, 0.0106029), (4, 7, 'AAAG'): (0.4564576, 5.97e-05), (4, 8, 'AAAG'): (0.4992683, 6.94e-05), (4, 9, 'AAAG'): (0.1903924, 0.0001995), (4, 10, 'AAAG'): (0.5850706, 4.93e-05), (4, 7, 'AAGG'): (0.1417358, 0.003364), (4, 8, 'AAGG'): (0.9634375, 2.54e-05), (4, 9, 'AAGG'): (0.3769388, 8.33e-05), (4, 10, 'AAGG'): (0.9035054, 3.43e-05), (4, 7, 'AGAT'): (0.8288602, 1.07e-05), (4, 8, 'AGAT'): (0.6844308, 7.24e-05), (4, 9, 'AGAT'): (0.5915091, 0.0001055), (4, 10, 'AGAT'): (0.9766614, 8.24e-05), (4, 7, 'AAAC'): (0.1512014, 0.0050953), (4, 8, 'AAAC'): (0.9544271, 0.0004059), (4, 9, 'AAAC'): (0.7698232, 0.0014165), (4, 10, 'AAAC'): (0.8938824, 0.0024388), (4, 7, 'ACAT'): (0.1562093, 0.0304565), (4, 8, 'ACAT'): (0.1779728, 0.0035083), (4, 9, 'ACAT'): (0.7236019, 0.0054058), (4, 10, 'ACAT'): (0.9958601, 0.0024748)}\n"
     ]
    }
   ],
   "source": [
    "# Read in joint results\n",
    "joint_results = {}\n",
    "sistr2_scores_file = open('/storage/BonnieH/selection_project/analysis/SISTR2_scores_by_motif.txt', 'r')\n",
    "sistr2_scores_file.readline()\n",
    "for line in sistr2_scores_file:\n",
    "    info = line.strip().split('\\t')\n",
    "    period = int(info[0])\n",
    "    optimal_ru = int(info[1])\n",
    "    motif = info[2]\n",
    "    est_a = float(info[4])\n",
    "    est_b = float(info[5])\n",
    "    joint_results[(period,optimal_ru,motif)] = (est_a,est_b)\n",
    "print(joint_results)\n",
    "sistr2_scores_file.close()"
   ]
  },
  {
   "cell_type": "code",
   "execution_count": 40,
   "metadata": {},
   "outputs": [
    {
     "name": "stdout",
     "output_type": "stream",
     "text": [
      "NA12864 STR Reduction in Fitness\n",
      "Standing variation burden = 54.95 (Calculated from 35620 alleles)\n",
      "Total number of alleles: 147548\n"
     ]
    },
    {
     "data": {
      "text/plain": [
       "'\\n# Write results by class to file\\nif use_joint == True:\\n    results_file = open(sample+\"_burden_by_class.txt\",\"w\")\\nelse: \\n    results_file = open(sample+\"_burden_by_class_per_locus.txt\",\"w\")\\nresults_file.write(\"Motif\" + \"\\t\" + \"Optimal_allele\" + \"\\t\" + \"Total_num_alleles\" + \"\\t\" + \"Num_variant_alleles\" + \"\\t\" + \"Burden\" + \"\\t\" + \"Expected_s_value\" + \"\\n\")\\nfor str_class in burden_by_class:\\n    results_file.write(str(str_class[0])+\"\\t\"+str(str_class[1])+\"\\t\"+str(burden_by_class[str_class][0])+\"\\t\"+str(burden_by_class[str_class][1])+\"\\t\"+str(burden_by_class[str_class][2])+\"\\t\"+str(burden_by_class[str_class][3])+\"\\n\")\\nresults_file.close()\\n'"
      ]
     },
     "execution_count": 40,
     "metadata": {},
     "output_type": "execute_result"
    }
   ],
   "source": [
    "sample = 'NA12864' # Change sample name based on the sample you would like to analyze\n",
    "use_joint = True\n",
    "# Calculate burden from standing variation using joint or per locus scores\n",
    "sample_info_file = open('/storage/BonnieH/selection_project/1000genomes/euro_allele_freqs/' + sample + '_filtered.txt', 'r') \n",
    "\n",
    "# Change sistr_scores_file variable according to whether want to use joint or per locus scores\n",
    "\n",
    "# Joint scores\n",
    "if use_joint == True:\n",
    "    sistr_scores_file = open('/storage/BonnieH/selection_project/1000genomes/euro_allele_freqs/1kg_allele_freqs_with_sistr2_scores_no_chr.txt', 'r')\n",
    "\n",
    "# Per-locus scores\n",
    "if use_joint == False:\n",
    "    sistr_scores_file = open('/storage/BonnieH/selection_project/1000genomes/euro_allele_freqs/'+sample+'_per_locus_scores_file.txt', 'r')\n",
    "\n",
    "# Column headers for above file: chrom, pos, per, optimal allele, motif\n",
    "#sample_info_file.readline()\n",
    "#sistr_scores_file.readline()\n",
    "\n",
    "burden_list_joint = [] # List of burdens\n",
    "diff_list = [] # List of differences between optimal allele and individual's genotype\n",
    "count_loci = 0\n",
    "\n",
    "burden_by_class = {}\n",
    "for line1, line2 in zip(sistr_scores_file, sample_info_file):\n",
    "    \n",
    "    cont = True\n",
    "    # Get information from line - joint scores file\n",
    "    if use_joint == True:\n",
    "        info = line1.strip().split('\\t')\n",
    "        chrom = info[0]\n",
    "        start = int(info[1])\n",
    "        per = int(info[2])\n",
    "        opt_allele = int(info[3])\n",
    "        motif = info[4]\n",
    "    \n",
    "    # Get information from line - per locus scores file\n",
    "    if use_joint == False:\n",
    "        info = line1.strip().split('\\t')\n",
    "        chrom = info[0]\n",
    "        start = int(info[1])\n",
    "        per = int(info[4])\n",
    "        opt_allele = int(info[5])\n",
    "        motif = info[6]\n",
    "        s_val = info[7]\n",
    "        if s_val == 'N/A':\n",
    "            cont = False\n",
    "            #print('NA sval')\n",
    "        else:\n",
    "            s_val = float(info[7])\n",
    "    \n",
    "    if cont == True: \n",
    "        \n",
    "        info = line2.strip().split('\\t')\n",
    "        chromosome = info[0]\n",
    "        pos = int(info[1])\n",
    "        if chromosome != chrom or start != pos:\n",
    "            print('Does not match')\n",
    "            print((chrom, chromosome))\n",
    "            print((start, pos))\n",
    "        geno1 = int(info[2])\n",
    "        geno2 = int(info[3])\n",
    "        \n",
    "        if geno1 != 0 and geno2 != 0:\n",
    "            \n",
    "            count_variant_alleles = 0\n",
    "            count_loci = count_loci + 1\n",
    "            diff1 = geno1 - opt_allele\n",
    "            diff2 = geno2 - opt_allele\n",
    "            if diff1 != 0:\n",
    "                diff_list.append(diff1)\n",
    "                count_variant_alleles = count_variant_alleles + 1\n",
    "            if diff2 != 0:\n",
    "                diff_list.append(diff2)\n",
    "                count_variant_alleles = count_variant_alleles + 1\n",
    "\n",
    "            # Calculate burden\n",
    "\n",
    "            if (per, opt_allele, motif) in joint_results:\n",
    "                \n",
    "                # Joint scores\n",
    "                if use_joint == True:\n",
    "                    a = joint_results[(per, opt_allele, motif)][0]\n",
    "                    b = joint_results[(per, opt_allele, motif)][1]\n",
    "                    s_val = a*b\n",
    "                #s_val = np.random.gamma(a, b)\n",
    "                #if s_val > 1:\n",
    "                    #s_val = 1\n",
    "                \n",
    "                burden1 = abs(diff1*s_val)\n",
    "                burden2 = abs(diff2*s_val)\n",
    "                if burden1 > 1:\n",
    "                    burden1 = 1\n",
    "                if burden2 > 1:\n",
    "                    burden2 = 1\n",
    "                if diff1 != 0:\n",
    "                    if burden1 < 10**-5:\n",
    "                        burden1 = 0\n",
    "                    burden_list_joint.append(burden1)\n",
    "                if diff2 != 0:\n",
    "                    if burden2 < 10**-5:\n",
    "                        burden2 = 0\n",
    "                    burden_list_joint.append(burden2)\n",
    "                    \n",
    "                if (motif, opt_allele) not in burden_by_class:\n",
    "                    burden_by_class[(motif, opt_allele)] = [2, count_variant_alleles, burden1 + burden2, s_val]\n",
    "                    \n",
    "                else:\n",
    "                    burden_by_class[(motif, opt_allele)][0] = burden_by_class[(motif, opt_allele)][0] + 2\n",
    "                    burden_by_class[(motif, opt_allele)][1] = burden_by_class[(motif, opt_allele)][1] + count_variant_alleles\n",
    "                    burden_by_class[(motif, opt_allele)][2] = burden_by_class[(motif,opt_allele)][2] + burden1 + burden2\n",
    "                    \n",
    "    \n",
    "sistr_scores_file.close()\n",
    "sample_info_file.close()\n",
    "\n",
    "print(\"%s STR Reduction in Fitness\" %(sample))\n",
    "print(\"Standing variation burden = %.2f (Calculated from %d alleles)\" %(np.sum(burden_list_joint), len(burden_list_joint)))\n",
    "print(\"Total number of alleles: %d\" %(count_loci*2))\n",
    "\n",
    "\n",
    "# Write burden results to file\n",
    "results_file = open(sample+\"_inherited_burden_upd.txt\",\"w\")\n",
    "results_file.write(\"Variation from optimal allele\" + \"\\t\" + \"Inherited burden\" + \"\\n\")\n",
    "for i in range(0, len(burden_list_joint)):\n",
    "    results_file.write(str(diff_list[i])+\"\\t\"+str(burden_list_joint[i])+\"\\n\")\n",
    "results_file.close()\n",
    "\n",
    "\n",
    "'''\n",
    "# Write results by class to file\n",
    "if use_joint == True:\n",
    "    results_file = open(sample+\"_burden_by_class.txt\",\"w\")\n",
    "else: \n",
    "    results_file = open(sample+\"_burden_by_class_per_locus.txt\",\"w\")\n",
    "results_file.write(\"Motif\" + \"\\t\" + \"Optimal_allele\" + \"\\t\" + \"Total_num_alleles\" + \"\\t\" + \"Num_variant_alleles\" + \"\\t\" + \"Burden\" + \"\\t\" + \"Expected_s_value\" + \"\\n\")\n",
    "for str_class in burden_by_class:\n",
    "    results_file.write(str(str_class[0])+\"\\t\"+str(str_class[1])+\"\\t\"+str(burden_by_class[str_class][0])+\"\\t\"+str(burden_by_class[str_class][1])+\"\\t\"+str(burden_by_class[str_class][2])+\"\\t\"+str(burden_by_class[str_class][3])+\"\\n\")\n",
    "results_file.close()\n",
    "'''"
   ]
  },
  {
   "cell_type": "code",
   "execution_count": 41,
   "metadata": {},
   "outputs": [
    {
     "data": {
      "text/plain": [
       "Text(0.5, 1.0, 'NA12864 \\n Number of alleles with variation: 35620/147548')"
      ]
     },
     "execution_count": 41,
     "metadata": {},
     "output_type": "execute_result"
    },
    {
     "data": {
      "image/png": "[encoded data removed]",
      "text/plain": [
       "<Figure size 432x288 with 1 Axes>"
      ]
     },
     "metadata": {
      "needs_background": "light"
     },
     "output_type": "display_data"
    }
   ],
   "source": [
    "plt.hist(diff_list, color='black', bins = np.arange(-20,20,1), weights = np.ones_like(diff_list)/len(diff_list))\n",
    "plt.xlabel('Size of variation (No. of repeat units away from optimal allele)')\n",
    "plt.ylabel('Fraction of STR variation')\n",
    "plt.title('%s \\n Number of alleles with variation: %d/%d'%(sample, len(diff_list), count_loci*2))\n",
    "#print(diff_list)"
   ]
  },
  {
   "cell_type": "code",
   "execution_count": 42,
   "metadata": {},
   "outputs": [],
   "source": [
    "# Calculate burden of de novo mutations from model: Burden_de_novo=Num_loci*2*(P(mutation_i_units)*s*i)\n",
    "\n",
    "if calc_de_novo == True:\n",
    "\n",
    "    # List contents: mu, beta, p, l, optimal ru for the mu value\n",
    "    # Mutation model parameters for different motifs\n",
    "    motif_info = {}\n",
    "    motif_info['eurodem_prior2_dinuc_e_1kg_euro'] = [10**-5, 0.3, 0.6, 0.15, 6]\n",
    "    motif_info['eurodem_prior2_dinuc_d_1kg_euro'] = [10**-4.6, 0.3, 0.6, 0.135, 6]\n",
    "    motif_info['eurodem_prior2_trinuc_e_1kg_euro'] = [10**-6, 0.3, 0.9, 0.3, 5] \n",
    "    motif_info['eurodem_prior2_tetranuc_b_1kg_euro'] = [10**-5, 0.3, 0.9, 0.25, 3]\n",
    "    motif_info['eurodem_prior2_tetranuc_c_1kg_euro'] = [10**-5.5, 0.3, 0.9, 0.42, 3]\n",
    "    motif_info['eurodem_prior2_tetranuc_d_1kg_euro'] = [10**-6, 0.3, 0.9, 0.45, 3]\n",
    "    \n",
    "    # Mutation model settings for different motifs (inferred by SISTR2)\n",
    "    trinuc_motifs = ['ACC','AGG','AGC','CCG','AAG','AAC','ATC','AAT']\n",
    "    dinuc_motifs  = ['AC','AG','AT'] \n",
    "    tetranuc_motifs = ['AAGG','AAAT','ATCC','AATC','AAAC','AATG','ACAT','AGAT','AAAG'] \n",
    "    mut_setting = {}\n",
    "    mut_setting['AC'] = 'eurodem_prior2_dinuc_e_1kg_euro'\n",
    "    mut_setting['AG'] = 'eurodem_prior2_dinuc_e_1kg_euro'\n",
    "    mut_setting['AT'] = 'eurodem_prior2_dinuc_d_1kg_euro'\n",
    "    for mot in trinuc_motifs:\n",
    "        mut_setting[mot] = 'eurodem_prior2_trinuc_e_1kg_euro'\n",
    "    for mot in ['AAAG', 'AAGG', 'AGAT']:\n",
    "        mut_setting[mot] = 'eurodem_prior2_tetranuc_b_1kg_euro'\n",
    "    for mot in ['ACAT', 'AAAT']:\n",
    "        mut_setting[mot] = 'eurodem_prior2_tetranuc_c_1kg_euro'\n",
    "    for mot in ['AATC', 'AATG', 'ATCC', 'AAAC']:\n",
    "        mut_setting[mot] = 'eurodem_prior2_tetranuc_d_1kg_euro'\n",
    "    \n",
    "    # Read in joint results\n",
    "    joint_results = {}\n",
    "    sistr2_scores_file = open('/storage/BonnieH/selection_project/analysis/SISTR2_scores_by_motif_corrected_num_loci.txt', 'r')\n",
    "    sistr2_scores_file.readline()\n",
    "    for line in sistr2_scores_file:\n",
    "        info = line.strip().split('\\t')\n",
    "        period = int(info[0])\n",
    "        optimal_ru = int(info[1])\n",
    "        motif = info[2]\n",
    "        num_loci = int(info[3])\n",
    "        est_a = float(info[4])\n",
    "        est_b = float(info[5])\n",
    "        joint_results[(period,optimal_ru,motif,num_loci)] = (est_a,est_b)\n",
    "    #print(joint_results)\n",
    "    sistr2_scores_file.close()\n",
    "    \n",
    "    # Keep track of burdens for each motif\n",
    "    burden_for_each_motif = {}\n",
    "    for motif in trinuc_motifs:\n",
    "        burden_for_each_motif[motif] = []\n",
    "    for motif in dinuc_motifs:\n",
    "        burden_for_each_motif[motif] = []\n",
    "    for motif in tetranuc_motifs:\n",
    "        burden_for_each_motif[motif] = []\n",
    "    \n",
    "    # Calculate de novo burden\n",
    "    de_novo_burden = 0\n",
    "    for elem in joint_results:\n",
    "        num_loci = elem[3]\n",
    "        for i in range(-20, 20):\n",
    "            setting_info = mut_setting[elem[2]]\n",
    "            mut_info = motif_info[setting_info]\n",
    "            \n",
    "            # Calculate mu\n",
    "            log_mu_prime = np.log10(mut_info[0])+mut_info[3]*(elem[1] - mut_info[4])\n",
    "            mu_prime = 10**log_mu_prime\n",
    "            if mu_prime < 10**-8: mu_prime = 10**-8 \n",
    "            if mu_prime > 10**-3: mu_prime = 10**-3\n",
    "                \n",
    "            # Get probability of mutation and calculate de novo burden\n",
    "            if elem[1] + i > 0:\n",
    "                # beta = mut_info[1]\n",
    "                # p = mut_info[2]\n",
    "                prob_mutation = GetStepSizeProb(0, i, mut_info[1], mut_info[2])\n",
    "                prob_mutation = prob_mutation * mu_prime\n",
    "                de_novo_burden = de_novo_burden + num_loci*2*prob_mutation*joint_results[elem][0]*joint_results[elem][1]*abs(i)\n",
    "                burden_for_each_motif[elem[2]].append(num_loci*2*prob_mutation*joint_results[elem][0]*joint_results[elem][1]*abs(i))\n",
    "                \n",
    "                # Note: Num_loci*2*(P(mutation_i_units)*s*i) = num_loci*2*prob_mutation*joint_results[elem][0]*joint_results[elem][1]*abs(i)\n",
    "                # s is calculated as E[s] = a*b in gamma distribution\n",
    "                \n",
    "    print(de_novo_burden)\n",
    "    sum_burdens = []\n",
    "    for motif in burden_for_each_motif:\n",
    "        print(motif)\n",
    "        print(sum(burden_for_each_motif[motif]))\n",
    "        sum_burdens.append(sum(burden_for_each_motif[motif]))\n",
    "    print(sum(sum_burdens))\n",
    "    #print(burden_for_each_motif)"
   ]
  }
 ],
 "metadata": {
  "kernelspec": {
   "display_name": "Python 3",
   "language": "python",
   "name": "python3"
  },
  "language_info": {
   "codemirror_mode": {
    "name": "ipython",
    "version": 3
   },
   "file_extension": ".py",
   "mimetype": "text/x-python",
   "name": "python",
   "nbconvert_exporter": "python",
   "pygments_lexer": "ipython3",
   "version": "3.7.4"
  }
 },
 "nbformat": 4,
 "nbformat_minor": 2
}
