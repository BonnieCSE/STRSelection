{
 "cells": [
  {
   "cell_type": "markdown",
   "metadata": {},
   "source": [
    "This notebook contains code to plot scatterplots/boxplots of the accepted gamma distribution parameters by optimal allele"
   ]
  },
  {
   "cell_type": "code",
   "execution_count": 10,
   "metadata": {},
   "outputs": [
    {
     "name": "stdout",
     "output_type": "stream",
     "text": [
      "Populating the interactive namespace from numpy and matplotlib\n"
     ]
    }
   ],
   "source": [
    "%pylab inline\n",
    "import glob\n",
    "import numpy as np\n",
    "import sys\n",
    "import seaborn as sns\n",
    "sys.path.append(\"/storage/BonnieH/selection_project/helper_functions\")\n",
    "from Joint_method_functions import *\n",
    "import matplotlib\n",
    "from matplotlib import pyplot as plt\n",
    "matplotlib.rcParams['pdf.fonttype'] = 42\n",
    "matplotlib.rcParams['ps.fonttype'] = 42\n",
    "PLOTDIR = '/storage/BonnieH/selection_project/figures/supp_figures/opt_allele_scatter_boxplots/'"
   ]
  },
  {
   "cell_type": "code",
   "execution_count": 11,
   "metadata": {},
   "outputs": [],
   "source": [
    "# PLot cdf of gamma distribution posterior estimates for real data\n",
    "\n",
    "def main():\n",
    "        \n",
    "    print('Running main')\n",
    "    \n",
    "    folder = 'motif_analysis_diff_mu_071921'\n",
    "    fig_num = 0\n",
    "    per = 2\n",
    "    \n",
    "    color_list = ['red','orange','lawngreen','forestgreen','turquoise','blue','purple','brown','slategray','yellow','gold']\n",
    "    \n",
    "    color_list_opt = ['lightskyblue','deepskyblue','blue','midnightblue']\n",
    "    motif_dic = {}\n",
    "    motif_dic[2] = ['AC']\n",
    "    motif_dic[3] = ['AAT']\n",
    "    motif_dic[4] = ['AAAC']\n",
    "    motif_dic[5] = ['11']\n",
    "    \n",
    "    categories_list = [7,8,9,10,11,12]\n",
    "    \n",
    "    func_dic = {}\n",
    "    func_dic['7'] = 'Coding'\n",
    "    func_dic['8'] = 'Intron'\n",
    "    func_dic['9'] = \"5'UTR\"\n",
    "    func_dic['10'] = \"3'UTR\"\n",
    "    func_dic['11'] = \"Promoter\"\n",
    "    func_dic['12'] = \"Intergenic\"\n",
    "    \n",
    "    subplots_dic = {}\n",
    "    subplots_dic[2] = [(3,4,1),(3,4,2),(3,4,3),(3,4,4),(3,4,5),(3,4,6),(3,4,7),(3,4,8),(3,4,10),(3,4,11)]\n",
    "    subplots_dic[3] = [(3,3,1),(3,3,2),(3,3,3),(3,3,4),(3,3,5),(3,3,6),(3,3,7),(3,3,8),(3,3,9)]\n",
    "    subplots_dic[4] = [(2,2,1),(2,2,2),(2,2,3),(2,2,4)]\n",
    "    \n",
    "    opt_dic = {}\n",
    "    opt_dic[2] = [11,14,17,20] \n",
    "    opt_dic[3] = [5,8,10,13]\n",
    "    opt_dic[4] = range(7,11,1)\n",
    "    opt_dic[5] = [5,8,10,13]\n",
    "    \n",
    "    gamma_dic = {}\n",
    "    color_dic_motif={}\n",
    "    color_dic_opt={}\n",
    "    i = -1\n",
    "    for motif in motif_dic[per]:\n",
    "        gamma_dic[motif] = []\n",
    "        i = i + 1\n",
    "        color_dic_motif[motif] = color_list[i]\n",
    "            \n",
    "    # Plot motifs (sep graph for each opt allele)\n",
    "    plt.figure(2)\n",
    "    for motif in motif_dic[per]:\n",
    "        \n",
    "        opt_alleles = opt_dic[per]\n",
    "        \n",
    "        index = -1\n",
    "        i = -1\n",
    "        blue = 0\n",
    "        for opt in opt_alleles:\n",
    "            i = i + 1\n",
    "            blue = blue + 0.07\n",
    "            x = []\n",
    "            y = []\n",
    "            opt_string = str(opt)\n",
    "            if opt < 10:\n",
    "                opt_string = '0' + opt_string\n",
    "            \n",
    "            file_list = glob.glob('/gymreklab-tscc/bonnieh/joint_method/results_top_x/%s/per_%d_%s*_opt_%s.txt'%(folder, per, motif, opt_string))\n",
    "            \n",
    "            file_list.sort() \n",
    "            \n",
    "            base_plot = ''\n",
    "            \n",
    "            for filename in file_list:\n",
    "               \n",
    "                results_file = open(filename, 'r')\n",
    "                lines = results_file.readlines()\n",
    "                line = lines[4]\n",
    "                info = line.strip().split(': ')\n",
    "                num_acc = int(info[1])\n",
    "                line = lines[1]\n",
    "                info = line.strip().split(': ')\n",
    "\n",
    "                # Uses actual num loci\n",
    "                num_loci = int(info[2])\n",
    "                \n",
    "                if num_acc > 0: # and num_loci >= 10:\n",
    "\n",
    "                    line = lines[2]\n",
    "                    info = line.strip().split(': ')\n",
    "                    column = info[1]\n",
    "                    column = column.strip().split(' ')\n",
    "                    column = int(column[0])\n",
    "                    opt_allele = int(info[3])\n",
    "                    line = lines[6]\n",
    "                    info = line.strip().split(',')\n",
    "                    med_a = float(info[0])\n",
    "                    med_b = float(info[1])\n",
    "                    line = lines[10]       \n",
    "                    info = line.strip().split(': ')\n",
    "                    params = info[1]\n",
    "                    params = params.strip().split('), ')\n",
    "                    params_list = []\n",
    "\n",
    "                    \n",
    "                    for param in params:\n",
    "                        param = param[1:]\n",
    "                        if param[-1] == ')':\n",
    "                            param = param[:-1]\n",
    "                        param = param.strip().split(', ')\n",
    "                        params_list.append(((float(param[0])), float(param[1])))\n",
    "                        x.append(float(param[0]))\n",
    "                        y.append(float(param[1]))\n",
    "                    \n",
    "                    if column != 'H':\n",
    "                        line = lines[6]\n",
    "                        info = line.strip().split(',')\n",
    "                        k = float(info[0])\n",
    "                        theta = float(info[1])\n",
    "                        \n",
    "                        gamma_dic[motif].append((k, theta, num_loci, opt))\n",
    "        \n",
    "                    plt.scatter(x, y, label = opt_string, marker='.')\n",
    "                    plt.plot(med_a, med_b, marker='*',markeredgecolor= \"black\",markeredgewidth=3,markersize=20)\n",
    "    plt.yscale('log')\n",
    "    #plt.ylim([10**-7,1])\n",
    "    plt.legend()\n",
    "    plt.xlabel('a value')\n",
    "    plt.ylabel('b value')\n",
    "    #plt.title('Accepted parameters: Optimal allele ' + str(opt_string))\n",
    "    plt.title('Accepted parameters: Motif ' + str(motif))\n",
    "    #plt.title('Accepted parameters: %s'%(func_dic[motif]))\n",
    "    plt.savefig(PLOTDIR + 'scatter_motif_%s.pdf'%(motif),bbox_inches='tight')\n",
    "\n",
    "    "
   ]
  },
  {
   "cell_type": "code",
   "execution_count": 12,
   "metadata": {},
   "outputs": [
    {
     "name": "stdout",
     "output_type": "stream",
     "text": [
      "Running main\n",
      "CPU times: user 1.26 s, sys: 41 ms, total: 1.3 s\n",
      "Wall time: 1.41 s\n"
     ]
    },
    {
     "data": {
      "image/png": "[encoded data removed]",
      "text/plain": [
       "<Figure size 432x288 with 1 Axes>"
      ]
     },
     "metadata": {
      "needs_background": "light"
     },
     "output_type": "display_data"
    }
   ],
   "source": [
    "%%time\n",
    "if __name__ == '__main__':\n",
    "    main()"
   ]
  }
 ],
 "metadata": {
  "kernelspec": {
   "display_name": "Python 3",
   "language": "python",
   "name": "python3"
  },
  "language_info": {
   "codemirror_mode": {
    "name": "ipython",
    "version": 3
   },
   "file_extension": ".py",
   "mimetype": "text/x-python",
   "name": "python",
   "nbconvert_exporter": "python",
   "pygments_lexer": "ipython3",
   "version": "3.7.4"
  }
 },
 "nbformat": 4,
 "nbformat_minor": 2
}
