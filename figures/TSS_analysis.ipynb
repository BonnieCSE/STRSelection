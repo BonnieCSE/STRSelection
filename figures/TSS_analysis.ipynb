{
 "cells": [
  {
   "cell_type": "code",
   "execution_count": 81,
   "metadata": {},
   "outputs": [
    {
     "name": "stdout",
     "output_type": "stream",
     "text": [
      "Populating the interactive namespace from numpy and matplotlib\n"
     ]
    }
   ],
   "source": [
    "%pylab inline\n",
    "import matplotlib"
   ]
  },
  {
   "cell_type": "code",
   "execution_count": 82,
   "metadata": {},
   "outputs": [],
   "source": [
    "annotations_file_name = '/storage/BonnieH/selection_project/annotations/ccds.txt'\n",
    "#sistr_file_name = '/storage/BonnieH/selection_project/per_locus/SISTR_results/SSC_scores.txt'\n",
    "sistr_file_name = '/storage/BonnieH/selection_project/1000genomes/euro_allele_freqs/SISTR_per_locus_scores_filt_w_total_thresh.txt'"
   ]
  },
  {
   "cell_type": "code",
   "execution_count": 83,
   "metadata": {},
   "outputs": [],
   "source": [
    "def getNearestDist(s_ABC_round, s_list_available):\n",
    "    min_dist = 100000000000000000000000000000000\n",
    "    nearest_s = -2\n",
    "    for elem in s_list_available:\n",
    "        dist = abs(s_ABC_round - elem)\n",
    "        if dist < min_dist:\n",
    "            min_dist = dist\n",
    "            nearest_s = elem\n",
    "    return nearest_s"
   ]
  },
  {
   "cell_type": "code",
   "execution_count": 84,
   "metadata": {},
   "outputs": [],
   "source": [
    "def main():\n",
    "    # Get all TSS\n",
    "    motif_to_use = 'AT'\n",
    "    \n",
    "    minus_tss = {}\n",
    "    plus_tss = {}\n",
    "    chrom_numbers = list(range(1,23))\n",
    "    chrom_list = []\n",
    "    print(chrom_numbers)\n",
    "\n",
    "    for chrom in chrom_numbers:\n",
    "        minus_tss['chr'+str(chrom)] = []\n",
    "        plus_tss['chr'+str(chrom)] = []\n",
    "        chrom_list.append('chr' + str(chrom))\n",
    "\n",
    "    annotations_file = open(annotations_file_name, 'r')\n",
    "    header = annotations_file.readline().strip().split('\\t')\n",
    "    \n",
    "    # Get information from line\n",
    "    for line in annotations_file:\n",
    "        info = line.strip().split('\\t')\n",
    "        chrom = info[0]\n",
    "        start = int(info[1])\n",
    "        end = int(info[2])\n",
    "        strand = info[5]\n",
    "        if chrom in chrom_list:\n",
    "            if strand == '+':\n",
    "                if start not in plus_tss[chrom]:\n",
    "                    plus_tss[chrom].append(start)\n",
    "\n",
    "            if strand == '-':\n",
    "                if end not in minus_tss[chrom]:\n",
    "                    minus_tss[chrom].append(end)\n",
    "\n",
    "    annotations_file.close()\n",
    "    print(len(minus_tss))\n",
    "    print(len(plus_tss))\n",
    "    #for chrom in chrom_numbers:\n",
    "        #print(len(plus_tss['chr'+str(chrom)]))\n",
    "    #print(minus_tss[1])\n",
    "    \n",
    "    sistr_file = open(sistr_file_name, 'r')\n",
    "    header = sistr_file.readline().strip().split('\\t')\n",
    "\n",
    "    x = []\n",
    "    y = []\n",
    "    i = 0\n",
    "    j = 0\n",
    "    bins = []\n",
    "    scores = {}\n",
    "    \n",
    "    # Initialize scores dictionary\n",
    "    start_bin = -10000 \n",
    "    bin_incr =1000\n",
    "    num_bins= int(20000/bin_incr)\n",
    "    for l in range(0, num_bins):\n",
    "        scores[start_bin] = []\n",
    "        start_bin = start_bin + bin_incr\n",
    "    \n",
    "    # print(scores)\n",
    "    # Get information from line\n",
    "    for line in sistr_file:\n",
    "        i = i + 1\n",
    "        #if i%1000 == 0:\n",
    "            #print(i)\n",
    "        info = line.strip().split('\\t')\n",
    "        chrom = int(info[0])\n",
    "        start = int(info[1])\n",
    "        end = int(info[2])\n",
    "        middle = int((start+end)/2)\n",
    "        total = int(info[3])\n",
    "        period = int(info[4])\n",
    "        opt_allele = int(info[5])\n",
    "        sistr_score = info[9]\n",
    "        p_val = info[16]\n",
    "        motif = info[6]\n",
    "        if sistr_score != 'N/A' and period == 3 and opt_allele > 8: #and motif == motif_to_use: #total > 5214\n",
    "            j = j +1 \n",
    "            sistr_score = float(info[9])\n",
    "            p_val = float(info[16])\n",
    "            plus_list = plus_tss['chr'+str(chrom)]\n",
    "            minus_list = minus_tss['chr'+str(chrom)]\n",
    "            plus_closest = getNearestDist(middle, plus_list)\n",
    "            minus_closest = getNearestDist(middle, minus_list)\n",
    "\n",
    "            #plus_closest = closest(plus_list,end)\n",
    "            #minus_closest = closest(minus_list,start)\n",
    "            \n",
    "            #if plus_closest - middle < 10000 and plus_closest-middle > -10000:\n",
    "            if middle - plus_closest < 10000 and middle - plus_closest > -10000:\n",
    "                x.append(middle - plus_closest)\n",
    "                y.append(np.log10(sistr_score))\n",
    "                distance = middle - plus_closest\n",
    "                start_bin = -10000\n",
    "                count = 0\n",
    "                for k in range(0, num_bins):\n",
    "                    if distance > start_bin and distance < start_bin + bin_incr:\n",
    "                        if sistr_score < 10**-7:\n",
    "                            sistr_score = 10**-6\n",
    "                        #scores[start_bin].append(np.log10(sistr_score))\n",
    "                        #scores[start_bin].append(sistr_score)\n",
    "                        scores[start_bin].append(p_val)\n",
    "                        count = count + 1\n",
    "                    start_bin = start_bin + bin_incr\n",
    "                if count != 1:\n",
    "                    print('weird')\n",
    "                \n",
    "            if minus_closest - middle < 10000 and minus_closest - middle > -10000:\n",
    "            #if middle - minus_closest < 10000 and middle - minus_closest > -10000:\n",
    "                x.append(minus_closest - middle)\n",
    "                y.append(np.log10(sistr_score))\n",
    "                distance =  minus_closest - middle\n",
    "                \n",
    "                start_bin = -10000\n",
    "                count = 0\n",
    "                for k in range(0, num_bins):\n",
    "                    if distance > start_bin and distance < start_bin + bin_incr:\n",
    "                        if sistr_score < 10**-7:\n",
    "                            sistr_score = 10**-6\n",
    "                        #scores[start_bin].append(np.log10(sistr_score))\n",
    "                        #scores[start_bin].append(sistr_score)\n",
    "                        scores[start_bin].append(p_val)\n",
    "                        count = count + 1\n",
    "                    start_bin = start_bin + bin_incr\n",
    "                if count != 1:\n",
    "                    print('weird')\n",
    "            \n",
    "            '''\n",
    "            if abs(plus_closest-middle) < abs(minus_closest-middle):\n",
    "                distance = plus_closest-middle\n",
    "\n",
    "            else:\n",
    "                distance = middle-minus_closest\n",
    "            if distance < 10000 and distance > -10000:\n",
    "                \n",
    "                x.append(distance)\n",
    "                y.append(np.log10(sistr_score))\n",
    "                \n",
    "                start_bin = -10000\n",
    "                count = 0\n",
    "                for k in range(0, num_bins):\n",
    "                    if distance > start_bin and distance < start_bin + bin_incr:\n",
    "                        if sistr_score < 10**-7:\n",
    "                            sistr_score = 10**-6\n",
    "                        #scores[start_bin].append(np.log10(sistr_score))\n",
    "                        scores[start_bin].append(sistr_score)\n",
    "                        count = count + 1\n",
    "                    start_bin = start_bin + bin_incr\n",
    "                if count != 1:\n",
    "                    print('weird')\n",
    "            '''\n",
    "            \n",
    "    sistr_file.close()\n",
    "    print(j)\n",
    "    print(len(x))\n",
    "    \n",
    "    x_val = []\n",
    "    y_val = []\n",
    "    start_bin = -10000\n",
    "    print('Size of each bin')\n",
    "    for l in range(0, num_bins):\n",
    "        score_list = scores[start_bin]\n",
    "        \n",
    "        print(len(score_list))\n",
    "        #print(start_bin)\n",
    "        num_zero = score_list.count(0)\n",
    "        #print(num_zero/len(score_list)\n",
    "        #print(np.mean(score_list))\n",
    "        #print(len(score_list))\n",
    "        #print(sum(i > 0.005 for i in score_list)/len(score_list))\n",
    "        x_val.append(start_bin+int(bin_incr/2))\n",
    "        #y_val.append(sum(i > 0.001 for i in score_list)/len(score_list))\n",
    "        y_val.append(sum(i < 0.1 for i in score_list)/len(score_list))\n",
    "        #y_val.append(num_zero/len(score_list))\n",
    "        #y_val.append(np.mean(score_list))\n",
    "        #y_val.append(np.median(score_list))\n",
    "        start_bin = start_bin + bin_incr\n",
    "        \n",
    "    plt.figure(1)\n",
    "    plt.plot(x_val,y_val,marker='o')\n",
    "    plt.title('Period 3')# %s'%(motif_to_use))# %(motif_to_use)\n",
    "    plt.xlabel('Distance to TSS')\n",
    "    #plt.ylabel('Median s')\n",
    "    #plt.ylabel('Mean s')\n",
    "    #plt.ylabel('Percent s > 0.001')\n",
    "    plt.ylabel('Percent LRT p < 0.1')\n",
    "    plt.figure(2)\n",
    "    plt.scatter(x,y,s=1)\n",
    "    #plt.yscale('log')\n",
    "    #plt.ylim(10**-6.5,0.3)\n",
    "    plt.ylim(-6,0)\n",
    "    print(y_val)\n",
    "    \n",
    "    "
   ]
  },
  {
   "cell_type": "code",
   "execution_count": 85,
   "metadata": {},
   "outputs": [
    {
     "name": "stdout",
     "output_type": "stream",
     "text": [
      "[1, 2, 3, 4, 5, 6, 7, 8, 9, 10, 11, 12, 13, 14, 15, 16, 17, 18, 19, 20, 21, 22]\n",
      "22\n",
      "22\n"
     ]
    },
    {
     "name": "stderr",
     "output_type": "stream",
     "text": [
      "/storage/BonnieH/anaconda/lib/python3.7/site-packages/ipykernel_launcher.py:111: RuntimeWarning: divide by zero encountered in log10\n",
      "/storage/BonnieH/anaconda/lib/python3.7/site-packages/ipykernel_launcher.py:92: RuntimeWarning: divide by zero encountered in log10\n"
     ]
    },
    {
     "name": "stdout",
     "output_type": "stream",
     "text": [
      "weird\n",
      "weird\n",
      "weird\n",
      "weird\n",
      "4388\n",
      "725\n",
      "Size of each bin\n",
      "38\n",
      "40\n",
      "28\n",
      "34\n",
      "45\n",
      "43\n",
      "42\n",
      "39\n",
      "51\n",
      "57\n",
      "32\n",
      "34\n",
      "25\n",
      "26\n",
      "33\n",
      "42\n",
      "36\n",
      "32\n",
      "26\n",
      "18\n",
      "[0.5526315789473685, 0.5, 0.35714285714285715, 0.47058823529411764, 0.3333333333333333, 0.5581395348837209, 0.5952380952380952, 0.5641025641025641, 0.47058823529411764, 0.49122807017543857, 0.65625, 0.7058823529411765, 0.44, 0.4230769230769231, 0.2727272727272727, 0.42857142857142855, 0.5555555555555556, 0.5625, 0.6153846153846154, 0.5]\n",
      "CPU times: user 1.49 s, sys: 26.3 ms, total: 1.51 s\n",
      "Wall time: 1.48 s\n"
     ]
    },
    {
     "name": "stderr",
     "output_type": "stream",
     "text": [
      "/storage/BonnieH/anaconda/lib/python3.7/site-packages/ipykernel_launcher.py:173: DeprecationWarning: Calling np.sum(generator) is deprecated, and in the future will give a different result. Use np.sum(np.fromiter(generator)) or the python sum builtin instead.\n"
     ]
    },
    {
     "data": {
      "image/png": "[encoded data removed]",
      "text/plain": [
       "<Figure size 432x288 with 1 Axes>"
      ]
     },
     "metadata": {
      "needs_background": "light"
     },
     "output_type": "display_data"
    },
    {
     "data": {
      "image/png": "[encoded data removed]",
      "text/plain": [
       "<Figure size 432x288 with 1 Axes>"
      ]
     },
     "metadata": {
      "needs_background": "light"
     },
     "output_type": "display_data"
    }
   ],
   "source": [
    "%%time\n",
    "if __name__ == '__main__':\n",
    "    main()"
   ]
  }
 ],
 "metadata": {
  "kernelspec": {
   "display_name": "Python 3",
   "language": "python",
   "name": "python3"
  },
  "language_info": {
   "codemirror_mode": {
    "name": "ipython",
    "version": 3
   },
   "file_extension": ".py",
   "mimetype": "text/x-python",
   "name": "python",
   "nbconvert_exporter": "python",
   "pygments_lexer": "ipython3",
   "version": "3.7.4"
  }
 },
 "nbformat": 4,
 "nbformat_minor": 2
}
