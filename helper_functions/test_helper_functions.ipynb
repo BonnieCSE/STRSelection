{
 "cells": [
  {
   "cell_type": "code",
   "execution_count": 3,
   "metadata": {},
   "outputs": [
    {
     "name": "stdout",
     "output_type": "stream",
     "text": [
      "[0.44999999999999996, 0.2, 0.35]\n",
      "[0.16, 0.14, 0.15, 0.2, 0.05, 0.1, 0.19999999999999998]\n"
     ]
    }
   ],
   "source": [
    "from ABC_functions import *\n",
    "\n",
    "# Test case 1\n",
    "allele_freqs = [0.3, 0.15, 0.2, 0.05, 0.3]\n",
    "num_bins = 3\n",
    "bins = GetBins(allele_freqs, num_bins)\n",
    "print(bins)\n",
    "\n",
    "# Test case 2\n",
    "allele_freqs = [0.1, 0.06, 0.14, 0.15, 0.2, 0.05, 0.1, 0.02, 0.18]\n",
    "num_bins = 7\n",
    "bins = GetBins(allele_freqs, num_bins)\n",
    "print(bins)"
   ]
  }
 ],
 "metadata": {
  "kernelspec": {
   "display_name": "Python 3",
   "language": "python",
   "name": "python3"
  },
  "language_info": {
   "codemirror_mode": {
    "name": "ipython",
    "version": 3
   },
   "file_extension": ".py",
   "mimetype": "text/x-python",
   "name": "python",
   "nbconvert_exporter": "python",
   "pygments_lexer": "ipython3",
   "version": "3.7.4"
  }
 },
 "nbformat": 4,
 "nbformat_minor": 2
}
